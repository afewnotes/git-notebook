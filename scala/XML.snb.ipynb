{
  "metadata" : {
    "id" : "d9667836-4d0e-43a2-90cf-758f7ac554c2",
    "name" : "XML.snb.ipynb",
    "user_save_timestamp" : "2019-03-07T16:24:26.048Z",
    "auto_save_timestamp" : "1970-01-01T08:00:00.000Z",
    "language_info" : {
      "name" : "scala",
      "file_extension" : "scala",
      "codemirror_mode" : "text/x-scala"
    },
    "trusted" : true,
    "sparkNotebook" : null,
    "customLocalRepo" : null,
    "customRepos" : null,
    "customDeps" : null,
    "customImports" : null,
    "customArgs" : null,
    "customSparkConf" : null,
    "customVars" : null
  },
  "cells" : [ {
    "metadata" : {
      "id" : "133D53E9F61A4C888AAA04D35893B1EF"
    },
    "cell_type" : "markdown",
    "source" : "#### XML literals"
  }, {
    "metadata" : {
      "trusted" : true,
      "input_collapsed" : false,
      "collapsed" : false,
      "id" : "98F84DA8516C475187B22FFC937CA228"
    },
    "cell_type" : "code",
    "source" : [ "import scala.xml._" ],
    "outputs" : [ {
      "name" : "stdout",
      "output_type" : "stream",
      "text" : "import scala.xml._\n"
    }, {
      "metadata" : { },
      "data" : {
        "text/html" : ""
      },
      "output_type" : "execute_result",
      "execution_count" : 4,
      "time" : "Took: 0.544s, at 2019-03-07 16:59"
    } ]
  }, {
    "metadata" : {
      "trusted" : true,
      "input_collapsed" : false,
      "collapsed" : false,
      "id" : "AAE22EB015D94DDD8B11E9CE223728BC"
    },
    "cell_type" : "code",
    "source" : [ "val doc = <html><head><title>Fred's Memoirs</title></head><body>test xml </body></html>" ],
    "outputs" : [ {
      "name" : "stdout",
      "output_type" : "stream",
      "text" : "doc: scala.xml.Elem = <html><head><title>Fred's Memoirs</title></head><body>test xml </body></html>\n"
    }, {
      "metadata" : { },
      "data" : {
        "text/html" : ""
      },
      "output_type" : "execute_result",
      "execution_count" : 1,
      "time" : "Took: 1.105s, at 2019-03-07 14:14"
    } ]
  }, {
    "metadata" : {
      "trusted" : true,
      "input_collapsed" : false,
      "collapsed" : false,
      "id" : "FBCA3A539FB5497086190CFF223E5500"
    },
    "cell_type" : "code",
    "source" : [ "val elem = <a href=\"http://scala-lang.org\">The <em>Scala</em> language</a>\n", "println(elem.label)\n", "println(elem.child) // node sequences\n", "\n", "for (n <- elem.child) println(n)" ],
    "outputs" : [ {
      "name" : "stdout",
      "output_type" : "stream",
      "text" : "a\nArrayBuffer(The , <em>Scala</em>,  language)\nThe \n<em>Scala</em>\n language\nelem: scala.xml.Elem = <a href=\"http://scala-lang.org\">The <em>Scala</em> language</a>\n"
    }, {
      "metadata" : { },
      "data" : {
        "text/html" : ""
      },
      "output_type" : "execute_result",
      "execution_count" : 1,
      "time" : "Took: 0.893s, at 2019-03-07 15:14"
    } ]
  }, {
    "metadata" : {
      "id" : "2AB36824767C4E37967AC8C35343602A"
    },
    "cell_type" : "markdown",
    "source" : "#### Attributes"
  }, {
    "metadata" : {
      "trusted" : true,
      "input_collapsed" : false,
      "collapsed" : false,
      "id" : "10C5744C9D41462E80DEF410C9DA4407"
    },
    "cell_type" : "code",
    "source" : [ "val elem = <a href=\"http://scala-lang.org\">The Scala language</a>\n", "var meta = elem.attributes " ],
    "outputs" : [ {
      "name" : "stdout",
      "output_type" : "stream",
      "text" : "elem: scala.xml.Elem = <a href=\"http://scala-lang.org\">The Scala language</a>\nmeta: scala.xml.MetaData =  href=\"http://scala-lang.org\"\n"
    }, {
      "metadata" : { },
      "data" : {
        "text/html" : ""
      },
      "output_type" : "execute_result",
      "execution_count" : 1,
      "time" : "Took: 0.606s, at 2019-03-07 15:33"
    } ]
  }, {
    "metadata" : {
      "id" : "40F4642A049342688548D4EF2D6D9C2F"
    },
    "cell_type" : "markdown",
    "source" : "`attributes` yields an object of type MetaData，like a Map from keys to values\n\nuse `()` operator to access the value , yields a node sequence"
  }, {
    "metadata" : {
      "trusted" : true,
      "input_collapsed" : false,
      "collapsed" : false,
      "id" : "CD1B7FE1342D4E1E8F513A0F19FFD3BB"
    },
    "cell_type" : "code",
    "source" : [ "val url = elem.attributes(\"href\")\n", "\n", "val image = <img alt=\"San Jos&eacute; State University Logo\" src=\"http://www.sjsu.edu/publicaffairs/pics/sjsu_logo_color_web.jpg\"/>\n", "val alt = image.attributes(\"alt\") " ],
    "outputs" : [ {
      "name" : "stdout",
      "output_type" : "stream",
      "text" : "url: Seq[scala.xml.Node] = http://scala-lang.org\nimage: scala.xml.Elem = <img alt=\"San Jos&eacute; State University Logo\" src=\"http://www.sjsu.edu/publicaffairs/pics/sjsu_logo_color_web.jpg\"/>\nalt: Seq[scala.xml.Node] = ArrayBuffer(San Jos, &eacute;,  State University Logo)\n"
    }, {
      "metadata" : { },
      "data" : {
        "text/html" : ""
      },
      "output_type" : "execute_result",
      "execution_count" : 2,
      "time" : "Took: 0.622s, at 2019-03-07 15:34"
    } ]
  }, {
    "metadata" : {
      "id" : "8B8F5C243EA94314823FDF1AA2A549C0"
    },
    "cell_type" : "markdown",
    "source" : "turn node sequence into a string by `.text`"
  }, {
    "metadata" : {
      "trusted" : true,
      "input_collapsed" : false,
      "collapsed" : false,
      "id" : "270447B503CD4211B927A25BD9F9F9F1"
    },
    "cell_type" : "code",
    "source" : [ "alt.text" ],
    "outputs" : [ {
      "name" : "stdout",
      "output_type" : "stream",
      "text" : "res36: String = San Jos&eacute; State University Logo\n"
    }, {
      "metadata" : { },
      "data" : {
        "text/html" : "San Jos&amp;eacute; State University Logo"
      },
      "output_type" : "execute_result",
      "execution_count" : 3,
      "time" : "Took: 0.779s, at 2019-03-07 15:34"
    } ]
  }, {
    "metadata" : {
      "id" : "D7C76996D2EB4AC69D7E47E772CCAC68"
    },
    "cell_type" : "markdown",
    "source" : "turn node sequence into a map by `asAttrMap`"
  }, {
    "metadata" : {
      "trusted" : true,
      "input_collapsed" : false,
      "collapsed" : false,
      "presentation" : {
        "tabs_state" : "{\n  \"tab_id\": \"#tab16358670-0\"\n}",
        "pivot_chart_state" : "{\n  \"hiddenAttributes\": [],\n  \"menuLimit\": 200,\n  \"cols\": [],\n  \"rows\": [],\n  \"vals\": [],\n  \"exclusions\": {},\n  \"inclusions\": {},\n  \"unusedAttrsVertical\": 85,\n  \"autoSortUnusedAttrs\": false,\n  \"inclusionsInfo\": {},\n  \"aggregatorName\": \"Count\",\n  \"rendererName\": \"Table\"\n}"
      },
      "id" : "5347932D5BC14D7987CA0B0018A9CE4B"
    },
    "cell_type" : "code",
    "source" : [ "meta.asAttrMap" ],
    "outputs" : [ {
      "name" : "stdout",
      "output_type" : "stream",
      "text" : "res38: Map[String,String] = Map(href -> http://scala-lang.org)\n"
    }, {
      "metadata" : { },
      "data" : {
        "text/html" : "<div>\n      <script data-this=\"{&quot;dataId&quot;:&quot;anon95b872d67a08ca8b659aad8751aed3ff&quot;,&quot;dataInit&quot;:[],&quot;genId&quot;:&quot;16358670&quot;}\" type=\"text/x-scoped-javascript\">/*<![CDATA[*/req(['../javascripts/notebook/playground','../javascripts/notebook/magic/tabs'], \n      function(playground, _magictabs) {\n        // data ==> data-this (in observable.js's scopedEval) ==> this in JS => { dataId, dataInit, ... }\n        // this ==> scope (in observable.js's scopedEval) ==> this.parentElement ==> div.container below (toHtml)\n\n        playground.call(data,\n                        this\n                        ,\n                        {\n    \"f\": _magictabs,\n    \"o\": {}\n  }\n  \n                        \n                        \n                      );\n      }\n    );/*]]>*/</script>\n    <div>\n      <div>\n        <ul class=\"nav nav-tabs\" id=\"ul16358670\"><li>\n              <a href=\"#tab16358670-0\"><i class=\"fa fa-table\"/></a>\n            </li><li>\n              <a href=\"#tab16358670-1\"><i class=\"fa fa-pie-chart\"/></a>\n            </li><li>\n              <a href=\"#tab16358670-2\"><i class=\"fa fa-cubes\"/></a>\n            </li></ul>\n\n        <div class=\"tab-content\" id=\"tab16358670\"><div class=\"tab-pane\" id=\"tab16358670-0\">\n            <div>\n      <script data-this=\"{&quot;dataId&quot;:&quot;anond5d2444767603805ad8665d1a190372f&quot;,&quot;dataInit&quot;:[{&quot;_1&quot;:&quot;href&quot;,&quot;_2&quot;:&quot;http://scala-lang.org&quot;}],&quot;genId&quot;:&quot;675919229&quot;}\" type=\"text/x-scoped-javascript\">/*<![CDATA[*/req(['../javascripts/notebook/playground','../javascripts/notebook/magic/tableChart'], \n      function(playground, _magictableChart) {\n        // data ==> data-this (in observable.js's scopedEval) ==> this in JS => { dataId, dataInit, ... }\n        // this ==> scope (in observable.js's scopedEval) ==> this.parentElement ==> div.container below (toHtml)\n\n        playground.call(data,\n                        this\n                        ,\n                        {\n    \"f\": _magictableChart,\n    \"o\": {\"headers\":[\"_1\",\"_2\"],\"width\":600,\"height\":400}\n  }\n  \n                        \n                        \n                      );\n      }\n    );/*]]>*/</script>\n    <div>\n      <span class=\"chart-total-item-count\"><p data-bind=\"text: value\"><script data-this=\"{&quot;valueId&quot;:&quot;anon903f4a4e77bc155e6fd7d3d636b45864&quot;,&quot;initialValue&quot;:&quot;1&quot;}\" type=\"text/x-scoped-javascript\">/*<![CDATA[*/\nreq(\n['observable', 'knockout'],\nfunction (O, ko) {\n  ko.applyBindings({\n      value: O.makeObservable(valueId, initialValue)\n    },\n    this\n  );\n});\n        /*]]>*/</script></p> entries total</span>\n      <span class=\"chart-sampling-warning\"><p data-bind=\"text: value\"><script data-this=\"{&quot;valueId&quot;:&quot;anonaa0f5da7eec0ecbcf2b9de62271ef58a&quot;,&quot;initialValue&quot;:&quot;&quot;}\" type=\"text/x-scoped-javascript\">/*<![CDATA[*/\nreq(\n['observable', 'knockout'],\nfunction (O, ko) {\n  ko.applyBindings({\n      value: O.makeObservable(valueId, initialValue)\n    },\n    this\n  );\n});\n        /*]]>*/</script></p></span>\n      <div>\n      </div>\n    </div></div>\n            </div><div class=\"tab-pane\" id=\"tab16358670-1\">\n            <div>\n      <script data-this=\"{&quot;dataId&quot;:&quot;anon927d15808defcea574e2580ceadfd77d&quot;,&quot;dataInit&quot;:[{&quot;_1&quot;:&quot;href&quot;,&quot;_2&quot;:&quot;http://scala-lang.org&quot;}],&quot;genId&quot;:&quot;1344741368&quot;}\" type=\"text/x-scoped-javascript\">/*<![CDATA[*/req(['../javascripts/notebook/playground','../javascripts/notebook/magic/pieChart'], \n      function(playground, _magicpieChart) {\n        // data ==> data-this (in observable.js's scopedEval) ==> this in JS => { dataId, dataInit, ... }\n        // this ==> scope (in observable.js's scopedEval) ==> this.parentElement ==> div.container below (toHtml)\n\n        playground.call(data,\n                        this\n                        ,\n                        {\n    \"f\": _magicpieChart,\n    \"o\": {\"series\":\"_1\",\"p\":\"_2\",\"width\":600,\"height\":400}\n  }\n  \n                        \n                        \n                      );\n      }\n    );/*]]>*/</script>\n    <div>\n      <span class=\"chart-total-item-count\"><p data-bind=\"text: value\"><script data-this=\"{&quot;valueId&quot;:&quot;anon9716f99cf4a79aa4721146d76fc5c010&quot;,&quot;initialValue&quot;:&quot;1&quot;}\" type=\"text/x-scoped-javascript\">/*<![CDATA[*/\nreq(\n['observable', 'knockout'],\nfunction (O, ko) {\n  ko.applyBindings({\n      value: O.makeObservable(valueId, initialValue)\n    },\n    this\n  );\n});\n        /*]]>*/</script></p> entries total</span>\n      <span class=\"chart-sampling-warning\"><p data-bind=\"text: value\"><script data-this=\"{&quot;valueId&quot;:&quot;anon96cb7658e18e18d32aef8ac75328e995&quot;,&quot;initialValue&quot;:&quot;&quot;}\" type=\"text/x-scoped-javascript\">/*<![CDATA[*/\nreq(\n['observable', 'knockout'],\nfunction (O, ko) {\n  ko.applyBindings({\n      value: O.makeObservable(valueId, initialValue)\n    },\n    this\n  );\n});\n        /*]]>*/</script></p></span>\n      <div>\n      </div>\n    </div></div>\n            </div><div class=\"tab-pane\" id=\"tab16358670-2\">\n            <div>\n      <script data-this=\"{&quot;dataId&quot;:&quot;anon2af4f1bcbdd58fa73f0550a062732337&quot;,&quot;dataInit&quot;:[{&quot;_1&quot;:&quot;href&quot;,&quot;_2&quot;:&quot;http://scala-lang.org&quot;}],&quot;genId&quot;:&quot;1379375898&quot;}\" type=\"text/x-scoped-javascript\">/*<![CDATA[*/req(['../javascripts/notebook/playground','../javascripts/notebook/magic/pivotChart'], \n      function(playground, _magicpivotChart) {\n        // data ==> data-this (in observable.js's scopedEval) ==> this in JS => { dataId, dataInit, ... }\n        // this ==> scope (in observable.js's scopedEval) ==> this.parentElement ==> div.container below (toHtml)\n\n        playground.call(data,\n                        this\n                        ,\n                        {\n    \"f\": _magicpivotChart,\n    \"o\": {\"width\":600,\"height\":400,\"derivedAttributes\":{},\"extraOptions\":{}}\n  }\n  \n                        \n                        \n                      );\n      }\n    );/*]]>*/</script>\n    <div>\n      <span class=\"chart-total-item-count\"><p data-bind=\"text: value\"><script data-this=\"{&quot;valueId&quot;:&quot;anonb4beaa8d716a90e72727a61f4d80cf9f&quot;,&quot;initialValue&quot;:&quot;1&quot;}\" type=\"text/x-scoped-javascript\">/*<![CDATA[*/\nreq(\n['observable', 'knockout'],\nfunction (O, ko) {\n  ko.applyBindings({\n      value: O.makeObservable(valueId, initialValue)\n    },\n    this\n  );\n});\n        /*]]>*/</script></p> entries total</span>\n      <span class=\"chart-sampling-warning\"><p data-bind=\"text: value\"><script data-this=\"{&quot;valueId&quot;:&quot;anon63f823a51811fdafe0251d9de937c0e1&quot;,&quot;initialValue&quot;:&quot;&quot;}\" type=\"text/x-scoped-javascript\">/*<![CDATA[*/\nreq(\n['observable', 'knockout'],\nfunction (O, ko) {\n  ko.applyBindings({\n      value: O.makeObservable(valueId, initialValue)\n    },\n    this\n  );\n});\n        /*]]>*/</script></p></span>\n      <div>\n      </div>\n    </div></div>\n            </div></div>\n      </div>\n    </div></div>"
      },
      "output_type" : "execute_result",
      "execution_count" : 1,
      "time" : "Took: 0.804s, at 2019-03-07 15:38"
    } ]
  }, {
    "metadata" : {
      "id" : "A28827A46FD24CF7A17328A59AA51080"
    },
    "cell_type" : "markdown",
    "source" : "#### Embedded Expressions"
  }, {
    "metadata" : {
      "trusted" : true,
      "input_collapsed" : false,
      "collapsed" : false,
      "id" : "B79D82E41F4242A2A90F416300834521"
    },
    "cell_type" : "code",
    "source" : [ "<ul>{for (i <- 1 to 5) yield <li>option {i}</li>}</ul> //scala block inside a scala block" ],
    "outputs" : [ {
      "name" : "stdout",
      "output_type" : "stream",
      "text" : "res51: scala.xml.Elem = <ul><li>option 1</li><li>option 2</li><li>option 3</li><li>option 4</li><li>option 5</li></ul>\n"
    }, {
      "metadata" : { },
      "data" : {
        "text/html" : "<ul><li>option 1</li><li>option 2</li><li>option 3</li><li>option 4</li><li>option 5</li></ul>"
      },
      "output_type" : "execute_result",
      "execution_count" : 6,
      "time" : "Took: 0.797s, at 2019-03-07 15:47"
    } ]
  }, {
    "metadata" : {
      "trusted" : true,
      "input_collapsed" : false,
      "collapsed" : false,
      "id" : "1DB317B4CE82494688D2D587665E01AB"
    },
    "cell_type" : "code",
    "source" : [ "//producing braces\n", "<h3>The Natural Numbers {{1, 2, 3, ...}}</h3>" ],
    "outputs" : [ {
      "name" : "stdout",
      "output_type" : "stream",
      "text" : "res55: scala.xml.Elem = <h3>The Natural Numbers {1, 2, 3, ...}</h3>\n"
    }, {
      "metadata" : { },
      "data" : {
        "text/html" : "<h3>The Natural Numbers {1, 2, 3, ...}</h3>"
      },
      "output_type" : "execute_result",
      "execution_count" : 8,
      "time" : "Took: 0.783s, at 2019-03-07 15:48"
    } ]
  }, {
    "metadata" : {
      "id" : "99E514C8345E41B0B0D48FA97930E1C7"
    },
    "cell_type" : "markdown",
    "source" : "compute attribute with expression"
  }, {
    "metadata" : {
      "trusted" : true,
      "input_collapsed" : false,
      "collapsed" : false,
      "id" : "31AEE59F7EE74C0EA757D6515DE9D4C7"
    },
    "cell_type" : "code",
    "source" : [ "<a att1={if (true) \"desc1\" else \"desc\"} href=\"#\">empty link</a>" ],
    "outputs" : [ {
      "name" : "stdout",
      "output_type" : "stream",
      "text" : "res61: scala.xml.Elem = <a att1=\"desc1\" href=\"#\">empty link</a>\n"
    }, {
      "metadata" : { },
      "data" : {
        "text/html" : "<a att1=\"desc1\" href=\"#\">empty link</a>"
      },
      "output_type" : "execute_result",
      "execution_count" : 2,
      "time" : "Took: 0.785s, at 2019-03-07 15:52"
    } ]
  }, {
    "metadata" : {
      "id" : "C5BD73D931F3450C9B00E72474A8310A"
    },
    "cell_type" : "markdown",
    "source" : "#### CDATA"
  }, {
    "metadata" : {
      "trusted" : true,
      "input_collapsed" : false,
      "collapsed" : false,
      "id" : "F5FF536EF4C94726B12E7ABC56A2FB05"
    },
    "cell_type" : "code",
    "source" : [ "val js = <script><![CDATA[ alert(\"Cold!\")]]></script>\n", "\n", "val g1 = <xml:group><li>Item 1</li><li>Item 2</li></xml:group>\n", "val g2 = Group(Seq(<li>Item 1</li>, <li>Item 2</li>))\n", "\n", "// iterate\n", "val items = <li>Item 1</li><li>Item 2</li>\n", "for (n <- <xml:group>{items}</xml:group>) yield n\n", "// Yields two li elements\n", "for (n <- <ol>{items}</ol>) yield n\n", "// Yields one ol element" ],
    "outputs" : [ {
      "name" : "stdout",
      "output_type" : "stream",
      "text" : "js: scala.xml.Elem = <script> alert(&quot;Cold!&quot;)</script>\ng1: scala.xml.Group = <li>Item 1</li><li>Item 2</li>\ng2: scala.xml.Group = <li>Item 1</li><li>Item 2</li>\nitems: scala.xml.NodeBuffer = ArrayBuffer(<li>Item 1</li>, <li>Item 2</li>)\nres68: scala.xml.NodeSeq = NodeSeq(<ol><li>Item 1</li><li>Item 2</li></ol>)\n"
    }, {
      "metadata" : { },
      "data" : {
        "text/html" : "<ol><li>Item 1</li><li>Item 2</li></ol>"
      },
      "output_type" : "execute_result",
      "execution_count" : 6,
      "time" : "Took: 0.843s, at 2019-03-07 15:56"
    } ]
  }, {
    "metadata" : {
      "id" : "EC0D52B486D14AEBBE807787EDA47021"
    },
    "cell_type" : "markdown",
    "source" : "#### XPath-like"
  }, {
    "metadata" : {
      "id" : "01D01B765807453DB1300E8DBD37F317"
    },
    "cell_type" : "markdown",
    "source" : "> use `\\` ,`\\\\` replace `/` ,`//` (`//` denotes comments)"
  }, {
    "metadata" : {
      "trusted" : true,
      "input_collapsed" : false,
      "collapsed" : false,
      "id" : "7BA449D7FE1145508A58EFCA2FCF358F"
    },
    "cell_type" : "code",
    "source" : [ "val list = <dl><dt>Java</dt><dd>Gosling</dd><dt>Scala</dt><dd>Odersky</dd></dl>\n", "val languages = list \\ \"dt\"" ],
    "outputs" : [ {
      "name" : "stdout",
      "output_type" : "stream",
      "text" : "list: scala.xml.Elem = <dl><dt>Java</dt><dd>Gosling</dd><dt>Scala</dt><dd>Odersky</dd></dl>\nlanguages: scala.xml.NodeSeq = NodeSeq(<dt>Java</dt>, <dt>Scala</dt>)\n"
    }, {
      "metadata" : { },
      "data" : {
        "text/html" : ""
      },
      "output_type" : "execute_result",
      "execution_count" : 1,
      "time" : "Took: 0.606s, at 2019-03-07 16:02"
    } ]
  }, {
    "metadata" : {
      "id" : "EBF1A7A3499247069F5C924C24EDB4C4"
    },
    "cell_type" : "markdown",
    "source" : "`_` wildcard, matches any element "
  }, {
    "metadata" : {
      "trusted" : true,
      "input_collapsed" : false,
      "collapsed" : false,
      "id" : "4E196F35122A438884EF28C03BAFBE9D"
    },
    "cell_type" : "code",
    "source" : [ "val long = <html><body><ul data=\"ul\">{for (i <- 1 to 2) yield <li>a{i}</li>}</ul><ol data=\"ol\">{for (i <- 1 to 2) yield <li>b{i}</li>}</ol></body></html>\n", "long \\ \"html\" \\ \"_\" \\ \"li\"  // matches nothing\n", "long \\ \"body\" \\ \"_\" \\ \"li\" //matches all li" ],
    "outputs" : [ {
      "name" : "stdout",
      "output_type" : "stream",
      "text" : "long: scala.xml.Elem = <html><body><ul data=\"ul\"><li>a1</li><li>a2</li></ul><ol data=\"ol\"><li>b1</li><li>b2</li></ol></body></html>\nres4: scala.xml.NodeSeq = NodeSeq(<li>a1</li>, <li>a2</li>, <li>b1</li>, <li>b2</li>)\n"
    }, {
      "metadata" : { },
      "data" : {
        "text/html" : "<li>a1</li><li>a2</li><li>b1</li><li>b2</li>"
      },
      "output_type" : "execute_result",
      "execution_count" : 3,
      "time" : "Took: 1.357s, at 2019-03-07 16:41"
    } ]
  }, {
    "metadata" : {
      "id" : "9906A407627A4DBE880A2173DDC5D015"
    },
    "cell_type" : "markdown",
    "source" : "`\\\\` locates descendants at any depth"
  }, {
    "metadata" : {
      "trusted" : true,
      "input_collapsed" : false,
      "collapsed" : false,
      "id" : "0BF8CB73D977421A9EBA43675B0500F3"
    },
    "cell_type" : "code",
    "source" : [ "long \\\\ \"li\"" ],
    "outputs" : [ {
      "name" : "stdout",
      "output_type" : "stream",
      "text" : "res90: scala.xml.NodeSeq = NodeSeq(<li>a1</li>, <li>a2</li>, <li>b1</li>, <li>b2</li>)\n"
    }, {
      "metadata" : { },
      "data" : {
        "text/html" : "<li>a1</li><li>a2</li><li>b1</li><li>b2</li>"
      },
      "output_type" : "execute_result",
      "execution_count" : 3,
      "time" : "Took: 0.679s, at 2019-03-07 16:14"
    } ]
  }, {
    "metadata" : {
      "id" : "76BEED5D44924843BD92C866890888F4"
    },
    "cell_type" : "markdown",
    "source" : "`@` locates attributes   (no wildcard for this)"
  }, {
    "metadata" : {
      "trusted" : true,
      "input_collapsed" : false,
      "collapsed" : false,
      "id" : "AAA12B8017D046CE924BF122B3C5CDD6"
    },
    "cell_type" : "code",
    "source" : [ "long \\\\ \"@data\"" ],
    "outputs" : [ {
      "name" : "stdout",
      "output_type" : "stream",
      "text" : "res96: scala.xml.NodeSeq = NodeSeq(ul, ol)\n"
    }, {
      "metadata" : { },
      "data" : {
        "text/html" : "ulol"
      },
      "output_type" : "execute_result",
      "execution_count" : 3,
      "time" : "Took: 0.710s, at 2019-03-07 16:16"
    } ]
  }, {
    "metadata" : {
      "trusted" : true,
      "input_collapsed" : false,
      "collapsed" : true,
      "id" : "08C47FB4EF9B453B8A2285949D93947F"
    },
    "cell_type" : "markdown",
    "source" : "#### Pattern Matching"
  }, {
    "metadata" : {
      "trusted" : true,
      "input_collapsed" : false,
      "collapsed" : false,
      "id" : "63E453523AA240CFB7F14FCD78DB0D5A"
    },
    "cell_type" : "code",
    "source" : [ "val m  = <li><img alt=\"image\"/><a href=\"#\">test</a></li>\n", "\n", "m match {\n", "//   case <li>{_}</li> => println(1)  // match one element\n", "//   case <li>{_*}</li> => println(2) // match multi element\n", "  case <li>{children @ _*}</li> => { // bind a variable\n", "    println(children)\n", "    for(c <- children) println(c)\n", "  }\n", "  case _ => None\n", "}" ],
    "outputs" : [ {
      "name" : "stdout",
      "output_type" : "stream",
      "text" : "ArrayBuffer(<img alt=\"image\"/>, <a href=\"#\">test</a>)\n<img alt=\"image\"/>\n<a href=\"#\">test</a>\nm: scala.xml.Elem = <li><img alt=\"image\"/><a href=\"#\">test</a></li>\nres22: Any = ()\n"
    }, {
      "metadata" : { },
      "data" : {
        "text/html" : "()"
      },
      "output_type" : "execute_result",
      "execution_count" : 5,
      "time" : "Took: 0.764s, at 2019-03-07 16:46"
    } ]
  }, {
    "metadata" : {
      "id" : "F4AE153CE3D14B7C81F3B1D7B7F4B036"
    },
    "cell_type" : "markdown",
    "source" : "**Note:** `case` clause should have only one element and can't have attributes"
  }, {
    "metadata" : {
      "id" : "0F95DB55E4B44A5A9184CF330632D67E"
    },
    "cell_type" : "markdown",
    "source" : "#### Modifying"
  }, {
    "metadata" : {
      "id" : "943F86C9F969486883448518A3662D9B"
    },
    "cell_type" : "markdown",
    "source" : "before edit, have to create a copy"
  }, {
    "metadata" : {
      "id" : "43B55800C574457B8CA40157D0FADF18"
    },
    "cell_type" : "markdown",
    "source" : "`copy(label, attributes, child, prefix, scope)`  paramaters are _named parameters_，specify changed paramters"
  }, {
    "metadata" : {
      "trusted" : true,
      "input_collapsed" : false,
      "collapsed" : false,
      "id" : "D40EF8541C044C37BA6EDBDB97BC4F15"
    },
    "cell_type" : "code",
    "source" : [ "val list = <ul><li>Fred</li><li>Wilma</li></ul>\n", "val list2 = list.copy(label = \"ol\")" ],
    "outputs" : [ {
      "name" : "stdout",
      "output_type" : "stream",
      "text" : "list: scala.xml.Elem = <ul><li>Fred</li><li>Wilma</li></ul>\nlist2: scala.xml.Elem = <ol><li>Fred</li><li>Wilma</li></ol>\n"
    }, {
      "metadata" : { },
      "data" : {
        "text/html" : ""
      },
      "output_type" : "execute_result",
      "execution_count" : 1,
      "time" : "Took: 0.672s, at 2019-03-07 16:52"
    } ]
  }, {
    "metadata" : {
      "trusted" : true,
      "input_collapsed" : false,
      "collapsed" : false,
      "id" : "2A6991FAA2064F33861975E6E0F4C2B2"
    },
    "cell_type" : "code",
    "source" : [ "list.copy(child = list.child ++ <li> add a child</li>)" ],
    "outputs" : [ {
      "name" : "stdout",
      "output_type" : "stream",
      "text" : "res27: scala.xml.Elem = <ul><li>Fred</li><li>Wilma</li><li> add a child</li></ul>\n"
    }, {
      "metadata" : { },
      "data" : {
        "text/html" : "<ul><li>Fred</li><li>Wilma</li><li> add a child</li></ul>"
      },
      "output_type" : "execute_result",
      "execution_count" : 2,
      "time" : "Took: 0.818s, at 2019-03-07 16:58"
    } ]
  }, {
    "metadata" : {
      "trusted" : true,
      "input_collapsed" : false,
      "collapsed" : false,
      "id" : "4FC96FC2BEBE4DC499E65B9ED5D7F67B"
    },
    "cell_type" : "code",
    "source" : [ "val image = <img src=\"hamster.jpg\"/>\n", "val image2 = image % Attribute(null, \"alt\", \"add an attribute\", Null)\n", "val image3 = image % Attribute(null, \"alt\", \"add more then one attribute\",Attribute(null, \"src\", \"updateAttribute.jpg\", Null))" ],
    "outputs" : [ {
      "name" : "stdout",
      "output_type" : "stream",
      "text" : "image: scala.xml.Elem = <img src=\"hamster.jpg\"/>\nimage2: scala.xml.Elem = <img alt=\"add an attribute\" src=\"hamster.jpg\"/>\nimage3: scala.xml.Elem = <img src=\"updateAttribute.jpg\" alt=\"add more then one attribute\"/>\n"
    }, {
      "metadata" : { },
      "data" : {
        "text/html" : ""
      },
      "output_type" : "execute_result",
      "execution_count" : 10,
      "time" : "Took: 0.624s, at 2019-03-07 17:01"
    } ]
  }, {
    "metadata" : {
      "id" : "F9B5161014DC45978917462FEF3B5306"
    },
    "cell_type" : "markdown",
    "source" : "#### Transforming"
  }, {
    "metadata" : {
      "trusted" : true,
      "input_collapsed" : false,
      "collapsed" : false,
      "id" : "5812150F71D4436D8C569D221D030567"
    },
    "cell_type" : "code",
    "source" : [ "import scala.xml.transform._\n", "val rule1 = new RewriteRule {\n", "  override def transform(n: Node) = n match {\n", "    case e @ <ul>{_*}</ul> => e.asInstanceOf[Elem].copy(label = \"ol\")\n", "    case _ => n\n", "  }\n", "}\n", "val transformed = new RuleTransformer(rule1).transform(list)\n", "// can apply any number of rules\n", "// val transformer = new RuleTransformer(rule1, rule2, rule3);" ],
    "outputs" : [ {
      "name" : "stdout",
      "output_type" : "stream",
      "text" : "import scala.xml.transform._\nrule1: scala.xml.transform.RewriteRule = <function1>\ntransformed: Seq[scala.xml.Node] = List(<ol><li>Fred</li><li>Wilma</li></ol>)\n"
    }, {
      "metadata" : { },
      "data" : {
        "text/html" : ""
      },
      "output_type" : "execute_result",
      "execution_count" : 3,
      "time" : "Took: 0.704s, at 2019-03-07 17:12"
    } ]
  } ],
  "nbformat" : 4
}