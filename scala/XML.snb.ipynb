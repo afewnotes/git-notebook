{
 "cells": [
  {
   "cell_type": "markdown",
   "metadata": {
    "id": "133D53E9F61A4C888AAA04D35893B1EF"
   },
   "source": [
    "#### XML literals"
   ]
  },
  {
   "cell_type": "code",
   "execution_count": null,
   "metadata": {
    "collapsed": false,
    "id": "34977494936A463B88D00155DC1324BB",
    "input_collapsed": false
   },
   "outputs": [
    {
     "name": "stdout",
     "output_type": "stream",
     "text": [
      "import scala.xml._\n"
     ]
    },
    {
     "data": {
      "text/html": []
     },
     "execution_count": 178,
     "metadata": {},
     "output_type": "execute_result",
     "time": "Took: 0.875s, at 2019-03-08 15:57"
    }
   ],
   "source": [
    "import scala.xml._"
   ]
  },
  {
   "cell_type": "code",
   "execution_count": null,
   "metadata": {
    "collapsed": false,
    "id": "C692916F452C4B43A3D67F030DE394E6",
    "input_collapsed": false
   },
   "outputs": [
    {
     "name": "stdout",
     "output_type": "stream",
     "text": [
      "doc: scala.xml.Elem = <html><head><title>Fred's Memoirs</title></head><body>test xml </body></html>\n"
     ]
    },
    {
     "data": {
      "text/html": []
     },
     "execution_count": 181,
     "metadata": {},
     "output_type": "execute_result",
     "time": "Took: 0.956s, at 2019-03-08 15:57"
    }
   ],
   "source": [
    "val doc = <html><head><title>Fred's Memoirs</title></head><body>test xml </body></html>"
   ]
  },
  {
   "cell_type": "code",
   "execution_count": null,
   "metadata": {
    "collapsed": false,
    "id": "56BCC81E168846D18A71C0780574D3FA",
    "input_collapsed": false
   },
   "outputs": [
    {
     "name": "stdout",
     "output_type": "stream",
     "text": [
      "a\n",
      "ArrayBuffer(The , <em>Scala</em>,  language)\n",
      "The \n",
      "<em>Scala</em>\n",
      " language\n",
      "elem: scala.xml.Elem = <a href=\"http://scala-lang.org\">The <em>Scala</em> language</a>\n"
     ]
    },
    {
     "data": {
      "text/html": []
     },
     "execution_count": 179,
     "metadata": {},
     "output_type": "execute_result",
     "time": "Took: 1.310s, at 2019-03-08 15:57"
    }
   ],
   "source": [
    "val elem = <a href=\"http://scala-lang.org\">The <em>Scala</em> language</a>\n",
    "println(elem.label)\n",
    "println(elem.child) // node sequences\n",
    "\n",
    "for (n <- elem.child) println(n)"
   ]
  },
  {
   "cell_type": "markdown",
   "metadata": {
    "id": "2AB36824767C4E37967AC8C35343602A"
   },
   "source": [
    "#### Attributes"
   ]
  },
  {
   "cell_type": "code",
   "execution_count": null,
   "metadata": {
    "collapsed": false,
    "id": "5197DF761C71433EBB0051024ABD093F",
    "input_collapsed": false
   },
   "outputs": [
    {
     "name": "stdout",
     "output_type": "stream",
     "text": [
      "elem: scala.xml.Elem = <a href=\"http://scala-lang.org\">The Scala language</a>\n",
      "meta: scala.xml.MetaData =  href=\"http://scala-lang.org\"\n"
     ]
    },
    {
     "data": {
      "text/html": []
     },
     "execution_count": 182,
     "metadata": {},
     "output_type": "execute_result",
     "time": "Took: 0.994s, at 2019-03-08 15:57"
    }
   ],
   "source": [
    "val elem = <a href=\"http://scala-lang.org\">The Scala language</a>\n",
    "var meta = elem.attributes "
   ]
  },
  {
   "cell_type": "markdown",
   "metadata": {
    "id": "40F4642A049342688548D4EF2D6D9C2F"
   },
   "source": [
    "`attributes` yields an object of type MetaData，like a Map from keys to values\n",
    "\n",
    "use `()` operator to access the value , yields a node sequence"
   ]
  },
  {
   "cell_type": "code",
   "execution_count": null,
   "metadata": {
    "collapsed": false,
    "id": "A0BF8D52083B46B29A5E5C401823848D",
    "input_collapsed": false
   },
   "outputs": [
    {
     "name": "stdout",
     "output_type": "stream",
     "text": [
      "url: Seq[scala.xml.Node] = http://scala-lang.org\n",
      "image: scala.xml.Elem = <img alt=\"San Jos&eacute; State University Logo\" src=\"http://www.sjsu.edu/publicaffairs/pics/sjsu_logo_color_web.jpg\"/>\n",
      "alt: Seq[scala.xml.Node] = ArrayBuffer(San Jos, &eacute;,  State University Logo)\n"
     ]
    },
    {
     "data": {
      "text/html": []
     },
     "execution_count": 183,
     "metadata": {},
     "output_type": "execute_result",
     "time": "Took: 1.049s, at 2019-03-08 15:57"
    }
   ],
   "source": [
    "val url = elem.attributes(\"href\")\n",
    "\n",
    "val image = <img alt=\"San Jos&eacute; State University Logo\" src=\"http://www.sjsu.edu/publicaffairs/pics/sjsu_logo_color_web.jpg\"/>\n",
    "val alt = image.attributes(\"alt\") "
   ]
  },
  {
   "cell_type": "markdown",
   "metadata": {
    "id": "8B8F5C243EA94314823FDF1AA2A549C0"
   },
   "source": [
    "turn node sequence into a string by `.text`"
   ]
  },
  {
   "cell_type": "code",
   "execution_count": null,
   "metadata": {
    "collapsed": false,
    "id": "84BDFFC69C6B4A1FB39E4C0DB49F5CAE",
    "input_collapsed": false
   },
   "outputs": [
    {
     "name": "stdout",
     "output_type": "stream",
     "text": [
      "res261: String = San Jos&eacute; State University Logo\n"
     ]
    },
    {
     "data": {
      "text/html": [
       "San Jos&amp;eacute; State University Logo"
      ]
     },
     "execution_count": 185,
     "metadata": {},
     "output_type": "execute_result",
     "time": "Took: 1.267s, at 2019-03-08 15:57"
    }
   ],
   "source": [
    "alt.text"
   ]
  },
  {
   "cell_type": "markdown",
   "metadata": {
    "id": "D7C76996D2EB4AC69D7E47E772CCAC68"
   },
   "source": [
    "turn node sequence into a map by `asAttrMap`"
   ]
  },
  {
   "cell_type": "code",
   "execution_count": null,
   "metadata": {
    "collapsed": false,
    "id": "626563F7908F451C990568EA3ED4B382",
    "input_collapsed": false,
    "presentation": {
     "pivot_chart_state": "{\n  \"hiddenAttributes\": [],\n  \"menuLimit\": 200,\n  \"cols\": [],\n  \"rows\": [],\n  \"vals\": [],\n  \"exclusions\": {},\n  \"inclusions\": {},\n  \"unusedAttrsVertical\": 85,\n  \"autoSortUnusedAttrs\": false,\n  \"inclusionsInfo\": {},\n  \"aggregatorName\": \"Count\",\n  \"rendererName\": \"Table\"\n}",
     "tabs_state": "{\n  \"tab_id\": \"#tab2127166267-0\"\n}"
    }
   },
   "outputs": [
    {
     "name": "stdout",
     "output_type": "stream",
     "text": [
      "res263: Map[String,String] = Map(href -> http://scala-lang.org)\n"
     ]
    },
    {
     "data": {
      "text/html": [
       "<div>\n",
       "      <script data-this=\"{&quot;dataId&quot;:&quot;anon251f64b46264a841481e10e6b3b43bd1&quot;,&quot;dataInit&quot;:[],&quot;genId&quot;:&quot;2127166267&quot;}\" type=\"text/x-scoped-javascript\">/*<![CDATA[*/req(['../javascripts/notebook/playground','../javascripts/notebook/magic/tabs'], \n",
       "      function(playground, _magictabs) {\n",
       "        // data ==> data-this (in observable.js's scopedEval) ==> this in JS => { dataId, dataInit, ... }\n",
       "        // this ==> scope (in observable.js's scopedEval) ==> this.parentElement ==> div.container below (toHtml)\n",
       "\n",
       "        playground.call(data,\n",
       "                        this\n",
       "                        ,\n",
       "                        {\n",
       "    \"f\": _magictabs,\n",
       "    \"o\": {}\n",
       "  }\n",
       "  \n",
       "                        \n",
       "                        \n",
       "                      );\n",
       "      }\n",
       "    );/*]]>*/</script>\n",
       "    <div>\n",
       "      <div>\n",
       "        <ul class=\"nav nav-tabs\" id=\"ul2127166267\"><li>\n",
       "              <a href=\"#tab2127166267-0\"><i class=\"fa fa-table\"/></a>\n",
       "            </li><li>\n",
       "              <a href=\"#tab2127166267-1\"><i class=\"fa fa-pie-chart\"/></a>\n",
       "            </li><li>\n",
       "              <a href=\"#tab2127166267-2\"><i class=\"fa fa-cubes\"/></a>\n",
       "            </li></ul>\n",
       "\n",
       "        <div class=\"tab-content\" id=\"tab2127166267\"><div class=\"tab-pane\" id=\"tab2127166267-0\">\n",
       "            <div>\n",
       "      <script data-this=\"{&quot;dataId&quot;:&quot;anon8b0400b015508551e02263517ebed9f8&quot;,&quot;dataInit&quot;:[{&quot;_1&quot;:&quot;href&quot;,&quot;_2&quot;:&quot;http://scala-lang.org&quot;}],&quot;genId&quot;:&quot;415168296&quot;}\" type=\"text/x-scoped-javascript\">/*<![CDATA[*/req(['../javascripts/notebook/playground','../javascripts/notebook/magic/tableChart'], \n",
       "      function(playground, _magictableChart) {\n",
       "        // data ==> data-this (in observable.js's scopedEval) ==> this in JS => { dataId, dataInit, ... }\n",
       "        // this ==> scope (in observable.js's scopedEval) ==> this.parentElement ==> div.container below (toHtml)\n",
       "\n",
       "        playground.call(data,\n",
       "                        this\n",
       "                        ,\n",
       "                        {\n",
       "    \"f\": _magictableChart,\n",
       "    \"o\": {\"headers\":[\"_1\",\"_2\"],\"width\":600,\"height\":400}\n",
       "  }\n",
       "  \n",
       "                        \n",
       "                        \n",
       "                      );\n",
       "      }\n",
       "    );/*]]>*/</script>\n",
       "    <div>\n",
       "      <span class=\"chart-total-item-count\"><p data-bind=\"text: value\"><script data-this=\"{&quot;valueId&quot;:&quot;anon4470bbc57836b773b085e6f481bcfaff&quot;,&quot;initialValue&quot;:&quot;1&quot;}\" type=\"text/x-scoped-javascript\">/*<![CDATA[*/\n",
       "req(\n",
       "['observable', 'knockout'],\n",
       "function (O, ko) {\n",
       "  ko.applyBindings({\n",
       "      value: O.makeObservable(valueId, initialValue)\n",
       "    },\n",
       "    this\n",
       "  );\n",
       "});\n",
       "        /*]]>*/</script></p> entries total</span>\n",
       "      <span class=\"chart-sampling-warning\"><p data-bind=\"text: value\"><script data-this=\"{&quot;valueId&quot;:&quot;anonf71da98e5826a5ec4bd82820cb0b1bb9&quot;,&quot;initialValue&quot;:&quot;&quot;}\" type=\"text/x-scoped-javascript\">/*<![CDATA[*/\n",
       "req(\n",
       "['observable', 'knockout'],\n",
       "function (O, ko) {\n",
       "  ko.applyBindings({\n",
       "      value: O.makeObservable(valueId, initialValue)\n",
       "    },\n",
       "    this\n",
       "  );\n",
       "});\n",
       "        /*]]>*/</script></p></span>\n",
       "      <div>\n",
       "      </div>\n",
       "    </div></div>\n",
       "            </div><div class=\"tab-pane\" id=\"tab2127166267-1\">\n",
       "            <div>\n",
       "      <script data-this=\"{&quot;dataId&quot;:&quot;anon25f534fda6c6d42210ef06014000e107&quot;,&quot;dataInit&quot;:[{&quot;_1&quot;:&quot;href&quot;,&quot;_2&quot;:&quot;http://scala-lang.org&quot;}],&quot;genId&quot;:&quot;456197640&quot;}\" type=\"text/x-scoped-javascript\">/*<![CDATA[*/req(['../javascripts/notebook/playground','../javascripts/notebook/magic/pieChart'], \n",
       "      function(playground, _magicpieChart) {\n",
       "        // data ==> data-this (in observable.js's scopedEval) ==> this in JS => { dataId, dataInit, ... }\n",
       "        // this ==> scope (in observable.js's scopedEval) ==> this.parentElement ==> div.container below (toHtml)\n",
       "\n",
       "        playground.call(data,\n",
       "                        this\n",
       "                        ,\n",
       "                        {\n",
       "    \"f\": _magicpieChart,\n",
       "    \"o\": {\"series\":\"_1\",\"p\":\"_2\",\"width\":600,\"height\":400}\n",
       "  }\n",
       "  \n",
       "                        \n",
       "                        \n",
       "                      );\n",
       "      }\n",
       "    );/*]]>*/</script>\n",
       "    <div>\n",
       "      <span class=\"chart-total-item-count\"><p data-bind=\"text: value\"><script data-this=\"{&quot;valueId&quot;:&quot;anon02c2fcfd81f7046b55ff3b5b9774bff7&quot;,&quot;initialValue&quot;:&quot;1&quot;}\" type=\"text/x-scoped-javascript\">/*<![CDATA[*/\n",
       "req(\n",
       "['observable', 'knockout'],\n",
       "function (O, ko) {\n",
       "  ko.applyBindings({\n",
       "      value: O.makeObservable(valueId, initialValue)\n",
       "    },\n",
       "    this\n",
       "  );\n",
       "});\n",
       "        /*]]>*/</script></p> entries total</span>\n",
       "      <span class=\"chart-sampling-warning\"><p data-bind=\"text: value\"><script data-this=\"{&quot;valueId&quot;:&quot;anonf79195f21cea108648114a3d48d5c313&quot;,&quot;initialValue&quot;:&quot;&quot;}\" type=\"text/x-scoped-javascript\">/*<![CDATA[*/\n",
       "req(\n",
       "['observable', 'knockout'],\n",
       "function (O, ko) {\n",
       "  ko.applyBindings({\n",
       "      value: O.makeObservable(valueId, initialValue)\n",
       "    },\n",
       "    this\n",
       "  );\n",
       "});\n",
       "        /*]]>*/</script></p></span>\n",
       "      <div>\n",
       "      </div>\n",
       "    </div></div>\n",
       "            </div><div class=\"tab-pane\" id=\"tab2127166267-2\">\n",
       "            <div>\n",
       "      <script data-this=\"{&quot;dataId&quot;:&quot;anon11a4a324ef08c10d359ce3d25ec4474e&quot;,&quot;dataInit&quot;:[{&quot;_1&quot;:&quot;href&quot;,&quot;_2&quot;:&quot;http://scala-lang.org&quot;}],&quot;genId&quot;:&quot;220055160&quot;}\" type=\"text/x-scoped-javascript\">/*<![CDATA[*/req(['../javascripts/notebook/playground','../javascripts/notebook/magic/pivotChart'], \n",
       "      function(playground, _magicpivotChart) {\n",
       "        // data ==> data-this (in observable.js's scopedEval) ==> this in JS => { dataId, dataInit, ... }\n",
       "        // this ==> scope (in observable.js's scopedEval) ==> this.parentElement ==> div.container below (toHtml)\n",
       "\n",
       "        playground.call(data,\n",
       "                        this\n",
       "                        ,\n",
       "                        {\n",
       "    \"f\": _magicpivotChart,\n",
       "    \"o\": {\"width\":600,\"height\":400,\"derivedAttributes\":{},\"extraOptions\":{}}\n",
       "  }\n",
       "  \n",
       "                        \n",
       "                        \n",
       "                      );\n",
       "      }\n",
       "    );/*]]>*/</script>\n",
       "    <div>\n",
       "      <span class=\"chart-total-item-count\"><p data-bind=\"text: value\"><script data-this=\"{&quot;valueId&quot;:&quot;anon6849add9a633bdf3d0bc4aee214dcaf0&quot;,&quot;initialValue&quot;:&quot;1&quot;}\" type=\"text/x-scoped-javascript\">/*<![CDATA[*/\n",
       "req(\n",
       "['observable', 'knockout'],\n",
       "function (O, ko) {\n",
       "  ko.applyBindings({\n",
       "      value: O.makeObservable(valueId, initialValue)\n",
       "    },\n",
       "    this\n",
       "  );\n",
       "});\n",
       "        /*]]>*/</script></p> entries total</span>\n",
       "      <span class=\"chart-sampling-warning\"><p data-bind=\"text: value\"><script data-this=\"{&quot;valueId&quot;:&quot;anonc6697da6bf8d19fa238986b1651c6c1d&quot;,&quot;initialValue&quot;:&quot;&quot;}\" type=\"text/x-scoped-javascript\">/*<![CDATA[*/\n",
       "req(\n",
       "['observable', 'knockout'],\n",
       "function (O, ko) {\n",
       "  ko.applyBindings({\n",
       "      value: O.makeObservable(valueId, initialValue)\n",
       "    },\n",
       "    this\n",
       "  );\n",
       "});\n",
       "        /*]]>*/</script></p></span>\n",
       "      <div>\n",
       "      </div>\n",
       "    </div></div>\n",
       "            </div></div>\n",
       "      </div>\n",
       "    </div></div>"
      ]
     },
     "execution_count": 186,
     "metadata": {},
     "output_type": "execute_result",
     "time": "Took: 1.304s, at 2019-03-08 15:57"
    }
   ],
   "source": [
    "meta.asAttrMap"
   ]
  },
  {
   "cell_type": "markdown",
   "metadata": {
    "id": "A28827A46FD24CF7A17328A59AA51080"
   },
   "source": [
    "#### Embedded Expressions"
   ]
  },
  {
   "cell_type": "code",
   "execution_count": null,
   "metadata": {
    "collapsed": false,
    "id": "519CA6B6009E41A981066458AD262C6E",
    "input_collapsed": false
   },
   "outputs": [
    {
     "name": "stdout",
     "output_type": "stream",
     "text": [
      "res259: scala.xml.Elem = <ul><li>option 1</li><li>option 2</li><li>option 3</li><li>option 4</li><li>option 5</li></ul>\n"
     ]
    },
    {
     "data": {
      "text/html": [
       "<ul><li>option 1</li><li>option 2</li><li>option 3</li><li>option 4</li><li>option 5</li></ul>"
      ]
     },
     "execution_count": 184,
     "metadata": {},
     "output_type": "execute_result",
     "time": "Took: 1.398s, at 2019-03-08 15:57"
    }
   ],
   "source": [
    "<ul>{for (i <- 1 to 5) yield <li>option {i}</li>}</ul> //scala block inside a scala block"
   ]
  },
  {
   "cell_type": "code",
   "execution_count": null,
   "metadata": {
    "collapsed": false,
    "id": "C2138ECAD2AE4DB0BCA1FADC586E94B6",
    "input_collapsed": false
   },
   "outputs": [
    {
     "name": "stdout",
     "output_type": "stream",
     "text": [
      "res265: scala.xml.Elem = <h3>The Natural Numbers {1, 2, 3, ...}</h3>\n"
     ]
    },
    {
     "data": {
      "text/html": [
       "<h3>The Natural Numbers {1, 2, 3, ...}</h3>"
      ]
     },
     "execution_count": 187,
     "metadata": {},
     "output_type": "execute_result",
     "time": "Took: 1.276s, at 2019-03-08 15:57"
    }
   ],
   "source": [
    "//producing braces\n",
    "<h3>The Natural Numbers {{1, 2, 3, ...}}</h3>"
   ]
  },
  {
   "cell_type": "markdown",
   "metadata": {
    "id": "99E514C8345E41B0B0D48FA97930E1C7"
   },
   "source": [
    "compute attribute with expression"
   ]
  },
  {
   "cell_type": "code",
   "execution_count": null,
   "metadata": {
    "collapsed": false,
    "id": "E9C237BFD61542788B8973FA24BB485F",
    "input_collapsed": false
   },
   "outputs": [
    {
     "name": "stdout",
     "output_type": "stream",
     "text": [
      "res267: scala.xml.Elem = <a att1=\"desc1\" href=\"#\">empty link</a>\n"
     ]
    },
    {
     "data": {
      "text/html": [
       "<a att1=\"desc1\" href=\"#\">empty link</a>"
      ]
     },
     "execution_count": 188,
     "metadata": {},
     "output_type": "execute_result",
     "time": "Took: 1.324s, at 2019-03-08 15:57"
    }
   ],
   "source": [
    "<a att1={if (true) \"desc1\" else \"desc\"} href=\"#\">empty link</a>"
   ]
  },
  {
   "cell_type": "markdown",
   "metadata": {
    "id": "C5BD73D931F3450C9B00E72474A8310A"
   },
   "source": [
    "#### CDATA"
   ]
  },
  {
   "cell_type": "code",
   "execution_count": null,
   "metadata": {
    "collapsed": false,
    "id": "E36491F7DC5A49118A7563579C91B7F6",
    "input_collapsed": false
   },
   "outputs": [
    {
     "name": "stdout",
     "output_type": "stream",
     "text": [
      "js: scala.xml.Elem = <script> alert(&quot;Cold!&quot;)</script>\n",
      "g1: scala.xml.Group = <li>Item 1</li><li>Item 2</li>\n",
      "g2: scala.xml.Group = <li>Item 1</li><li>Item 2</li>\n",
      "items: scala.xml.NodeBuffer = ArrayBuffer(<li>Item 1</li>, <li>Item 2</li>)\n",
      "res269: scala.xml.NodeSeq = NodeSeq(<ol><li>Item 1</li><li>Item 2</li></ol>)\n"
     ]
    },
    {
     "data": {
      "text/html": [
       "<ol><li>Item 1</li><li>Item 2</li></ol>"
      ]
     },
     "execution_count": 189,
     "metadata": {},
     "output_type": "execute_result",
     "time": "Took: 1.403s, at 2019-03-08 15:57"
    }
   ],
   "source": [
    "val js = <script><![CDATA[ alert(\"Cold!\")]]></script>\n",
    "\n",
    "val g1 = <xml:group><li>Item 1</li><li>Item 2</li></xml:group>\n",
    "val g2 = Group(Seq(<li>Item 1</li>, <li>Item 2</li>))\n",
    "\n",
    "// iterate\n",
    "val items = <li>Item 1</li><li>Item 2</li>\n",
    "for (n <- <xml:group>{items}</xml:group>) yield n\n",
    "// Yields two li elements\n",
    "for (n <- <ol>{items}</ol>) yield n\n",
    "// Yields one ol element"
   ]
  },
  {
   "cell_type": "markdown",
   "metadata": {
    "id": "EC0D52B486D14AEBBE807787EDA47021"
   },
   "source": [
    "#### XPath-like"
   ]
  },
  {
   "cell_type": "markdown",
   "metadata": {
    "id": "01D01B765807453DB1300E8DBD37F317"
   },
   "source": [
    "> use `\\` ,`\\\\` replace `/` ,`//` (`//` denotes comments)"
   ]
  },
  {
   "cell_type": "code",
   "execution_count": null,
   "metadata": {
    "collapsed": false,
    "id": "33416750CCA14E1B8A8BF5BA2AFE8E5B",
    "input_collapsed": false
   },
   "outputs": [
    {
     "name": "stdout",
     "output_type": "stream",
     "text": [
      "list: scala.xml.Elem = <dl><dt>Java</dt><dd>Gosling</dd><dt>Scala</dt><dd>Odersky</dd></dl>\n",
      "languages: scala.xml.NodeSeq = NodeSeq(<dt>Java</dt>, <dt>Scala</dt>)\n"
     ]
    },
    {
     "data": {
      "text/html": []
     },
     "execution_count": 190,
     "metadata": {},
     "output_type": "execute_result",
     "time": "Took: 1.006s, at 2019-03-08 15:57"
    }
   ],
   "source": [
    "val list = <dl><dt>Java</dt><dd>Gosling</dd><dt>Scala</dt><dd>Odersky</dd></dl>\n",
    "val languages = list \\ \"dt\""
   ]
  },
  {
   "cell_type": "markdown",
   "metadata": {
    "id": "EBF1A7A3499247069F5C924C24EDB4C4"
   },
   "source": [
    "`_` wildcard, matches any element "
   ]
  },
  {
   "cell_type": "code",
   "execution_count": null,
   "metadata": {
    "collapsed": false,
    "id": "35E98D7C877A4CB0945FB23AC5FA0DDB",
    "input_collapsed": false
   },
   "outputs": [
    {
     "name": "stdout",
     "output_type": "stream",
     "text": [
      "long: scala.xml.Elem = <html><body><ul data=\"ul\"><li>a1</li><li>a2</li></ul><ol data=\"ol\"><li>b1</li><li>b2</li></ol></body></html>\n",
      "res272: scala.xml.NodeSeq = NodeSeq(<li>a1</li>, <li>a2</li>, <li>b1</li>, <li>b2</li>)\n"
     ]
    },
    {
     "data": {
      "text/html": [
       "<li>a1</li><li>a2</li><li>b1</li><li>b2</li>"
      ]
     },
     "execution_count": 191,
     "metadata": {},
     "output_type": "execute_result",
     "time": "Took: 1.339s, at 2019-03-08 15:57"
    }
   ],
   "source": [
    "val long = <html><body><ul data=\"ul\">{for (i <- 1 to 2) yield <li>a{i}</li>}</ul><ol data=\"ol\">{for (i <- 1 to 2) yield <li>b{i}</li>}</ol></body></html>\n",
    "long \\ \"html\" \\ \"_\" \\ \"li\"  // matches nothing\n",
    "long \\ \"body\" \\ \"_\" \\ \"li\" //matches all li"
   ]
  },
  {
   "cell_type": "markdown",
   "metadata": {
    "id": "9906A407627A4DBE880A2173DDC5D015"
   },
   "source": [
    "`\\\\` locates descendants at any depth"
   ]
  },
  {
   "cell_type": "code",
   "execution_count": null,
   "metadata": {
    "collapsed": false,
    "id": "BA3C4F378D7843218D309DD628555C34",
    "input_collapsed": false
   },
   "outputs": [
    {
     "name": "stdout",
     "output_type": "stream",
     "text": [
      "res274: scala.xml.NodeSeq = NodeSeq(<li>a1</li>, <li>a2</li>, <li>b1</li>, <li>b2</li>)\n"
     ]
    },
    {
     "data": {
      "text/html": [
       "<li>a1</li><li>a2</li><li>b1</li><li>b2</li>"
      ]
     },
     "execution_count": 192,
     "metadata": {},
     "output_type": "execute_result",
     "time": "Took: 1.298s, at 2019-03-08 15:58"
    }
   ],
   "source": [
    "long \\\\ \"li\""
   ]
  },
  {
   "cell_type": "markdown",
   "metadata": {
    "id": "76BEED5D44924843BD92C866890888F4"
   },
   "source": [
    "`@` locates attributes   (no wildcard for this)"
   ]
  },
  {
   "cell_type": "code",
   "execution_count": null,
   "metadata": {
    "collapsed": false,
    "id": "3CC4C12478054B1C8A9392DD6C6DFB74",
    "input_collapsed": false
   },
   "outputs": [
    {
     "name": "stdout",
     "output_type": "stream",
     "text": [
      "res276: scala.xml.NodeSeq = NodeSeq(ul, ol)\n"
     ]
    },
    {
     "data": {
      "text/html": [
       "ulol"
      ]
     },
     "execution_count": 193,
     "metadata": {},
     "output_type": "execute_result",
     "time": "Took: 1.301s, at 2019-03-08 15:58"
    }
   ],
   "source": [
    "long \\\\ \"@data\""
   ]
  },
  {
   "cell_type": "markdown",
   "metadata": {
    "id": "08C47FB4EF9B453B8A2285949D93947F",
    "input_collapsed": false
   },
   "source": [
    "#### Pattern Matching"
   ]
  },
  {
   "cell_type": "code",
   "execution_count": null,
   "metadata": {
    "collapsed": false,
    "id": "970F0ADE88734F89AA9DB508CAB1DD54",
    "input_collapsed": false
   },
   "outputs": [
    {
     "name": "stdout",
     "output_type": "stream",
     "text": [
      "ArrayBuffer(<img alt=\"image\"/>, <a href=\"#\">test</a>)\n",
      "<img alt=\"image\"/>\n",
      "<a href=\"#\">test</a>\n",
      "m: scala.xml.Elem = <li><img alt=\"image\"/><a href=\"#\">test</a></li>\n",
      "res278: Any = ()\n"
     ]
    },
    {
     "data": {
      "text/html": [
       "()"
      ]
     },
     "execution_count": 194,
     "metadata": {},
     "output_type": "execute_result",
     "time": "Took: 1.084s, at 2019-03-08 15:58"
    }
   ],
   "source": [
    "val m  = <li><img alt=\"image\"/><a href=\"#\">test</a></li>\n",
    "\n",
    "m match {\n",
    "//   case <li>{_}</li> => println(1)  // match one element\n",
    "//   case <li>{_*}</li> => println(2) // match multi element\n",
    "  case <li>{children @ _*}</li> => { // bind a variable\n",
    "    println(children)\n",
    "    for(c <- children) println(c)\n",
    "  }\n",
    "  case _ => None\n",
    "}"
   ]
  },
  {
   "cell_type": "markdown",
   "metadata": {
    "id": "F4AE153CE3D14B7C81F3B1D7B7F4B036"
   },
   "source": [
    "**Note:** `case` clause should have only one element and can't have attributes"
   ]
  },
  {
   "cell_type": "markdown",
   "metadata": {
    "id": "0F95DB55E4B44A5A9184CF330632D67E"
   },
   "source": [
    "#### Modifying"
   ]
  },
  {
   "cell_type": "markdown",
   "metadata": {
    "id": "943F86C9F969486883448518A3662D9B"
   },
   "source": [
    "before edit, have to create a copy"
   ]
  },
  {
   "cell_type": "markdown",
   "metadata": {
    "id": "43B55800C574457B8CA40157D0FADF18"
   },
   "source": [
    "`copy(label, attributes, child, prefix, scope)`  paramaters are _named parameters_，specify changed paramters"
   ]
  },
  {
   "cell_type": "code",
   "execution_count": null,
   "metadata": {
    "collapsed": false,
    "id": "AC878C19C45E439884CA2195DF374E72",
    "input_collapsed": false
   },
   "outputs": [
    {
     "name": "stdout",
     "output_type": "stream",
     "text": [
      "list: scala.xml.Elem = <ul><li>Fred</li><li>Wilma</li></ul>\n",
      "list2: scala.xml.Elem = <ol><li>Fred</li><li>Wilma</li></ol>\n"
     ]
    },
    {
     "data": {
      "text/html": []
     },
     "execution_count": 196,
     "metadata": {},
     "output_type": "execute_result",
     "time": "Took: 1.013s, at 2019-03-08 15:58"
    }
   ],
   "source": [
    "val list = <ul><li>Fred</li><li>Wilma</li></ul>\n",
    "val list2 = list.copy(label = \"ol\")"
   ]
  },
  {
   "cell_type": "code",
   "execution_count": null,
   "metadata": {
    "collapsed": false,
    "id": "2A6991FAA2064F33861975E6E0F4C2B2",
    "input_collapsed": false
   },
   "outputs": [],
   "source": [
    "list.copy(child = list.child ++ <li> add a child</li>)"
   ]
  },
  {
   "cell_type": "code",
   "execution_count": null,
   "metadata": {
    "collapsed": false,
    "id": "B4A035693AE64A078B0FE3DB01130B3E",
    "input_collapsed": false
   },
   "outputs": [
    {
     "name": "stdout",
     "output_type": "stream",
     "text": [
      "image: scala.xml.Elem = <img src=\"hamster.jpg\"/>\n",
      "image2: scala.xml.Elem = <img alt=\"add an attribute\" src=\"hamster.jpg\"/>\n",
      "image3: scala.xml.Elem = <img src=\"updateAttribute.jpg\" alt=\"add more then one attribute\"/>\n"
     ]
    },
    {
     "data": {
      "text/html": []
     },
     "execution_count": 197,
     "metadata": {},
     "output_type": "execute_result",
     "time": "Took: 0.968s, at 2019-03-08 15:58"
    }
   ],
   "source": [
    "val image = <img src=\"hamster.jpg\"/>\n",
    "val image2 = image % Attribute(null, \"alt\", \"add an attribute\", Null)\n",
    "val image3 = image % Attribute(null, \"alt\", \"add more then one attribute\",Attribute(null, \"src\", \"updateAttribute.jpg\", Null))"
   ]
  },
  {
   "cell_type": "markdown",
   "metadata": {
    "id": "F58E9F1669694F2987454D65565E7375"
   },
   "source": [
    "#### Transforming"
   ]
  },
  {
   "cell_type": "code",
   "execution_count": null,
   "metadata": {
    "collapsed": false,
    "id": "11E0E34B94E54289952EA3BE22DE6E6D",
    "input_collapsed": false
   },
   "outputs": [
    {
     "name": "stdout",
     "output_type": "stream",
     "text": [
      "import scala.xml.transform._\n",
      "rule1: scala.xml.transform.RewriteRule = <function1>\n"
     ]
    },
    {
     "data": {
      "text/html": []
     },
     "execution_count": 198,
     "metadata": {},
     "output_type": "execute_result",
     "time": "Took: 1.013s, at 2019-03-08 15:58"
    }
   ],
   "source": [
    "import scala.xml.transform._\n",
    "val rule1 = new RewriteRule {\n",
    "  override def transform(n: Node) = n match {\n",
    "  case e @ <ul>{_*}</ul> => e.asInstanceOf[Elem].copy(label = \"ol\")\n",
    "  case _ => n\n",
    "  }\n",
    "}\n",
    "// val transformed = new RuleTransformer(rule1).transform(root)\n",
    "// val transformer = new RuleTransformer(rule1, rule2, rule3); // multi rules"
   ]
  },
  {
   "cell_type": "markdown",
   "metadata": {
    "id": "998190C8AF744150810E22078B387F72"
   },
   "source": [
    "#### Loading and Saving"
   ]
  },
  {
   "cell_type": "markdown",
   "metadata": {
    "id": "F5401182B6184ECF983F8F610A51D01D"
   },
   "source": [
    "load"
   ]
  },
  {
   "cell_type": "code",
   "execution_count": null,
   "metadata": {
    "collapsed": false,
    "id": "7772876C4FE24B7E8409A50C00E373BB",
    "input_collapsed": false
   },
   "outputs": [
    {
     "name": "stdout",
     "output_type": "stream",
     "text": [
      "import scala.xml._\n",
      "file: String = /root/git-notebook/scala/myfile.xml\n",
      "root: scala.xml.Elem =\n",
      "<root>\n",
      "</root>\n",
      "import java.io.{FileInputStream, InputStreamReader}\n",
      "import java.net.URL\n",
      "root2: scala.xml.Elem =\n",
      "<root>\n",
      "</root>\n",
      "root3: scala.xml.Elem =\n",
      "<root>\n",
      "</root>\n",
      "root4: scala.xml.Elem =\n",
      "<root>\n",
      "</root>\n"
     ]
    },
    {
     "data": {
      "text/html": []
     },
     "execution_count": 199,
     "metadata": {},
     "output_type": "execute_result",
     "time": "Took: 10.429s, at 2019-03-08 15:58"
    }
   ],
   "source": [
    "import scala.xml._\n",
    "val file = \"/root/git-notebook/scala/myfile.xml\"\n",
    "val root = XML.loadFile(file)\n",
    "\n",
    "// using java api\n",
    "import java.io.{FileInputStream, InputStreamReader}\n",
    "import java.net.URL\n",
    "val root2 = XML.load(new FileInputStream(file))\n",
    "val root3 = XML.load(new InputStreamReader(new FileInputStream(file), \"UTF-8\"))\n",
    "val root4 = XML.load(new URL(\"https://raw.githubusercontent.com/afewnotes/git-notebook/master/scala/myfile.xml\"))"
   ]
  },
  {
   "cell_type": "markdown",
   "metadata": {
    "id": "C9B2212C406747A789005C5E7D359359"
   },
   "source": [
    "save "
   ]
  },
  {
   "cell_type": "code",
   "execution_count": null,
   "metadata": {
    "collapsed": false,
    "id": "FEFFC9C6AC6A43B8BD46679C7971DD16",
    "input_collapsed": false
   },
   "outputs": [
    {
     "data": {
      "text/html": []
     },
     "execution_count": 200,
     "metadata": {},
     "output_type": "execute_result",
     "time": "Took: 1.361s, at 2019-03-08 15:58"
    }
   ],
   "source": [
    "XML.save(file,root)"
   ]
  },
  {
   "cell_type": "markdown",
   "metadata": {
    "id": "AF22C45B6C9A47FC8776A9548F44D8E5"
   },
   "source": [
    "when saving html ,use doctype"
   ]
  },
  {
   "cell_type": "code",
   "execution_count": null,
   "metadata": {
    "collapsed": false,
    "id": "C71F463FCEAD40268205B8BB4F3EDF9F",
    "input_collapsed": false
   },
   "outputs": [
    {
     "name": "stdout",
     "output_type": "stream",
     "text": [
      "import scala.xml.dtd._\n",
      "appendName: String = /root/git-notebook/scala/myfile.xml.html\n",
      "res287: scala.xml.Elem =\n",
      "<root>\n",
      "</root>\n"
     ]
    },
    {
     "data": {
      "text/html": [
       "<root>\n",
       "</root>"
      ]
     },
     "execution_count": 201,
     "metadata": {},
     "output_type": "execute_result",
     "time": "Took: 1m13.901s, at 2019-03-08 15:59"
    }
   ],
   "source": [
    "import scala.xml.dtd._\n",
    "\n",
    "val appendName = file + \".html\"\n",
    "XML.save(appendName, root,\n",
    "enc = \"UTF-8\",\n",
    "xmlDecl = true,\n",
    "doctype = DocType(\"html\",\n",
    "PublicID(\"-//W3C//DTD XHTML 1.0 Strict//EN\",\n",
    "\"http://www.w3.org/TR/xhtml1/DTD/xhtml1-strict.dtd\"),\n",
    "Nil))\n",
    "\n",
    "XML.loadFile(appendName)"
   ]
  },
  {
   "cell_type": "markdown",
   "metadata": {
    "id": "9DAEBB051D1546D3A04D624B1E3AFFEA"
   },
   "source": [
    "self-closing"
   ]
  },
  {
   "cell_type": "code",
   "execution_count": null,
   "metadata": {
    "collapsed": false,
    "id": "A7752A76ECBC4F24841F42C9174AEC94",
    "input_collapsed": false
   },
   "outputs": [
    {
     "name": "stdout",
     "output_type": "stream",
     "text": [
      "<console>:139: warning: method toXML in object Utility is deprecated: Please use `serialize` instead and specify a `minimizeTags` parameter\n",
      "val str = xml.Utility.toXML(node, minimizeTags = true)\n",
      "                      ^\n",
      "node: scala.xml.Elem = <li><img src=\"hamster.jpg\"></img><img src=\"hamster.jpg\"></img></li>\n",
      "str: StringBuilder = <li><img src=\"hamster.jpg\"/><img src=\"hamster.jpg\"/></li>\n"
     ]
    },
    {
     "data": {
      "text/html": []
     },
     "execution_count": 202,
     "metadata": {},
     "output_type": "execute_result",
     "time": "Took: 1.114s, at 2019-03-08 15:59"
    }
   ],
   "source": [
    "val node = <li><img src=\"hamster.jpg\"></img><img src=\"hamster.jpg\"></img></li>\n",
    "val str = xml.Utility.toXML(node, minimizeTags = true)"
   ]
  },
  {
   "cell_type": "markdown",
   "metadata": {
    "id": "5569F0E989714E2382A5D3EE96BDBBB2"
   },
   "source": [
    "prettily"
   ]
  },
  {
   "cell_type": "code",
   "execution_count": null,
   "metadata": {
    "collapsed": false,
    "id": "28101C82E87A4D8F8EC1C9CB6F9B8FBC",
    "input_collapsed": false
   },
   "outputs": [
    {
     "name": "stdout",
     "output_type": "stream",
     "text": [
      "printer: scala.xml.PrettyPrinter = scala.xml.PrettyPrinter@3ac92714\n",
      "str: String =\n",
      "<li>\n",
      "    <img src=\"hamster.jpg\"></img>\n",
      "    <img src=\"hamster.jpg\"></img>\n",
      "</li>\n"
     ]
    },
    {
     "data": {
      "text/html": []
     },
     "execution_count": 203,
     "metadata": {},
     "output_type": "execute_result",
     "time": "Took: 1.035s, at 2019-03-08 15:59"
    }
   ],
   "source": [
    "val printer = new PrettyPrinter(width = 100, step = 4)\n",
    "val str = printer.formatNodes(node)"
   ]
  },
  {
   "cell_type": "markdown",
   "metadata": {
    "id": "275B579FBC13436D8B31030AC1C4EE1F"
   },
   "source": [
    "#### Exercises"
   ]
  },
  {
   "cell_type": "code",
   "execution_count": null,
   "metadata": {
    "collapsed": false,
    "id": "586129EDC92844AA8401C2E163B1BC4C",
    "input_collapsed": false,
    "presentation": {
     "cell_width": 12
    }
   },
   "outputs": [
    {
     "name": "stdout",
     "output_type": "stream",
     "text": [
      "n: scala.xml.Elem = <fred/>\n",
      "a: scala.xml.Node = <fred/>\n",
      "b: scala.xml.Node = <fred/>\n"
     ]
    },
    {
     "data": {
      "text/html": []
     },
     "execution_count": 205,
     "metadata": {},
     "output_type": "execute_result",
     "time": "Took: 1.001s, at 2019-03-08 15:59"
    }
   ],
   "source": [
    "val n = <fred/>\n",
    "val a = <fred/>(0) // ?\n",
    "val b = <fred/>(0)(0) // ?"
   ]
  },
  {
   "cell_type": "code",
   "execution_count": null,
   "metadata": {
    "collapsed": false,
    "id": "D892C159ACFF42A28A40ECA43EE67B99",
    "input_collapsed": false,
    "presentation": {
     "cell_width": 12
    }
   },
   "outputs": [
    {
     "name": "stdout",
     "output_type": "stream",
     "text": [
      "res294: scala.xml.Elem =\n",
      "<ul>\n",
      "<li>Opening bracket: [</li>\n",
      "<li>Closing bracket: ]</li>\n",
      "<li>Opening brace: {</li> // double braces\n",
      "<li>Closing brace: }</li>\n",
      "</ul>\n"
     ]
    },
    {
     "data": {
      "text/html": [
       "<ul>\n",
       "<li>Opening bracket: [</li>\n",
       "<li>Closing bracket: ]</li>\n",
       "<li>Opening brace: {</li> // double braces\n",
       "<li>Closing brace: }</li>\n",
       "</ul>"
      ]
     },
     "execution_count": 207,
     "metadata": {},
     "output_type": "execute_result",
     "time": "Took: 1.508s, at 2019-03-08 15:59"
    }
   ],
   "source": [
    "<ul>\n",
    "<li>Opening bracket: [</li>\n",
    "<li>Closing bracket: ]</li>\n",
    "<li>Opening brace: {{</li> // double braces\n",
    "<li>Closing brace: }}</li>\n",
    "</ul>"
   ]
  },
  {
   "cell_type": "code",
   "execution_count": null,
   "metadata": {
    "collapsed": false,
    "id": "4D2CD220D4A541679001A3E8A3931A9D",
    "input_collapsed": false
   },
   "outputs": [
    {
     "name": "stdout",
     "output_type": "stream",
     "text": [
      "import scala.xml._\n",
      "t1: java.io.Serializable = Fred\n",
      "t2: Object = Fred\n"
     ]
    },
    {
     "data": {
      "text/html": []
     },
     "execution_count": 206,
     "metadata": {},
     "output_type": "execute_result",
     "time": "Took: 1.921s, at 2019-03-08 15:59"
    }
   ],
   "source": [
    "import scala.xml._\n",
    "val t1 = <li>Fred</li> match { \n",
    "  case <li>{Text(t)}</li> => t\n",
    "  case _ => None\n",
    "}\n",
    "val t2 = <li>{\"Fred\"}</li> match { \n",
    "  case <li>{Text(t)}</li> => t \n",
    "  case <li>{s}</li> => s  // different\n",
    "  case _ => None\n",
    "}"
   ]
  },
  {
   "cell_type": "code",
   "execution_count": null,
   "metadata": {
    "collapsed": false,
    "id": "F999516021FA4076A2C18FA7D85F95BA",
    "input_collapsed": false,
    "presentation": {
     "pivot_chart_state": "{\n  \"hiddenAttributes\": [],\n  \"menuLimit\": 200,\n  \"cols\": [],\n  \"rows\": [],\n  \"vals\": [],\n  \"exclusions\": {},\n  \"inclusions\": {},\n  \"unusedAttrsVertical\": 85,\n  \"autoSortUnusedAttrs\": false,\n  \"inclusionsInfo\": {},\n  \"aggregatorName\": \"Count\",\n  \"rendererName\": \"Table\"\n}",
     "tabs_state": "{\n  \"tab_id\": \"#tab1532531528-0\"\n}"
    }
   },
   "outputs": [
    {
     "name": "stdout",
     "output_type": "stream",
     "text": [
      "import scala.xml._\n",
      "html: scala.xml.Elem =\n",
      "<html>\n",
      "    <head>\n",
      "        <meta charset=\"utf-8\"/>\n",
      "        <meta content=\"width=device-width\" name=\"viewport\"/>\n",
      "        <title/>\n",
      "    </head>\n",
      "    <body>\n",
      "        <img src=\"1.gif\"/>\n",
      "        <img src=\"2.gif\"/>\n",
      "        <img alt=\"3\" src=\"3.gif\"/>\n",
      "        <img alt=\"4\" src=\"4.gif\"/>\n",
      "        <a href=\"www.baidu.com\">baidu</a>\n",
      "        <a href=\"www.google.com\">google</a>\n",
      "        <a href=\"www.bing.com\">bing</a>\n",
      "    </body>\n",
      "</html>\n",
      "test: scala.xml.NodeSeq = NodeSeq(<img src=\"1.gif\"/>, <img src=\"2.gif\"/>, <img alt=\"3\" src=\"3.gif\"/>, <img alt=\"4\" src=\"4.gif\"/>)\n",
      "nonalt: scala.xml.NodeSeq = NodeSeq(<img src=\"1.gif\"/>, <img src=\"2.gif\"/>)\n",
      "srcs: scala.xml.NodeSeq = NodeSeq(1.gif, 2.gif, 3.gif, 4.gif)\n",
      "links: scala.collection.immutable.Seq[(String, String)] = List((ba..."
     ]
    },
    {
     "data": {
      "text/html": [
       "<div>\n",
       "      <script data-this=\"{&quot;dataId&quot;:&quot;anonee711c6385eafba392b46b3de1985e5e&quot;,&quot;dataInit&quot;:[],&quot;genId&quot;:&quot;1532531528&quot;}\" type=\"text/x-scoped-javascript\">/*<![CDATA[*/req(['../javascripts/notebook/playground','../javascripts/notebook/magic/tabs'], \n",
       "      function(playground, _magictabs) {\n",
       "        // data ==> data-this (in observable.js's scopedEval) ==> this in JS => { dataId, dataInit, ... }\n",
       "        // this ==> scope (in observable.js's scopedEval) ==> this.parentElement ==> div.container below (toHtml)\n",
       "\n",
       "        playground.call(data,\n",
       "                        this\n",
       "                        ,\n",
       "                        {\n",
       "    \"f\": _magictabs,\n",
       "    \"o\": {}\n",
       "  }\n",
       "  \n",
       "                        \n",
       "                        \n",
       "                      );\n",
       "      }\n",
       "    );/*]]>*/</script>\n",
       "    <div>\n",
       "      <div>\n",
       "        <ul class=\"nav nav-tabs\" id=\"ul1532531528\"><li>\n",
       "              <a href=\"#tab1532531528-0\"><i class=\"fa fa-table\"/></a>\n",
       "            </li><li>\n",
       "              <a href=\"#tab1532531528-1\"><i class=\"fa fa-pie-chart\"/></a>\n",
       "            </li><li>\n",
       "              <a href=\"#tab1532531528-2\"><i class=\"fa fa-cubes\"/></a>\n",
       "            </li></ul>\n",
       "\n",
       "        <div class=\"tab-content\" id=\"tab1532531528\"><div class=\"tab-pane\" id=\"tab1532531528-0\">\n",
       "            <div>\n",
       "      <script data-this=\"{&quot;dataId&quot;:&quot;anon664e84df5a4872af87e5b05b50579828&quot;,&quot;dataInit&quot;:[{&quot;_1&quot;:&quot;baidu&quot;,&quot;_2&quot;:&quot;www.baidu.com&quot;},{&quot;_1&quot;:&quot;google&quot;,&quot;_2&quot;:&quot;www.google.com&quot;},{&quot;_1&quot;:&quot;bing&quot;,&quot;_2&quot;:&quot;www.bing.com&quot;}],&quot;genId&quot;:&quot;670888676&quot;}\" type=\"text/x-scoped-javascript\">/*<![CDATA[*/req(['../javascripts/notebook/playground','../javascripts/notebook/magic/tableChart'], \n",
       "      function(playground, _magictableChart) {\n",
       "        // data ==> data-this (in observable.js's scopedEval) ==> this in JS => { dataId, dataInit, ... }\n",
       "        // this ==> scope (in observable.js's scopedEval) ==> this.parentElement ==> div.container below (toHtml)\n",
       "\n",
       "        playground.call(data,\n",
       "                        this\n",
       "                        ,\n",
       "                        {\n",
       "    \"f\": _magictableChart,\n",
       "    \"o\": {\"headers\":[\"_1\",\"_2\"],\"width\":600,\"height\":400}\n",
       "  }\n",
       "  \n",
       "                        \n",
       "                        \n",
       "                      );\n",
       "      }\n",
       "    );/*]]>*/</script>\n",
       "    <div>\n",
       "      <span class=\"chart-total-item-count\"><p data-bind=\"text: value\"><script data-this=\"{&quot;valueId&quot;:&quot;anon8c4e8cfc729f6560472eea60fd8d0eb7&quot;,&quot;initialValue&quot;:&quot;3&quot;}\" type=\"text/x-scoped-javascript\">/*<![CDATA[*/\n",
       "req(\n",
       "['observable', 'knockout'],\n",
       "function (O, ko) {\n",
       "  ko.applyBindings({\n",
       "      value: O.makeObservable(valueId, initialValue)\n",
       "    },\n",
       "    this\n",
       "  );\n",
       "});\n",
       "        /*]]>*/</script></p> entries total</span>\n",
       "      <span class=\"chart-sampling-warning\"><p data-bind=\"text: value\"><script data-this=\"{&quot;valueId&quot;:&quot;anon315ea496f88edc138ea346cae7f8c327&quot;,&quot;initialValue&quot;:&quot;&quot;}\" type=\"text/x-scoped-javascript\">/*<![CDATA[*/\n",
       "req(\n",
       "['observable', 'knockout'],\n",
       "function (O, ko) {\n",
       "  ko.applyBindings({\n",
       "      value: O.makeObservable(valueId, initialValue)\n",
       "    },\n",
       "    this\n",
       "  );\n",
       "});\n",
       "        /*]]>*/</script></p></span>\n",
       "      <div>\n",
       "      </div>\n",
       "    </div></div>\n",
       "            </div><div class=\"tab-pane\" id=\"tab1532531528-1\">\n",
       "            <div>\n",
       "      <script data-this=\"{&quot;dataId&quot;:&quot;anon7a6a27c02629188e2fc0d83c9eb88aaf&quot;,&quot;dataInit&quot;:[{&quot;_1&quot;:&quot;baidu&quot;,&quot;_2&quot;:&quot;www.baidu.com&quot;},{&quot;_1&quot;:&quot;google&quot;,&quot;_2&quot;:&quot;www.google.com&quot;},{&quot;_1&quot;:&quot;bing&quot;,&quot;_2&quot;:&quot;www.bing.com&quot;}],&quot;genId&quot;:&quot;366625972&quot;}\" type=\"text/x-scoped-javascript\">/*<![CDATA[*/req(['../javascripts/notebook/playground','../javascripts/notebook/magic/pieChart'], \n",
       "      function(playground, _magicpieChart) {\n",
       "        // data ==> data-this (in observable.js's scopedEval) ==> this in JS => { dataId, dataInit, ... }\n",
       "        // this ==> scope (in observable.js's scopedEval) ==> this.parentElement ==> div.container below (toHtml)\n",
       "\n",
       "        playground.call(data,\n",
       "                        this\n",
       "                        ,\n",
       "                        {\n",
       "    \"f\": _magicpieChart,\n",
       "    \"o\": {\"series\":\"_1\",\"p\":\"_2\",\"width\":600,\"height\":400}\n",
       "  }\n",
       "  \n",
       "                        \n",
       "                        \n",
       "                      );\n",
       "      }\n",
       "    );/*]]>*/</script>\n",
       "    <div>\n",
       "      <span class=\"chart-total-item-count\"><p data-bind=\"text: value\"><script data-this=\"{&quot;valueId&quot;:&quot;anon9d836a37acb6f0e680e73f8b747228aa&quot;,&quot;initialValue&quot;:&quot;3&quot;}\" type=\"text/x-scoped-javascript\">/*<![CDATA[*/\n",
       "req(\n",
       "['observable', 'knockout'],\n",
       "function (O, ko) {\n",
       "  ko.applyBindings({\n",
       "      value: O.makeObservable(valueId, initialValue)\n",
       "    },\n",
       "    this\n",
       "  );\n",
       "});\n",
       "        /*]]>*/</script></p> entries total</span>\n",
       "      <span class=\"chart-sampling-warning\"><p data-bind=\"text: value\"><script data-this=\"{&quot;valueId&quot;:&quot;anoncc4ef6dac25bb4f4924148103421569f&quot;,&quot;initialValue&quot;:&quot;&quot;}\" type=\"text/x-scoped-javascript\">/*<![CDATA[*/\n",
       "req(\n",
       "['observable', 'knockout'],\n",
       "function (O, ko) {\n",
       "  ko.applyBindings({\n",
       "      value: O.makeObservable(valueId, initialValue)\n",
       "    },\n",
       "    this\n",
       "  );\n",
       "});\n",
       "        /*]]>*/</script></p></span>\n",
       "      <div>\n",
       "      </div>\n",
       "    </div></div>\n",
       "            </div><div class=\"tab-pane\" id=\"tab1532531528-2\">\n",
       "            <div>\n",
       "      <script data-this=\"{&quot;dataId&quot;:&quot;anon4fe10ee6d8fa032601466173f49b9d22&quot;,&quot;dataInit&quot;:[{&quot;_1&quot;:&quot;baidu&quot;,&quot;_2&quot;:&quot;www.baidu.com&quot;},{&quot;_1&quot;:&quot;google&quot;,&quot;_2&quot;:&quot;www.google.com&quot;},{&quot;_1&quot;:&quot;bing&quot;,&quot;_2&quot;:&quot;www.bing.com&quot;}],&quot;genId&quot;:&quot;731721339&quot;}\" type=\"text/x-scoped-javascript\">/*<![CDATA[*/req(['../javascripts/notebook/playground','../javascripts/notebook/magic/pivotChart'], \n",
       "      function(playground, _magicpivotChart) {\n",
       "        // data ==> data-this (in observable.js's scopedEval) ==> this in JS => { dataId, dataInit, ... }\n",
       "        // this ==> scope (in observable.js's scopedEval) ==> this.parentElement ==> div.container below (toHtml)\n",
       "\n",
       "        playground.call(data,\n",
       "                        this\n",
       "                        ,\n",
       "                        {\n",
       "    \"f\": _magicpivotChart,\n",
       "    \"o\": {\"width\":600,\"height\":400,\"derivedAttributes\":{},\"extraOptions\":{}}\n",
       "  }\n",
       "  \n",
       "                        \n",
       "                        \n",
       "                      );\n",
       "      }\n",
       "    );/*]]>*/</script>\n",
       "    <div>\n",
       "      <span class=\"chart-total-item-count\"><p data-bind=\"text: value\"><script data-this=\"{&quot;valueId&quot;:&quot;anon30d8abda1b5c912169e1ec625cf0e0c8&quot;,&quot;initialValue&quot;:&quot;3&quot;}\" type=\"text/x-scoped-javascript\">/*<![CDATA[*/\n",
       "req(\n",
       "['observable', 'knockout'],\n",
       "function (O, ko) {\n",
       "  ko.applyBindings({\n",
       "      value: O.makeObservable(valueId, initialValue)\n",
       "    },\n",
       "    this\n",
       "  );\n",
       "});\n",
       "        /*]]>*/</script></p> entries total</span>\n",
       "      <span class=\"chart-sampling-warning\"><p data-bind=\"text: value\"><script data-this=\"{&quot;valueId&quot;:&quot;anonc59ca6790a2c4285d69028b62c698f42&quot;,&quot;initialValue&quot;:&quot;&quot;}\" type=\"text/x-scoped-javascript\">/*<![CDATA[*/\n",
       "req(\n",
       "['observable', 'knockout'],\n",
       "function (O, ko) {\n",
       "  ko.applyBindings({\n",
       "      value: O.makeObservable(valueId, initialValue)\n",
       "    },\n",
       "    this\n",
       "  );\n",
       "});\n",
       "        /*]]>*/</script></p></span>\n",
       "      <div>\n",
       "      </div>\n",
       "    </div></div>\n",
       "            </div></div>\n",
       "      </div>\n",
       "    </div></div>"
      ]
     },
     "execution_count": 176,
     "metadata": {},
     "output_type": "execute_result",
     "time": "Took: 1.327s, at 2019-03-08 15:56"
    }
   ],
   "source": [
    "import scala.xml._\n",
    "val html = XML.loadFile(\"/root/git-notebook/scala/test.html\")\n",
    "val test= html \\\\ \"img\"\n",
    "val nonalt = test.filter(f => f.attribute(\"alt\") == None)  // get element without alt \n",
    "val srcs = html \\\\ \"img\" \\\\ \"@src\" // print all image names\n",
    "val links = for (a <- html \\\\ \"a\" ) yield a.text -> a.attribute(\"href\").get(0).toString  // build a table  name->link\n",
    "links.toMap"
   ]
  },
  {
   "cell_type": "code",
   "execution_count": null,
   "metadata": {
    "collapsed": false,
    "id": "0BA468ED74A24EE8BAF0D302BA7504DB",
    "input_collapsed": false,
    "presentation": {
     "pivot_chart_state": "{\n  \"hiddenAttributes\": [],\n  \"menuLimit\": 200,\n  \"cols\": [],\n  \"rows\": [],\n  \"vals\": [],\n  \"exclusions\": {},\n  \"inclusions\": {},\n  \"unusedAttrsVertical\": 85,\n  \"autoSortUnusedAttrs\": false,\n  \"inclusionsInfo\": {},\n  \"aggregatorName\": \"Count\",\n  \"rendererName\": \"Table\"\n}",
     "tabs_state": "{\n  \"tab_id\": \"#tab605774352-0\"\n}"
    }
   },
   "outputs": [
    {
     "name": "stdout",
     "output_type": "stream",
     "text": [
      "convert: (src: Map[String,String])scala.xml.Elem\n",
      "dl: scala.xml.Elem = <dl><dt>a</dt><dd>1</dd><dt>b</dt><dd>2</dd></dl>\n",
      "reconvert: (src: scala.xml.Elem)Map[String,String]\n",
      "res247: Map[String,String] = Map(b -> 2, a -> 1)\n"
     ]
    },
    {
     "data": {
      "text/html": [
       "<div>\n",
       "      <script data-this=\"{&quot;dataId&quot;:&quot;anon9c77064fac9fb9cafc36f6a68c81eb92&quot;,&quot;dataInit&quot;:[],&quot;genId&quot;:&quot;605774352&quot;}\" type=\"text/x-scoped-javascript\">/*<![CDATA[*/req(['../javascripts/notebook/playground','../javascripts/notebook/magic/tabs'], \n",
       "      function(playground, _magictabs) {\n",
       "        // data ==> data-this (in observable.js's scopedEval) ==> this in JS => { dataId, dataInit, ... }\n",
       "        // this ==> scope (in observable.js's scopedEval) ==> this.parentElement ==> div.container below (toHtml)\n",
       "\n",
       "        playground.call(data,\n",
       "                        this\n",
       "                        ,\n",
       "                        {\n",
       "    \"f\": _magictabs,\n",
       "    \"o\": {}\n",
       "  }\n",
       "  \n",
       "                        \n",
       "                        \n",
       "                      );\n",
       "      }\n",
       "    );/*]]>*/</script>\n",
       "    <div>\n",
       "      <div>\n",
       "        <ul class=\"nav nav-tabs\" id=\"ul605774352\"><li>\n",
       "              <a href=\"#tab605774352-0\"><i class=\"fa fa-table\"/></a>\n",
       "            </li><li>\n",
       "              <a href=\"#tab605774352-1\"><i class=\"fa fa-pie-chart\"/></a>\n",
       "            </li><li>\n",
       "              <a href=\"#tab605774352-2\"><i class=\"fa fa-cubes\"/></a>\n",
       "            </li></ul>\n",
       "\n",
       "        <div class=\"tab-content\" id=\"tab605774352\"><div class=\"tab-pane\" id=\"tab605774352-0\">\n",
       "            <div>\n",
       "      <script data-this=\"{&quot;dataId&quot;:&quot;anon1b94b4fa8f5bd187a97d27df592be14e&quot;,&quot;dataInit&quot;:[{&quot;_1&quot;:&quot;b&quot;,&quot;_2&quot;:&quot;2&quot;},{&quot;_1&quot;:&quot;a&quot;,&quot;_2&quot;:&quot;1&quot;}],&quot;genId&quot;:&quot;805005740&quot;}\" type=\"text/x-scoped-javascript\">/*<![CDATA[*/req(['../javascripts/notebook/playground','../javascripts/notebook/magic/tableChart'], \n",
       "      function(playground, _magictableChart) {\n",
       "        // data ==> data-this (in observable.js's scopedEval) ==> this in JS => { dataId, dataInit, ... }\n",
       "        // this ==> scope (in observable.js's scopedEval) ==> this.parentElement ==> div.container below (toHtml)\n",
       "\n",
       "        playground.call(data,\n",
       "                        this\n",
       "                        ,\n",
       "                        {\n",
       "    \"f\": _magictableChart,\n",
       "    \"o\": {\"headers\":[\"_1\",\"_2\"],\"width\":600,\"height\":400}\n",
       "  }\n",
       "  \n",
       "                        \n",
       "                        \n",
       "                      );\n",
       "      }\n",
       "    );/*]]>*/</script>\n",
       "    <div>\n",
       "      <span class=\"chart-total-item-count\"><p data-bind=\"text: value\"><script data-this=\"{&quot;valueId&quot;:&quot;anoncf3916e75499d9859fc5ff592e590e72&quot;,&quot;initialValue&quot;:&quot;2&quot;}\" type=\"text/x-scoped-javascript\">/*<![CDATA[*/\n",
       "req(\n",
       "['observable', 'knockout'],\n",
       "function (O, ko) {\n",
       "  ko.applyBindings({\n",
       "      value: O.makeObservable(valueId, initialValue)\n",
       "    },\n",
       "    this\n",
       "  );\n",
       "});\n",
       "        /*]]>*/</script></p> entries total</span>\n",
       "      <span class=\"chart-sampling-warning\"><p data-bind=\"text: value\"><script data-this=\"{&quot;valueId&quot;:&quot;anon37d0c011bc63d337499977b2ccfdc1b3&quot;,&quot;initialValue&quot;:&quot;&quot;}\" type=\"text/x-scoped-javascript\">/*<![CDATA[*/\n",
       "req(\n",
       "['observable', 'knockout'],\n",
       "function (O, ko) {\n",
       "  ko.applyBindings({\n",
       "      value: O.makeObservable(valueId, initialValue)\n",
       "    },\n",
       "    this\n",
       "  );\n",
       "});\n",
       "        /*]]>*/</script></p></span>\n",
       "      <div>\n",
       "      </div>\n",
       "    </div></div>\n",
       "            </div><div class=\"tab-pane\" id=\"tab605774352-1\">\n",
       "            <div>\n",
       "      <script data-this=\"{&quot;dataId&quot;:&quot;anonfbfa6391faee32f9d2de02f85c1b3b4d&quot;,&quot;dataInit&quot;:[{&quot;_1&quot;:&quot;b&quot;,&quot;_2&quot;:&quot;2&quot;},{&quot;_1&quot;:&quot;a&quot;,&quot;_2&quot;:&quot;1&quot;}],&quot;genId&quot;:&quot;1495826152&quot;}\" type=\"text/x-scoped-javascript\">/*<![CDATA[*/req(['../javascripts/notebook/playground','../javascripts/notebook/magic/pieChart'], \n",
       "      function(playground, _magicpieChart) {\n",
       "        // data ==> data-this (in observable.js's scopedEval) ==> this in JS => { dataId, dataInit, ... }\n",
       "        // this ==> scope (in observable.js's scopedEval) ==> this.parentElement ==> div.container below (toHtml)\n",
       "\n",
       "        playground.call(data,\n",
       "                        this\n",
       "                        ,\n",
       "                        {\n",
       "    \"f\": _magicpieChart,\n",
       "    \"o\": {\"series\":\"_1\",\"p\":\"_2\",\"width\":600,\"height\":400}\n",
       "  }\n",
       "  \n",
       "                        \n",
       "                        \n",
       "                      );\n",
       "      }\n",
       "    );/*]]>*/</script>\n",
       "    <div>\n",
       "      <span class=\"chart-total-item-count\"><p data-bind=\"text: value\"><script data-this=\"{&quot;valueId&quot;:&quot;anon94a523f3d7195075028803843a469ce2&quot;,&quot;initialValue&quot;:&quot;2&quot;}\" type=\"text/x-scoped-javascript\">/*<![CDATA[*/\n",
       "req(\n",
       "['observable', 'knockout'],\n",
       "function (O, ko) {\n",
       "  ko.applyBindings({\n",
       "      value: O.makeObservable(valueId, initialValue)\n",
       "    },\n",
       "    this\n",
       "  );\n",
       "});\n",
       "        /*]]>*/</script></p> entries total</span>\n",
       "      <span class=\"chart-sampling-warning\"><p data-bind=\"text: value\"><script data-this=\"{&quot;valueId&quot;:&quot;anone0339d99ed1ee630f6f77fbf73bb6c0d&quot;,&quot;initialValue&quot;:&quot;&quot;}\" type=\"text/x-scoped-javascript\">/*<![CDATA[*/\n",
       "req(\n",
       "['observable', 'knockout'],\n",
       "function (O, ko) {\n",
       "  ko.applyBindings({\n",
       "      value: O.makeObservable(valueId, initialValue)\n",
       "    },\n",
       "    this\n",
       "  );\n",
       "});\n",
       "        /*]]>*/</script></p></span>\n",
       "      <div>\n",
       "      </div>\n",
       "    </div></div>\n",
       "            </div><div class=\"tab-pane\" id=\"tab605774352-2\">\n",
       "            <div>\n",
       "      <script data-this=\"{&quot;dataId&quot;:&quot;anoncac857a65329f852e93fb33fe8d597ca&quot;,&quot;dataInit&quot;:[{&quot;_1&quot;:&quot;b&quot;,&quot;_2&quot;:&quot;2&quot;},{&quot;_1&quot;:&quot;a&quot;,&quot;_2&quot;:&quot;1&quot;}],&quot;genId&quot;:&quot;27696367&quot;}\" type=\"text/x-scoped-javascript\">/*<![CDATA[*/req(['../javascripts/notebook/playground','../javascripts/notebook/magic/pivotChart'], \n",
       "      function(playground, _magicpivotChart) {\n",
       "        // data ==> data-this (in observable.js's scopedEval) ==> this in JS => { dataId, dataInit, ... }\n",
       "        // this ==> scope (in observable.js's scopedEval) ==> this.parentElement ==> div.container below (toHtml)\n",
       "\n",
       "        playground.call(data,\n",
       "                        this\n",
       "                        ,\n",
       "                        {\n",
       "    \"f\": _magicpivotChart,\n",
       "    \"o\": {\"width\":600,\"height\":400,\"derivedAttributes\":{},\"extraOptions\":{}}\n",
       "  }\n",
       "  \n",
       "                        \n",
       "                        \n",
       "                      );\n",
       "      }\n",
       "    );/*]]>*/</script>\n",
       "    <div>\n",
       "      <span class=\"chart-total-item-count\"><p data-bind=\"text: value\"><script data-this=\"{&quot;valueId&quot;:&quot;anon1eb2049e8bd7065e6dda37a43ccd012c&quot;,&quot;initialValue&quot;:&quot;2&quot;}\" type=\"text/x-scoped-javascript\">/*<![CDATA[*/\n",
       "req(\n",
       "['observable', 'knockout'],\n",
       "function (O, ko) {\n",
       "  ko.applyBindings({\n",
       "      value: O.makeObservable(valueId, initialValue)\n",
       "    },\n",
       "    this\n",
       "  );\n",
       "});\n",
       "        /*]]>*/</script></p> entries total</span>\n",
       "      <span class=\"chart-sampling-warning\"><p data-bind=\"text: value\"><script data-this=\"{&quot;valueId&quot;:&quot;anon3f1ca4a0b3a07509fb5e03afc41aa3c2&quot;,&quot;initialValue&quot;:&quot;&quot;}\" type=\"text/x-scoped-javascript\">/*<![CDATA[*/\n",
       "req(\n",
       "['observable', 'knockout'],\n",
       "function (O, ko) {\n",
       "  ko.applyBindings({\n",
       "      value: O.makeObservable(valueId, initialValue)\n",
       "    },\n",
       "    this\n",
       "  );\n",
       "});\n",
       "        /*]]>*/</script></p></span>\n",
       "      <div>\n",
       "      </div>\n",
       "    </div></div>\n",
       "            </div></div>\n",
       "      </div>\n",
       "    </div></div>"
      ]
     },
     "execution_count": 175,
     "metadata": {},
     "output_type": "execute_result",
     "time": "Took: 1.284s, at 2019-03-08 15:56"
    }
   ],
   "source": [
    "// map -> table\n",
    "def convert(src: Map[String,String]):Elem = {<dl>{for(s <- src) yield <dt>{s._1}</dt><dd>{s._2}</dd> }</dl>}\n",
    "val dl = convert(Map(\"a\"->\"1\",\"b\"->\"2\"))\n",
    "\n",
    "// table -> map\n",
    "// refer\n",
    "// https://github.com/viktor-podzigun/scala-impatient/blob/9569bce74837102f7a98bfea828d4f6af6788f3a/src/main/scala/Chapter16.scala#L182\n",
    "def reconvert(src: Elem): Map[String,String] = {\n",
    "  val result = new collection.mutable.HashMap[String,String]\n",
    "  var ck = \"\";\n",
    "  for (d <- dl.child) d match {\n",
    "    case <dt>{k}</dt> => ck = k.text\n",
    "    case <dd>{v}</dd> => result(ck) = v.text\n",
    "  }\n",
    "  result.toMap\n",
    "}\n",
    "reconvert(dl)"
   ]
  },
  {
   "cell_type": "code",
   "execution_count": null,
   "metadata": {
    "collapsed": false,
    "id": "A2A6AB7064EC4BDEB9291FB15EA6521C",
    "input_collapsed": false
   },
   "outputs": [
    {
     "name": "stdout",
     "output_type": "stream",
     "text": [
      "import scala.xml.transform._\n",
      "rule1: scala.xml.transform.RewriteRule = <function1>\n",
      "res245: Seq[scala.xml.Node] =\n",
      "<html>\n",
      "    <head>\n",
      "        <meta charset=\"utf-8\"/>\n",
      "        <meta content=\"width=device-width\" name=\"viewport\"/>\n",
      "        <title/>\n",
      "    </head>\n",
      "    <body>\n",
      "        <img alt=\"TODO\" src=\"1.gif\"/>\n",
      "        <img alt=\"TODO\" src=\"2.gif\"/>\n",
      "        <img alt=\"3\" src=\"3.gif\"/>\n",
      "        <img alt=\"4\" src=\"4.gif\"/>\n",
      "        <a href=\"www.baidu.com\">baidu</a>\n",
      "        <a href=\"www.google.com\">google</a>\n",
      "        <a href=\"www.bing.com\">bing</a>\n",
      "    </body>\n",
      "</html>\n"
     ]
    },
    {
     "data": {
      "text/html": [
       "<div class=\"alert alert-danger\"><div>Exception in implicit renderer: </div><pre>scala.collection.generic.GenTraversableFactory$GenericCanBuildFrom.apply(GenTraversableFactory.scala:57)\n",
       "scala.collection.generic.GenTraversableFactory$GenericCanBuildFrom.apply(GenTraversableFactory.scala:52)\n",
       "scala.collection.TraversableLike$class.builder$1(TraversableLike.scala:229)\n",
       "scala.collection.TraversableLike$class.map(TraversableLike.scala:233)\n",
       "scala.collection.AbstractTraversable.map(Traversable.scala:104)\n",
       "notebook.front.widgets.Utils$class.toJson(Utils.scala:63)\n",
       "notebook.front.widgets.charts.Chart.toJson(Chart.scala:34)\n",
       "notebook.front.widgets.Utils$$anonfun$3.apply(Utils.scala:63)\n",
       "notebook.front.widgets.Utils$$anonfun$3.apply(Utils.scala:63)\n",
       "scala.collection.TraversableLike$$anonfun$map$1.apply(TraversableLike.scala:234)\n",
       "scala.collection.TraversableLike$$anonfun$map$1.apply(TraversableLike.scala:234)\n",
       "scala.collection.Iterator$class.foreach(Iterator.scala:893)\n",
       "scala.collection.AbstractIterator.foreach(Iterator.scala:1336)\n",
       "scala.collection.IterableLike$class.foreach(IterableLike.scala:72)\n",
       "scala.collection.AbstractIterable.foreach(Iterable.scala:54)\n",
       "scala.collection.TraversableLike$class.map(TraversableLike.scala:234)\n",
       "scala.collection.AbstractTraversable.map(Traversable.scala:104)\n",
       "notebook.front.widgets.Utils$class.toJson(Utils.scala:63)\n",
       "notebook.front.widgets.charts.Chart.toJson(Chart.scala:34)\n",
       "notebook.front.widgets.Utils$$anonfun$3.apply(Utils.scala:63)\n",
       "notebook.front.widgets.Utils$$anonfun$3.apply(Utils.scala:63)\n",
       "scala.collection.TraversableLike$$anonfun$map$1.apply(TraversableLike.scala:234)\n",
       "scala.collection.TraversableLike$$anonfun$map$1.apply(TraversableLike.scala:234)\n",
       "scala.collection.Iterator$class.foreach(Iterator.scala:893)\n",
       "scala.collection.AbstractIterator.foreach(Iterator.scala:1336)\n",
       "scala.collection.IterableLike$class.foreach(IterableLike.scala:72)\n",
       "scala.collection.AbstractIterable.foreach(Iterable.scala:54)\n",
       "scala.collection.TraversableLike$class.map(TraversableLike.scala:234)\n",
       "scala.collection.AbstractTraversable.map(Traversable.scala:104)\n",
       "notebook.front.widgets.Utils$class.toJson(Utils.scala:63)\n",
       "notebook.front.widgets.charts.Chart.toJson(Chart.scala:34)\n",
       "notebook.front.widgets.Utils$$anonfun$3.apply(Utils.scala:63)\n",
       "notebook.front.widgets.Utils$$anonfun$3.apply(Utils.scala:63)\n",
       "scala.collection.TraversableLike$$anonfun$map$1.apply(TraversableLike.scala:234)\n",
       "scala.collection.TraversableLike$$anonfun$map$1.apply(TraversableLike.scala:234)\n",
       "scala.collection.Iterator$class.foreach(Iterator.scala:893)\n",
       "scala.collection.AbstractIterator.foreach(Iterator.scala:1336)\n",
       "scala.collection.IterableLike$class.foreach(IterableLike.scala:72)\n",
       "scala.collection.AbstractIterable.foreach(Iterable.scala:54)\n",
       "scala.collection.TraversableLike$class.map(TraversableLike.scala:234)\n",
       "scala.collection.AbstractTraversable.map(Traversable.scala:104)\n",
       "notebook.front.widgets.Utils$class.toJson(Utils.scala:63)\n",
       "notebook.front.widgets.charts.Chart.toJson(Chart.scala:34)\n",
       "notebook.front.widgets.Utils$$anonfun$3.apply(Utils.scala:63)\n",
       "notebook.front.widgets.Utils$$anonfun$3.apply(Utils.scala:63)\n",
       "scala.collection.TraversableLike$$anonfun$map$1.apply(TraversableLike.scala:234)\n",
       "scala.collection.TraversableLike$$anonfun$map$1.apply(TraversableLike.scala:234)\n",
       "scala.collection.Iterator$class.foreach(Iterator.scala:893)\n",
       "scala.collection.AbstractIterator.foreach(Iterator.scala:1336)\n",
       "scala.collection.IterableLike$class.foreach(IterableLike.scala:72)\n",
       "scala.collection.AbstractIterable.foreach(Iterable.scala:54)\n",
       "scala.collection.TraversableLike$class.map(TraversableLike.scala:234)\n",
       "scala.collection.AbstractTraversable.map(Traversable.scala:104)\n",
       "notebook.front.widgets.Utils$class.toJson(Utils.scala:63)\n",
       "notebook.front.widgets.charts.Chart.toJson(Chart.scala:34)\n",
       "notebook.front.widgets.Utils$$anonfun$3.apply(Utils.scala:63)\n",
       "notebook.front.widgets.Utils$$anonfun$3.apply(Utils.scala:63)\n",
       "scala.collection.TraversableLike$$anonfun$map$1.apply(TraversableLike.scala:234)\n",
       "scala.collection.TraversableLike$$anonfun$map$1.apply(TraversableLike.scala:234)\n",
       "scala.collection.Iterator$class.foreach(Iterator.scala:893)\n",
       "scala.collection.AbstractIterator.foreach(Iterator.scala:1336)\n",
       "scala.collection.IterableLike$class.foreach(IterableLike.scala:72)\n",
       "scala.collection.AbstractIterable.foreach(Iterable.scala:54)\n",
       "scala.collection.TraversableLike$class.map(TraversableLike.scala:234)\n",
       "scala.collection.AbstractTraversable.map(Traversable.scala:104)\n",
       "notebook.front.widgets.Utils$class.toJson(Utils.scala:63)\n",
       "notebook.front.widgets.charts.Chart.toJson(Chart.scala:34)\n",
       "notebook.front.widgets.Utils$$anonfun$3.apply(Utils.scala:63)\n",
       "notebook.front.widgets.Utils$$anonfun$3.apply(Utils.scala:63)\n",
       "scala.collection.TraversableLike$$anonfun$map$1.apply(TraversableLike.scala:234)\n",
       "scala.collection.TraversableLike$$anonfun$map$1.apply(TraversableLike.scala:234)\n",
       "scala.collection.Iterator$class.foreach(Iterator.scala:893)\n",
       "scala.collection.AbstractIterator.foreach(Iterator.scala:1336)\n",
       "scala.collection.IterableLike$class.foreach(IterableLike.scala:72)\n",
       "scala.collection.AbstractIterable.foreach(Iterable.scala:54)\n",
       "scala.collection.TraversableLike$class.map(TraversableLike.scala:234)\n",
       "scala.collection.AbstractTraversable.map(Traversable.scala:104)\n",
       "notebook.front.widgets.Utils$class.toJson(Utils.scala:63)\n",
       "notebook.front.widgets.charts.Chart.toJson(Chart.scala:34)\n",
       "notebook.front.widgets.Utils$$anonfun$3.apply(Utils.scala:63)\n",
       "notebook.front.widgets.Utils$$anonfun$3.apply(Utils.scala:63)\n",
       "scala.collection.TraversableLike$$anonfun$map$1.apply(TraversableLike.scala:234)\n",
       "scala.collection.TraversableLike$$anonfun$map$1.apply(TraversableLike.scala:234)\n",
       "scala.collection.Iterator$class.foreach(Iterator.scala:893)\n",
       "scala.collection.AbstractIterator.foreach(Iterator.scala:1336)\n",
       "scala.collection.IterableLike$class.foreach(IterableLike.scala:72)\n",
       "scala.collection.AbstractIterable.foreach(Iterable.scala:54)\n",
       "scala.collection.TraversableLike$class.map(TraversableLike.scala:234)\n",
       "scala.collection.AbstractTraversable.map(Traversable.scala:104)\n",
       "notebook.front.widgets.Utils$class.toJson(Utils.scala:63)\n",
       "notebook.front.widgets.charts.Chart.toJson(Chart.scala:34)\n",
       "notebook.front.widgets.Utils$$anonfun$3.apply(Utils.scala:63)\n",
       "notebook.front.widgets.Utils$$anonfun$3.apply(Utils.scala:63)\n",
       "scala.collection.TraversableLike$$anonfun$map$1.apply(TraversableLike.scala:234)\n",
       "scala.collection.TraversableLike$$anonfun$map$1.apply(TraversableLike.scala:234)\n",
       "scala.collection.Iterator$class.foreach(Iterator.scala:893)\n",
       "scala.collection.AbstractIterator.foreach(Iterator.scala:1336)\n",
       "scala.collection.IterableLike$class.foreach(IterableLike.scala:72)\n",
       "scala.collection.AbstractIterable.foreach(Iterable.scala:54)\n",
       "scala.collection.TraversableLike$class.map(TraversableLike.scala:234)\n",
       "scala.collection.AbstractTraversable.map(Traversable.scala:104)\n",
       "notebook.front.widgets.Utils$class.toJson(Utils.scala:63)\n",
       "notebook.front.widgets.charts.Chart.toJson(Chart.scala:34)\n",
       "notebook.front.widgets.Utils$$anonfun$3.apply(Utils.scala:63)\n",
       "notebook.front.widgets.Utils$$anonfun$3.apply(Utils.scala:63)\n",
       "scala.collection.TraversableLike$$anonfun$map$1.apply(TraversableLike.scala:234)\n",
       "scala.collection.TraversableLike$$anonfun$map$1.apply(TraversableLike.scala:234)\n",
       "scala.collection.Iterator$class.foreach(Iterator.scala:893)\n",
       "scala.collection.AbstractIterator.foreach(Iterator.scala:1336)\n",
       "scala.collection.IterableLike$class.foreach(IterableLike.scala:72)\n",
       "scala.collection.AbstractIterable.foreach(Iterable.scala:54)\n",
       "scala.collection.TraversableLike$class.map(TraversableLike.scala:234)\n",
       "scala.collection.AbstractTraversable.map(Traversable.scala:104)\n",
       "notebook.front.widgets.Utils$class.toJson(Utils.scala:63)\n",
       "notebook.front.widgets.charts.Chart.toJson(Chart.scala:34)\n",
       "notebook.front.widgets.Utils$$anonfun$3.apply(Utils.scala:63)\n",
       "notebook.front.widgets.Utils$$anonfun$3.apply(Utils.scala:63)\n",
       "scala.collection.TraversableLike$$anonfun$map$1.apply(TraversableLike.scala:234)\n",
       "scala.collection.TraversableLike$$anonfun$map$1.apply(TraversableLike.scala:234)\n",
       "scala.collection.Iterator$class.foreach(Iterator.scala:893)\n",
       "scala.collection.AbstractIterator.foreach(Iterator.scala:1336)\n",
       "scala.collection.IterableLike$class.foreach(IterableLike.scala:72)\n",
       "scala.collection.AbstractIterable.foreach(Iterable.scala:54)\n",
       "scala.collection.TraversableLike$class.map(TraversableLike.scala:234)\n",
       "scala.collection.AbstractTraversable.map(Traversable.scala:104)\n",
       "notebook.front.widgets.Utils$class.toJson(Utils.scala:63)\n",
       "notebook.front.widgets.charts.Chart.toJson(Chart.scala:34)\n",
       "notebook.front.widgets.Utils$$anonfun$3.apply(Utils.scala:63)\n",
       "notebook.front.widgets.Utils$$anonfun$3.apply(Utils.scala:63)\n",
       "scala.collection.TraversableLike$$anonfun$map$1.apply(TraversableLike.scala:234)\n",
       "scala.collection.TraversableLike$$anonfun$map$1.apply(TraversableLike.scala:234)\n",
       "scala.collection.Iterator$class.foreach(Iterator.scala:893)\n",
       "scala.collection.AbstractIterator.foreach(Iterator.scala:1336)\n",
       "scala.collection.IterableLike$class.foreach(IterableLike.scala:72)\n",
       "scala.collection.AbstractIterable.foreach(Iterable.scala:54)\n",
       "scala.collection.TraversableLike$class.map(TraversableLike.scala:234)\n",
       "scala.collection.AbstractTraversable.map(Traversable.scala:104)\n",
       "notebook.front.widgets.Utils$class.toJson(Utils.scala:63)\n",
       "notebook.front.widgets.charts.Chart.toJson(Chart.scala:34)\n",
       "notebook.front.widgets.Utils$$anonfun$3.apply(Utils.scala:63)\n",
       "notebook.front.widgets.Utils$$anonfun$3.apply(Utils.scala:63)\n",
       "scala.collection.TraversableLike$$anonfun$map$1.apply(TraversableLike.scala:234)\n",
       "scala.collection.TraversableLike$$anonfun$map$1.apply(TraversableLike.scala:234)\n",
       "scala.collection.Iterator$class.foreach(Iterator.scala:893)\n",
       "scala.collection.AbstractIterator.foreach(Iterator.scala:1336)\n",
       "scala.collection.IterableLike$class.foreach(IterableLike.scala:72)\n",
       "scala.collection.AbstractIterable.foreach(Iterable.scala:54)\n",
       "scala.collection.TraversableLike$class.map(TraversableLike.scala:234)\n",
       "scala.collection.AbstractTraversable.map(Traversable.scala:104)\n",
       "notebook.front.widgets.Utils$class.toJson(Utils.scala:63)\n",
       "notebook.front.widgets.charts.Chart.toJson(Chart.scala:34)\n",
       "notebook.front.widgets.Utils$$anonfun$3.apply(Utils.scala:63)\n",
       "notebook.front.widgets.Utils$$anonfun$3.apply(Utils.scala:63)\n",
       "scala.collection.TraversableLike$$anonfun$map$1.apply(TraversableLike.scala:234)\n",
       "scala.collection.TraversableLike$$anonfun$map$1.apply(TraversableLike.scala:234)\n",
       "scala.collection.Iterator$class.foreach(Iterator.scala:893)\n",
       "scala.collection.AbstractIterator.foreach(Iterator.scala:1336)\n",
       "scala.collection.IterableLike$class.foreach(IterableLike.scala:72)\n",
       "scala.collection.AbstractIterable.foreach(Iterable.scala:54)\n",
       "scala.collection.TraversableLike$class.map(TraversableLike.scala:234)\n",
       "scala.collection.AbstractTraversable.map(Traversable.scala:104)\n",
       "notebook.front.widgets.Utils$class.toJson(Utils.scala:63)\n",
       "notebook.front.widgets.charts.Chart.toJson(Chart.scala:34)\n",
       "notebook.front.widgets.Utils$$anonfun$3.apply(Utils.scala:63)\n",
       "notebook.front.widgets.Utils$$anonfun$3.apply(Utils.scala:63)\n",
       "scala.collection.TraversableLike$$anonfun$map$1.apply(TraversableLike.scala:234)\n",
       "scala.collection.TraversableLike$$anonfun$map$1.apply(TraversableLike.scala:234)\n",
       "scala.collection.Iterator$class.foreach(Iterator.scala:893)\n",
       "scala.collection.AbstractIterator.foreach(Iterator.scala:1336)\n",
       "scala.collection.IterableLike$class.foreach(IterableLike.scala:72)\n",
       "scala.collection.AbstractIterable.foreach(Iterable.scala:54)\n",
       "scala.collection.TraversableLike$class.map(TraversableLike.scala:234)\n",
       "scala.collection.AbstractTraversable.map(Traversable.scala:104)\n",
       "notebook.front.widgets.Utils$class.toJson(Utils.scala:63)\n",
       "notebook.front.widgets.charts.Chart.toJson(Chart.scala:34)\n",
       "notebook.front.widgets.Utils$$anonfun$3.apply(Utils.scala:63)\n",
       "notebook.front.widgets.Utils$$anonfun$3.apply(Utils.scala:63)\n",
       "scala.collection.TraversableLike$$anonfun$map$1.apply(TraversableLike.scala:234)\n",
       "scala.collection.TraversableLike$$anonfun$map$1.apply(TraversableLike.scala:234)\n",
       "scala.collection.Iterator$class.foreach(Iterator.scala:893)\n",
       "scala.collection.AbstractIterator.foreach(Iterator.scala:1336)\n",
       "scala.collection.IterableLike$class.foreach(IterableLike.scala:72)\n",
       "scala.collection.AbstractIterable.foreach(Iterable.scala:54)\n",
       "scala.collection.TraversableLike$class.map(TraversableLike.scala:234)\n",
       "scala.collection.AbstractTraversable.map(Traversable.scala:104)\n",
       "notebook.front.widgets.Utils$class.toJson(Utils.scala:63)\n",
       "notebook.front.widgets.charts.Chart.toJson(Chart.scala:34)\n",
       "notebook.front.widgets.Utils$$anonfun$3.apply(Utils.scala:63)\n",
       "notebook.front.widgets.Utils$$anonfun$3.apply(Utils.scala:63)\n",
       "scala.collection.TraversableLike$$anonfun$map$1.apply(TraversableLike.scala:234)\n",
       "scala.collection.TraversableLike$$anonfun$map$1.apply(TraversableLike.scala:234)\n",
       "scala.collection.Iterator$class.foreach(Iterator.scala:893)\n",
       "scala.collection.AbstractIterator.foreach(Iterator.scala:1336)\n",
       "scala.collection.IterableLike$class.foreach(IterableLike.scala:72)\n",
       "scala.collection.AbstractIterable.foreach(Iterable.scala:54)\n",
       "scala.collection.TraversableLike$class.map(TraversableLike.scala:234)\n",
       "scala.collection.AbstractTraversable.map(Traversable.scala:104)\n",
       "notebook.front.widgets.Utils$class.toJson(Utils.scala:63)\n",
       "notebook.front.widgets.charts.Chart.toJson(Chart.scala:34)\n",
       "notebook.front.widgets.Utils$$anonfun$3.apply(Utils.scala:63)\n",
       "notebook.front.widgets.Utils$$anonfun$3.apply(Utils.scala:63)\n",
       "scala.collection.TraversableLike$$anonfun$map$1.apply(TraversableLike.scala:234)\n",
       "scala.collection.TraversableLike$$anonfun$map$1.apply(TraversableLike.scala:234)\n",
       "scala.collection.Iterator$class.foreach(Iterator.scala:893)\n",
       "scala.collection.AbstractIterator.foreach(Iterator.scala:1336)\n",
       "scala.collection.IterableLike$class.foreach(IterableLike.scala:72)\n",
       "scala.collection.AbstractIterable.foreach(Iterable.scala:54)\n",
       "scala.collection.TraversableLike$class.map(TraversableLike.scala:234)\n",
       "scala.collection.AbstractTraversable.map(Traversable.scala:104)\n",
       "notebook.front.widgets.Utils$class.toJson(Utils.scala:63)\n",
       "notebook.front.widgets.charts.Chart.toJson(Chart.scala:34)\n",
       "notebook.front.widgets.Utils$$anonfun$3.apply(Utils.scala:63)\n",
       "notebook.front.widgets.Utils$$anonfun$3.apply(Utils.scala:63)\n",
       "scala.collection.TraversableLike$$anonfun$map$1.apply(TraversableLike.scala:234)\n",
       "scala.collection.TraversableLike$$anonfun$map$1.apply(TraversableLike.scala:234)\n",
       "scala.collection.Iterator$class.foreach(Iterator.scala:893)\n",
       "scala.collection.AbstractIterator.foreach(Iterator.scala:1336)\n",
       "scala.collection.IterableLike$class.foreach(IterableLike.scala:72)\n",
       "scala.collection.AbstractIterable.foreach(Iterable.scala:54)\n",
       "scala.collection.TraversableLike$class.map(TraversableLike.scala:234)\n",
       "scala.collection.AbstractTraversable.map(Traversable.scala:104)\n",
       "notebook.front.widgets.Utils$class.toJson(Utils.scala:63)\n",
       "notebook.front.widgets.charts.Chart.toJson(Chart.scala:34)\n",
       "notebook.front.widgets.Utils$$anonfun$3.apply(Utils.scala:63)\n",
       "notebook.front.widgets.Utils$$anonfun$3.apply(Utils.scala:63)\n",
       "scala.collection.TraversableLike$$anonfun$map$1.apply(TraversableLike.scala:234)\n",
       "scala.collection.TraversableLike$$anonfun$map$1.apply(TraversableLike.scala:234)\n",
       "scala.collection.Iterator$class.foreach(Iterator.scala:893)\n",
       "scala.collection.AbstractIterator.foreach(Iterator.scala:1336)\n",
       "scala.collection.IterableLike$class.foreach(IterableLike.scala:72)\n",
       "scala.collection.AbstractIterable.foreach(Iterable.scala:54)\n",
       "scala.collection.TraversableLike$class.map(TraversableLike.scala:234)\n",
       "scala.collection.AbstractTraversable.map(Traversable.scala:104)\n",
       "notebook.front.widgets.Utils$class.toJson(Utils.scala:63)\n",
       "notebook.front.widgets.charts.Chart.toJson(Chart.scala:34)\n",
       "notebook.front.widgets.Utils$$anonfun$3.apply(Utils.scala:63)\n",
       "notebook.front.widgets.Utils$$anonfun$3.apply(Utils.scala:63)\n",
       "scala.collection.TraversableLike$$anonfun$map$1.apply(TraversableLike.scala:234)\n",
       "scala.collection.TraversableLike$$anonfun$map$1.apply(TraversableLike.scala:234)\n",
       "scala.collection.Iterator$class.foreach(Iterator.scala:893)\n",
       "scala.collection.AbstractIterator.foreach(Iterator.scala:1336)\n",
       "scala.collection.IterableLike$class.foreach(IterableLike.scala:72)\n",
       "scala.collection.AbstractIterable.foreach(Iterable.scala:54)\n",
       "scala.collection.TraversableLike$class.map(TraversableLike.scala:234)\n",
       "scala.collection.AbstractTraversable.map(Traversable.scala:104)\n",
       "notebook.front.widgets.Utils$class.toJson(Utils.scala:63)\n",
       "notebook.front.widgets.charts.Chart.toJson(Chart.scala:34)\n",
       "notebook.front.widgets.Utils$$anonfun$3.apply(Utils.scala:63)\n",
       "notebook.front.widgets.Utils$$anonfun$3.apply(Utils.scala:63)\n",
       "scala.collection.TraversableLike$$anonfun$map$1.apply(TraversableLike.scala:234)\n",
       "scala.collection.TraversableLike$$anonfun$map$1.apply(TraversableLike.scala:234)\n",
       "scala.collection.Iterator$class.foreach(Iterator.scala:893)\n",
       "scala.collection.AbstractIterator.foreach(Iterator.scala:1336)\n",
       "scala.collection.IterableLike$class.foreach(IterableLike.scala:72)\n",
       "scala.collection.AbstractIterable.foreach(Iterable.scala:54)\n",
       "scala.collection.TraversableLike$class.map(TraversableLike.scala:234)\n",
       "scala.collection.AbstractTraversable.map(Traversable.scala:104)\n",
       "notebook.front.widgets.Utils$class.toJson(Utils.scala:63)\n",
       "notebook.front.widgets.charts.Chart.toJson(Chart.scala:34)\n",
       "notebook.front.widgets.Utils$$anonfun$3.apply(Utils.scala:63)\n",
       "notebook.front.widgets.Utils$$anonfun$3.apply(Utils.scala:63)\n",
       "scala.collection.TraversableLike$$anonfun$map$1.apply(TraversableLike.scala:234)\n",
       "scala.collection.TraversableLike$$anonfun$map$1.apply(TraversableLike.scala:234)\n",
       "scala.collection.Iterator$class.foreach(Iterator.scala:893)\n",
       "scala.collection.AbstractIterator.foreach(Iterator.scala:1336)\n",
       "scala.collection.IterableLike$class.foreach(IterableLike.scala:72)\n",
       "scala.collection.AbstractIterable.foreach(Iterable.scala:54)\n",
       "scala.collection.TraversableLike$class.map(TraversableLike.scala:234)\n",
       "scala.collection.AbstractTraversable.map(Traversable.scala:104)\n",
       "notebook.front.widgets.Utils$class.toJson(Utils.scala:63)\n",
       "notebook.front.widgets.charts.Chart.toJson(Chart.scala:34)\n",
       "notebook.front.widgets.Utils$$anonfun$3.apply(Utils.scala:63)\n",
       "notebook.front.widgets.Utils$$anonfun$3.apply(Utils.scala:63)\n",
       "scala.collection.TraversableLike$$anonfun$map$1.apply(TraversableLike.scala:234)\n",
       "scala.collection.TraversableLike$$anonfun$map$1.apply(TraversableLike.scala:234)\n",
       "scala.collection.Iterator$class.foreach(Iterator.scala:893)\n",
       "scala.collection.AbstractIterator.foreach(Iterator.scala:1336)\n",
       "scala.collection.IterableLike$class.foreach(IterableLike.scala:72)\n",
       "scala.collection.AbstractIterable.foreach(Iterable.scala:54)\n",
       "scala.collection.TraversableLike$class.map(TraversableLike.scala:234)\n",
       "scala.collection.AbstractTraversable.map(Traversable.scala:104)\n",
       "notebook.front.widgets.Utils$class.toJson(Utils.scala:63)\n",
       "notebook.front.widgets.charts.Chart.toJson(Chart.scala:34)\n",
       "notebook.front.widgets.Utils$$anonfun$3.apply(Utils.scala:63)\n",
       "notebook.front.widgets.Utils$$anonfun$3.apply(Utils.scala:63)\n",
       "scala.collection.TraversableLike$$anonfun$map$1.apply(TraversableLike.scala:234)\n",
       "scala.collection.TraversableLike$$anonfun$map$1.apply(TraversableLike.scala:234)\n",
       "scala.collection.Iterator$class.foreach(Iterator.scala:893)\n",
       "scala.collection.AbstractIterator.foreach(Iterator.scala:1336)\n",
       "scala.collection.IterableLike$class.foreach(IterableLike.scala:72)\n",
       "scala.collection.AbstractIterable.foreach(Iterable.scala:54)\n",
       "scala.collection.TraversableLike$class.map(TraversableLike.scala:234)\n",
       "scala.collection.AbstractTraversable.map(Traversable.scala:104)\n",
       "notebook.front.widgets.Utils$class.toJson(Utils.scala:63)\n",
       "notebook.front.widgets.charts.Chart.toJson(Chart.scala:34)\n",
       "notebook.front.widgets.Utils$$anonfun$3.apply(Utils.scala:63)\n",
       "notebook.front.widgets.Utils$$anonfun$3.apply(Utils.scala:63)\n",
       "scala.collection.TraversableLike$$anonfun$map$1.apply(TraversableLike.scala:234)\n",
       "scala.collection.TraversableLike$$anonfun$map$1.apply(TraversableLike.scala:234)\n",
       "scala.collection.Iterator$class.foreach(Iterator.scala:893)\n",
       "scala.collection.AbstractIterator.foreach(Iterator.scala:1336)\n",
       "scala.collection.IterableLike$class.foreach(IterableLike.scala:72)\n",
       "scala.collection.AbstractIterable.foreach(Iterable.scala:54)\n",
       "scala.collection.TraversableLike$class.map(TraversableLike.scala:234)\n",
       "scala.collection.AbstractTraversable.map(Traversable.scala:104)\n",
       "notebook.front.widgets.Utils$class.toJson(Utils.scala:63)\n",
       "notebook.front.widgets.charts.Chart.toJson(Chart.scala:34)\n",
       "notebook.front.widgets.Utils$$anonfun$3.apply(Utils.scala:63)\n",
       "notebook.front.widgets.Utils$$anonfun$3.apply(Utils.scala:63)\n",
       "scala.collection.TraversableLike$$anonfun$map$1.apply(TraversableLike.scala:234)\n",
       "scala.collection.TraversableLike$$anonfun$map$1.apply(TraversableLike.scala:234)\n",
       "scala.collection.Iterator$class.foreach(Iterator.scala:893)\n",
       "scala.collection.AbstractIterator.foreach(Iterator.scala:1336)\n",
       "scala.collection.IterableLike$class.foreach(IterableLike.scala:72)\n",
       "scala.collection.AbstractIterable.foreach(Iterable.scala:54)\n",
       "scala.collection.TraversableLike$class.map(TraversableLike.scala:234)\n",
       "scala.collection.AbstractTraversable.map(Traversable.scala:104)\n",
       "notebook.front.widgets.Utils$class.toJson(Utils.scala:63)\n",
       "notebook.front.widgets.charts.Chart.toJson(Chart.scala:34)\n",
       "notebook.front.widgets.Utils$$anonfun$3.apply(Utils.scala:63)\n",
       "notebook.front.widgets.Utils$$anonfun$3.apply(Utils.scala:63)\n",
       "scala.collection.TraversableLike$$anonfun$map$1.apply(TraversableLike.scala:234)\n",
       "scala.collection.TraversableLike$$anonfun$map$1.apply(TraversableLike.scala:234)\n",
       "scala.collection.Iterator$class.foreach(Iterator.scala:893)\n",
       "scala.collection.AbstractIterator.foreach(Iterator.scala:1336)\n",
       "scala.collection.IterableLike$class.foreach(IterableLike.scala:72)\n",
       "scala.collection.AbstractIterable.foreach(Iterable.scala:54)\n",
       "scala.collection.TraversableLike$class.map(TraversableLike.scala:234)\n",
       "scala.collection.AbstractTraversable.map(Traversable.scala:104)\n",
       "notebook.front.widgets.Utils$class.toJson(Utils.scala:63)\n",
       "notebook.front.widgets.charts.Chart.toJson(Chart.scala:34)\n",
       "notebook.front.widgets.Utils$$anonfun$3.apply(Utils.scala:63)\n",
       "notebook.front.widgets.Utils$$anonfun$3.apply(Utils.scala:63)\n",
       "scala.collection.TraversableLike$$anonfun$map$1.apply(TraversableLike.scala:234)\n",
       "scala.collection.TraversableLike$$anonfun$map$1.apply(TraversableLike.scala:234)\n",
       "scala.collection.Iterator$class.foreach(Iterator.scala:893)\n",
       "scala.collection.AbstractIterator.foreach(Iterator.scala:1336)\n",
       "scala.collection.IterableLike$class.foreach(IterableLike.scala:72)\n",
       "scala.collection.AbstractIterable.foreach(Iterable.scala:54)\n",
       "scala.collection.TraversableLike$class.map(TraversableLike.scala:234)\n",
       "scala.collection.AbstractTraversable.map(Traversable.scala:104)\n",
       "notebook.front.widgets.Utils$class.toJson(Utils.scala:63)\n",
       "notebook.front.widgets.charts.Chart.toJson(Chart.scala:34)\n",
       "notebook.front.widgets.Utils$$anonfun$3.apply(Utils.scala:63)\n",
       "notebook.front.widgets.Utils$$anonfun$3.apply(Utils.scala:63)\n",
       "scala.collection.TraversableLike$$anonfun$map$1.apply(TraversableLike.scala:234)\n",
       "scala.collection.TraversableLike$$anonfun$map$1.apply(TraversableLike.scala:234)\n",
       "scala.collection.Iterator$class.foreach(Iterator.scala:893)\n",
       "scala.collection.AbstractIterator.foreach(Iterator.scala:1336)\n",
       "scala.collection.IterableLike$class.foreach(IterableLike.scala:72)\n",
       "scala.collection.AbstractIterable.foreach(Iterable.scala:54)\n",
       "scala.collection.TraversableLike$class.map(TraversableLike.scala:234)\n",
       "scala.collection.AbstractTraversable.map(Traversable.scala:104)\n",
       "notebook.front.widgets.Utils$class.toJson(Utils.scala:63)\n",
       "notebook.front.widgets.charts.Chart.toJson(Chart.scala:34)\n",
       "notebook.front.widgets.Utils$$anonfun$3.apply(Utils.scala:63)\n",
       "notebook.front.widgets.Utils$$anonfun$3.apply(Utils.scala:63)\n",
       "scala.collection.TraversableLike$$anonfun$map$1.apply(TraversableLike.scala:234)\n",
       "scala.collection.TraversableLike$$anonfun$map$1.apply(TraversableLike.scala:234)\n",
       "scala.collection.Iterator$class.foreach(Iterator.scala:893)\n",
       "scala.collection.AbstractIterator.foreach(Iterator.scala:1336)\n",
       "scala.collection.IterableLike$class.foreach(IterableLike.scala:72)\n",
       "scala.collection.AbstractIterable.foreach(Iterable.scala:54)\n",
       "scala.collection.TraversableLike$class.map(TraversableLike.scala:234)\n",
       "scala.collection.AbstractTraversable.map(Traversable.scala:104)\n",
       "notebook.front.widgets.Utils$class.toJson(Utils.scala:63)\n",
       "notebook.front.widgets.charts.Chart.toJson(Chart.scala:34)\n",
       "notebook.front.widgets.Utils$$anonfun$3.apply(Utils.scala:63)\n",
       "notebook.front.widgets.Utils$$anonfun$3.apply(Utils.scala:63)\n",
       "scala.collection.TraversableLike$$anonfun$map$1.apply(TraversableLike.scala:234)\n",
       "scala.collection.TraversableLike$$anonfun$map$1.apply(TraversableLike.scala:234)\n",
       "scala.collection.Iterator$class.foreach(Iterator.scala:893)\n",
       "scala.collection.AbstractIterator.foreach(Iterator.scala:1336)\n",
       "scala.collection.IterableLike$class.foreach(IterableLike.scala:72)\n",
       "scala.collection.AbstractIterable.foreach(Iterable.scala:54)\n",
       "scala.collection.TraversableLike$class.map(TraversableLike.scala:234)\n",
       "scala.collection.AbstractTraversable.map(Traversable.scala:104)\n",
       "notebook.front.widgets.Utils$class.toJson(Utils.scala:63)\n",
       "notebook.front.widgets.charts.Chart.toJson(Chart.scala:34)\n",
       "notebook.front.widgets.Utils$$anonfun$3.apply(Utils.scala:63)\n",
       "notebook.front.widgets.Utils$$anonfun$3.apply(Utils.scala:63)\n",
       "scala.collection.TraversableLike$$anonfun$map$1.apply(TraversableLike.scala:234)\n",
       "scala.collection.TraversableLike$$anonfun$map$1.apply(TraversableLike.scala:234)\n",
       "scala.collection.Iterator$class.foreach(Iterator.scala:893)\n",
       "scala.collection.AbstractIterator.foreach(Iterator.scala:1336)\n",
       "scala.collection.IterableLike$class.foreach(IterableLike.scala:72)\n",
       "scala.collection.AbstractIterable.foreach(Iterable.scala:54)\n",
       "scala.collection.TraversableLike$class.map(TraversableLike.scala:234)\n",
       "scala.collection.AbstractTraversable.map(Traversable.scala:104)\n",
       "notebook.front.widgets.Utils$class.toJson(Utils.scala:63)\n",
       "notebook.front.widgets.charts.Chart.toJson(Chart.scala:34)\n",
       "notebook.front.widgets.Utils$$anonfun$3.apply(Utils.scala:63)\n",
       "notebook.front.widgets.Utils$$anonfun$3.apply(Utils.scala:63)\n",
       "scala.collection.TraversableLike$$anonfun$map$1.apply(TraversableLike.scala:234)\n",
       "scala.collection.TraversableLike$$anonfun$map$1.apply(TraversableLike.scala:234)\n",
       "scala.collection.Iterator$class.foreach(Iterator.scala:893)\n",
       "scala.collection.AbstractIterator.foreach(Iterator.scala:1336)\n",
       "scala.collection.IterableLike$class.foreach(IterableLike.scala:72)\n",
       "scala.collection.AbstractIterable.foreach(Iterable.scala:54)\n",
       "scala.collection.TraversableLike$class.map(TraversableLike.scala:234)\n",
       "scala.collection.AbstractTraversable.map(Traversable.scala:104)\n",
       "notebook.front.widgets.Utils$class.toJson(Utils.scala:63)\n",
       "notebook.front.widgets.charts.Chart.toJson(Chart.scala:34)\n",
       "notebook.front.widgets.Utils$$anonfun$3.apply(Utils.scala:63)\n",
       "notebook.front.widgets.Utils$$anonfun$3.apply(Utils.scala:63)\n",
       "scala.collection.TraversableLike$$anonfun$map$1.apply(TraversableLike.scala:234)\n",
       "scala.collection.TraversableLike$$anonfun$map$1.apply(TraversableLike.scala:234)\n",
       "scala.collection.Iterator$class.foreach(Iterator.scala:893)\n",
       "scala.collection.AbstractIterator.foreach(Iterator.scala:1336)\n",
       "scala.collection.IterableLike$class.foreach(IterableLike.scala:72)\n",
       "scala.collection.AbstractIterable.foreach(Iterable.scala:54)\n",
       "scala.collection.TraversableLike$class.map(TraversableLike.scala:234)\n",
       "scala.collection.AbstractTraversable.map(Traversable.scala:104)\n",
       "notebook.front.widgets.Utils$class.toJson(Utils.scala:63)\n",
       "notebook.front.widgets.charts.Chart.toJson(Chart.scala:34)\n",
       "notebook.front.widgets.Utils$$anonfun$3.apply(Utils.scala:63)\n",
       "notebook.front.widgets.Utils$$anonfun$3.apply(Utils.scala:63)\n",
       "scala.collection.TraversableLike$$anonfun$map$1.apply(TraversableLike.scala:234)\n",
       "scala.collection.TraversableLike$$anonfun$map$1.apply(TraversableLike.scala:234)\n",
       "scala.collection.Iterator$class.foreach(Iterator.scala:893)\n",
       "scala.collection.AbstractIterator.foreach(Iterator.scala:1336)\n",
       "scala.collection.IterableLike$class.foreach(IterableLike.scala:72)\n",
       "scala.collection.AbstractIterable.foreach(Iterable.scala:54)\n",
       "scala.collection.TraversableLike$class.map(TraversableLike.scala:234)\n",
       "scala.collection.AbstractTraversable.map(Traversable.scala:104)\n",
       "notebook.front.widgets.Utils$class.toJson(Utils.scala:63)\n",
       "notebook.front.widgets.charts.Chart.toJson(Chart.scala:34)\n",
       "notebook.front.widgets.Utils$$anonfun$3.apply(Utils.scala:63)\n",
       "notebook.front.widgets.Utils$$anonfun$3.apply(Utils.scala:63)\n",
       "scala.collection.TraversableLike$$anonfun$map$1.apply(TraversableLike.scala:234)\n",
       "scala.collection.TraversableLike$$anonfun$map$1.apply(TraversableLike.scala:234)\n",
       "scala.collection.Iterator$class.foreach(Iterator.scala:893)\n",
       "scala.collection.AbstractIterator.foreach(Iterator.scala:1336)\n",
       "scala.collection.IterableLike$class.foreach(IterableLike.scala:72)\n",
       "scala.collection.AbstractIterable.foreach(Iterable.scala:54)\n",
       "scala.collection.TraversableLike$class.map(TraversableLike.scala:234)\n",
       "scala.collection.AbstractTraversable.map(Traversable.scala:104)\n",
       "notebook.front.widgets.Utils$class.toJson(Utils.scala:63)\n",
       "notebook.front.widgets.charts.Chart.toJson(Chart.scala:34)\n",
       "notebook.front.widgets.Utils$$anonfun$3.apply(Utils.scala:63)\n",
       "notebook.front.widgets.Utils$$anonfun$3.apply(Utils.scala:63)\n",
       "scala.collection.TraversableLike$$anonfun$map$1.apply(TraversableLike.scala:234)\n",
       "scala.collection.TraversableLike$$anonfun$map$1.apply(TraversableLike.scala:234)\n",
       "scala.collection.Iterator$class.foreach(Iterator.scala:893)\n",
       "scala.collection.AbstractIterator.foreach(Iterator.scala:1336)\n",
       "scala.collection.IterableLike$class.foreach(IterableLike.scala:72)\n",
       "scala.collection.AbstractIterable.foreach(Iterable.scala:54)\n",
       "scala.collection.TraversableLike$class.map(TraversableLike.scala:234)\n",
       "scala.collection.AbstractTraversable.map(Traversable.scala:104)\n",
       "notebook.front.widgets.Utils$class.toJson(Utils.scala:63)\n",
       "notebook.front.widgets.charts.Chart.toJson(Chart.scala:34)\n",
       "notebook.front.widgets.Utils$$anonfun$3.apply(Utils.scala:63)\n",
       "notebook.front.widgets.Utils$$anonfun$3.apply(Utils.scala:63)\n",
       "scala.collection.TraversableLike$$anonfun$map$1.apply(TraversableLike.scala:234)\n",
       "scala.collection.TraversableLike$$anonfun$map$1.apply(TraversableLike.scala:234)\n",
       "scala.collection.Iterator$class.foreach(Iterator.scala:893)\n",
       "scala.collection.AbstractIterator.foreach(Iterator.scala:1336)\n",
       "scala.collection.IterableLike$class.foreach(IterableLike.scala:72)\n",
       "scala.collection.AbstractIterable.foreach(Iterable.scala:54)\n",
       "scala.collection.TraversableLike$class.map(TraversableLike.scala:234)\n",
       "scala.collection.AbstractTraversable.map(Traversable.scala:104)\n",
       "notebook.front.widgets.Utils$class.toJson(Utils.scala:63)\n",
       "notebook.front.widgets.charts.Chart.toJson(Chart.scala:34)\n",
       "notebook.front.widgets.Utils$$anonfun$3.apply(Utils.scala:63)\n",
       "notebook.front.widgets.Utils$$anonfun$3.apply(Utils.scala:63)\n",
       "scala.collection.TraversableLike$$anonfun$map$1.apply(TraversableLike.scala:234)\n",
       "scala.collection.TraversableLike$$anonfun$map$1.apply(TraversableLike.scala:234)\n",
       "scala.collection.Iterator$class.foreach(Iterator.scala:893)\n",
       "scala.collection.AbstractIterator.foreach(Iterator.scala:1336)\n",
       "scala.collection.IterableLike$class.foreach(IterableLike.scala:72)\n",
       "scala.collection.AbstractIterable.foreach(Iterable.scala:54)\n",
       "scala.collection.TraversableLike$class.map(TraversableLike.scala:234)\n",
       "scala.collection.AbstractTraversable.map(Traversable.scala:104)\n",
       "notebook.front.widgets.Utils$class.toJson(Utils.scala:63)\n",
       "notebook.front.widgets.charts.Chart.toJson(Chart.scala:34)\n",
       "notebook.front.widgets.Utils$$anonfun$3.apply(Utils.scala:63)\n",
       "notebook.front.widgets.Utils$$anonfun$3.apply(Utils.scala:63)\n",
       "scala.collection.TraversableLike$$anonfun$map$1.apply(TraversableLike.scala:234)\n",
       "scala.collection.TraversableLike$$anonfun$map$1.apply(TraversableLike.scala:234)\n",
       "scala.collection.Iterator$class.foreach(Iterator.scala:893)\n",
       "scala.collection.AbstractIterator.foreach(Iterator.scala:1336)\n",
       "scala.collection.IterableLike$class.foreach(IterableLike.scala:72)\n",
       "scala.collection.AbstractIterable.foreach(Iterable.scala:54)\n",
       "scala.collection.TraversableLike$class.map(TraversableLike.scala:234)\n",
       "scala.collection.AbstractTraversable.map(Traversable.scala:104)\n",
       "notebook.front.widgets.Utils$class.toJson(Utils.scala:63)\n",
       "notebook.front.widgets.charts.Chart.toJson(Chart.scala:34)\n",
       "notebook.front.widgets.Utils$$anonfun$3.apply(Utils.scala:63)\n",
       "notebook.front.widgets.Utils$$anonfun$3.apply(Utils.scala:63)\n",
       "scala.collection.TraversableLike$$anonfun$map$1.apply(TraversableLike.scala:234)\n",
       "scala.collection.TraversableLike$$anonfun$map$1.apply(TraversableLike.scala:234)\n",
       "scala.collection.Iterator$class.foreach(Iterator.scala:893)\n",
       "scala.collection.AbstractIterator.foreach(Iterator.scala:1336)\n",
       "scala.collection.IterableLike$class.foreach(IterableLike.scala:72)\n",
       "scala.collection.AbstractIterable.foreach(Iterable.scala:54)\n",
       "scala.collection.TraversableLike$class.map(TraversableLike.scala:234)\n",
       "scala.collection.AbstractTraversable.map(Traversable.scala:104)\n",
       "notebook.front.widgets.Utils$class.toJson(Utils.scala:63)\n",
       "notebook.front.widgets.charts.Chart.toJson(Chart.scala:34)\n",
       "notebook.front.widgets.Utils$$anonfun$3.apply(Utils.scala:63)\n",
       "notebook.front.widgets.Utils$$anonfun$3.apply(Utils.scala:63)\n",
       "scala.collection.TraversableLike$$anonfun$map$1.apply(TraversableLike.scala:234)\n",
       "scala.collection.TraversableLike$$anonfun$map$1.apply(TraversableLike.scala:234)\n",
       "scala.collection.Iterator$class.foreach(Iterator.scala:893)\n",
       "scala.collection.AbstractIterator.foreach(Iterator.scala:1336)\n",
       "scala.collection.IterableLike$class.foreach(IterableLike.scala:72)\n",
       "scala.collection.AbstractIterable.foreach(Iterable.scala:54)\n",
       "scala.collection.TraversableLike$class.map(TraversableLike.scala:234)\n",
       "scala.collection.AbstractTraversable.map(Traversable.scala:104)\n",
       "notebook.front.widgets.Utils$class.toJson(Utils.scala:63)\n",
       "notebook.front.widgets.charts.Chart.toJson(Chart.scala:34)\n",
       "notebook.front.widgets.Utils$$anonfun$3.apply(Utils.scala:63)\n",
       "notebook.front.widgets.Utils$$anonfun$3.apply(Utils.scala:63)\n",
       "scala.collection.TraversableLike$$anonfun$map$1.apply(TraversableLike.scala:234)\n",
       "scala.collection.TraversableLike$$anonfun$map$1.apply(TraversableLike.scala:234)\n",
       "scala.collection.Iterator$class.foreach(Iterator.scala:893)\n",
       "scala.collection.AbstractIterator.foreach(Iterator.scala:1336)\n",
       "scala.collection.IterableLike$class.foreach(IterableLike.scala:72)\n",
       "scala.collection.AbstractIterable.foreach(Iterable.scala:54)\n",
       "scala.collection.TraversableLike$class.map(TraversableLike.scala:234)\n",
       "scala.collection.AbstractTraversable.map(Traversable.scala:104)\n",
       "notebook.front.widgets.Utils$class.toJson(Utils.scala:63)\n",
       "notebook.front.widgets.charts.Chart.toJson(Chart.scala:34)\n",
       "notebook.front.widgets.Utils$$anonfun$3.apply(Utils.scala:63)\n",
       "notebook.front.widgets.Utils$$anonfun$3.apply(Utils.scala:63)\n",
       "scala.collection.TraversableLike$$anonfun$map$1.apply(TraversableLike.scala:234)\n",
       "scala.collection.TraversableLike$$anonfun$map$1.apply(TraversableLike.scala:234)\n",
       "scala.collection.Iterator$class.foreach(Iterator.scala:893)\n",
       "scala.collection.AbstractIterator.foreach(Iterator.scala:1336)\n",
       "scala.collection.IterableLike$class.foreach(IterableLike.scala:72)\n",
       "scala.collection.AbstractIterable.foreach(Iterable.scala:54)\n",
       "scala.collection.TraversableLike$class.map(TraversableLike.scala:234)\n",
       "scala.collection.AbstractTraversable.map(Traversable.scala:104)\n",
       "notebook.front.widgets.Utils$class.toJson(Utils.scala:63)\n",
       "notebook.front.widgets.charts.Chart.toJson(Chart.scala:34)\n",
       "notebook.front.widgets.Utils$$anonfun$3.apply(Utils.scala:63)\n",
       "notebook.front.widgets.Utils$$anonfun$3.apply(Utils.scala:63)\n",
       "scala.collection.TraversableLike$$anonfun$map$1.apply(TraversableLike.scala:234)\n",
       "scala.collection.TraversableLike$$anonfun$map$1.apply(TraversableLike.scala:234)\n",
       "scala.collection.Iterator$class.foreach(Iterator.scala:893)\n",
       "scala.collection.AbstractIterator.foreach(Iterator.scala:1336)\n",
       "scala.collection.IterableLike$class.foreach(IterableLike.scala:72)\n",
       "scala.collection.AbstractIterable.foreach(Iterable.scala:54)\n",
       "scala.collection.TraversableLike$class.map(TraversableLike.scala:234)\n",
       "scala.collection.AbstractTraversable.map(Traversable.scala:104)\n",
       "notebook.front.widgets.Utils$class.toJson(Utils.scala:63)\n",
       "notebook.front.widgets.charts.Chart.toJson(Chart.scala:34)\n",
       "notebook.front.widgets.Utils$$anonfun$3.apply(Utils.scala:63)\n",
       "notebook.front.widgets.Utils$$anonfun$3.apply(Utils.scala:63)\n",
       "scala.collection.TraversableLike$$anonfun$map$1.apply(TraversableLike.scala:234)\n",
       "scala.collection.TraversableLike$$anonfun$map$1.apply(TraversableLike.scala:234)\n",
       "scala.collection.Iterator$class.foreach(Iterator.scala:893)\n",
       "scala.collection.AbstractIterator.foreach(Iterator.scala:1336)\n",
       "scala.collection.IterableLike$class.foreach(IterableLike.scala:72)\n",
       "scala.collection.AbstractIterable.foreach(Iterable.scala:54)\n",
       "scala.collection.TraversableLike$class.map(TraversableLike.scala:234)\n",
       "scala.collection.AbstractTraversable.map(Traversable.scala:104)\n",
       "notebook.front.widgets.Utils$class.toJson(Utils.scala:63)\n",
       "notebook.front.widgets.charts.Chart.toJson(Chart.scala:34)\n",
       "notebook.front.widgets.Utils$$anonfun$3.apply(Utils.scala:63)\n",
       "notebook.front.widgets.Utils$$anonfun$3.apply(Utils.scala:63)\n",
       "scala.collection.TraversableLike$$anonfun$map$1.apply(TraversableLike.scala:234)\n",
       "scala.collection.TraversableLike$$anonfun$map$1.apply(TraversableLike.scala:234)\n",
       "scala.collection.Iterator$class.foreach(Iterator.scala:893)\n",
       "scala.collection.AbstractIterator.foreach(Iterator.scala:1336)\n",
       "scala.collection.IterableLike$class.foreach(IterableLike.scala:72)\n",
       "scala.collection.AbstractIterable.foreach(Iterable.scala:54)\n",
       "scala.collection.TraversableLike$class.map(TraversableLike.scala:234)\n",
       "scala.collection.AbstractTraversable.map(Traversable.scala:104)\n",
       "notebook.front.widgets.Utils$class.toJson(Utils.scala:63)\n",
       "notebook.front.widgets.charts.Chart.toJson(Chart.scala:34)\n",
       "notebook.front.widgets.Utils$$anonfun$3.apply(Utils.scala:63)\n",
       "notebook.front.widgets.Utils$$anonfun$3.apply(Utils.scala:63)\n",
       "scala.collection.TraversableLike$$anonfun$map$1.apply(TraversableLike.scala:234)\n",
       "scala.collection.TraversableLike$$anonfun$map$1.apply(TraversableLike.scala:234)\n",
       "scala.collection.Iterator$class.foreach(Iterator.scala:893)\n",
       "scala.collection.AbstractIterator.foreach(Iterator.scala:1336)\n",
       "scala.collection.IterableLike$class.foreach(IterableLike.scala:72)\n",
       "scala.collection.AbstractIterable.foreach(Iterable.scala:54)\n",
       "scala.collection.TraversableLike$class.map(TraversableLike.scala:234)\n",
       "scala.collection.AbstractTraversable.map(Traversable.scala:104)\n",
       "notebook.front.widgets.Utils$class.toJson(Utils.scala:63)\n",
       "notebook.front.widgets.charts.Chart.toJson(Chart.scala:34)\n",
       "notebook.front.widgets.Utils$$anonfun$3.apply(Utils.scala:63)\n",
       "notebook.front.widgets.Utils$$anonfun$3.apply(Utils.scala:63)\n",
       "scala.collection.TraversableLike$$anonfun$map$1.apply(TraversableLike.scala:234)\n",
       "scala.collection.TraversableLike$$anonfun$map$1.apply(TraversableLike.scala:234)\n",
       "scala.collection.Iterator$class.foreach(Iterator.scala:893)\n",
       "scala.collection.AbstractIterator.foreach(Iterator.scala:1336)\n",
       "scala.collection.IterableLike$class.foreach(IterableLike.scala:72)\n",
       "scala.collection.AbstractIterable.foreach(Iterable.scala:54)\n",
       "scala.collection.TraversableLike$class.map(TraversableLike.scala:234)\n",
       "scala.collection.AbstractTraversable.map(Traversable.scala:104)\n",
       "notebook.front.widgets.Utils$class.toJson(Utils.scala:63)\n",
       "notebook.front.widgets.charts.Chart.toJson(Chart.scala:34)\n",
       "notebook.front.widgets.Utils$$anonfun$3.apply(Utils.scala:63)\n",
       "notebook.front.widgets.Utils$$anonfun$3.apply(Utils.scala:63)\n",
       "scala.collection.TraversableLike$$anonfun$map$1.apply(TraversableLike.scala:234)\n",
       "scala.collection.TraversableLike$$anonfun$map$1.apply(TraversableLike.scala:234)\n",
       "scala.collection.Iterator$class.foreach(Iterator.scala:893)\n",
       "scala.collection.AbstractIterator.foreach(Iterator.scala:1336)\n",
       "scala.collection.IterableLike$class.foreach(IterableLike.scala:72)\n",
       "scala.collection.AbstractIterable.foreach(Iterable.scala:54)\n",
       "scala.collection.TraversableLike$class.map(TraversableLike.scala:234)\n",
       "scala.collection.AbstractTraversable.map(Traversable.scala:104)\n",
       "notebook.front.widgets.Utils$class.toJson(Utils.scala:63)\n",
       "notebook.front.widgets.charts.Chart.toJson(Chart.scala:34)\n",
       "notebook.front.widgets.Utils$$anonfun$3.apply(Utils.scala:63)\n",
       "notebook.front.widgets.Utils$$anonfun$3.apply(Utils.scala:63)\n",
       "scala.collection.TraversableLike$$anonfun$map$1.apply(TraversableLike.scala:234)\n",
       "scala.collection.TraversableLike$$anonfun$map$1.apply(TraversableLike.scala:234)\n",
       "scala.collection.Iterator$class.foreach(Iterator.scala:893)\n",
       "scala.collection.AbstractIterator.foreach(Iterator.scala:1336)\n",
       "scala.collection.IterableLike$class.foreach(IterableLike.scala:72)\n",
       "scala.collection.AbstractIterable.foreach(Iterable.scala:54)\n",
       "scala.collection.TraversableLike$class.map(TraversableLike.scala:234)\n",
       "scala.collection.AbstractTraversable.map(Traversable.scala:104)\n",
       "notebook.front.widgets.Utils$class.toJson(Utils.scala:63)\n",
       "notebook.front.widgets.charts.Chart.toJson(Chart.scala:34)\n",
       "notebook.front.widgets.Utils$$anonfun$3.apply(Utils.scala:63)\n",
       "notebook.front.widgets.Utils$$anonfun$3.apply(Utils.scala:63)\n",
       "scala.collection.TraversableLike$$anonfun$map$1.apply(TraversableLike.scala:234)\n",
       "scala.collection.TraversableLike$$anonfun$map$1.apply(TraversableLike.scala:234)\n",
       "scala.collection.Iterator$class.foreach(Iterator.scala:893)\n",
       "scala.collection.AbstractIterator.foreach(Iterator.scala:1336)\n",
       "scala.collection.IterableLike$class.foreach(IterableLike.scala:72)\n",
       "scala.collection.AbstractIterable.foreach(Iterable.scala:54)\n",
       "scala.collection.TraversableLike$class.map(TraversableLike.scala:234)\n",
       "scala.collection.AbstractTraversable.map(Traversable.scala:104)\n",
       "notebook.front.widgets.Utils$class.toJson(Utils.scala:63)\n",
       "notebook.front.widgets.charts.Chart.toJson(Chart.scala:34)\n",
       "notebook.front.widgets.Utils$$anonfun$3.apply(Utils.scala:63)\n",
       "notebook.front.widgets.Utils$$anonfun$3.apply(Utils.scala:63)\n",
       "scala.collection.TraversableLike$$anonfun$map$1.apply(TraversableLike.scala:234)\n",
       "scala.collection.TraversableLike$$anonfun$map$1.apply(TraversableLike.scala:234)\n",
       "scala.collection.Iterator$class.foreach(Iterator.scala:893)\n",
       "scala.collection.AbstractIterator.foreach(Iterator.scala:1336)\n",
       "scala.collection.IterableLike$class.foreach(IterableLike.scala:72)\n",
       "scala.collection.AbstractIterable.foreach(Iterable.scala:54)\n",
       "scala.collection.TraversableLike$class.map(TraversableLike.scala:234)\n",
       "scala.collection.AbstractTraversable.map(Traversable.scala:104)\n",
       "notebook.front.widgets.Utils$class.toJson(Utils.scala:63)\n",
       "notebook.front.widgets.charts.Chart.toJson(Chart.scala:34)\n",
       "notebook.front.widgets.Utils$$anonfun$3.apply(Utils.scala:63)\n",
       "notebook.front.widgets.Utils$$anonfun$3.apply(Utils.scala:63)\n",
       "scala.collection.TraversableLike$$anonfun$map$1.apply(TraversableLike.scala:234)\n",
       "scala.collection.TraversableLike$$anonfun$map$1.apply(TraversableLike.scala:234)\n",
       "scala.collection.Iterator$class.foreach(Iterator.scala:893)\n",
       "scala.collection.AbstractIterator.foreach(Iterator.scala:1336)\n",
       "scala.collection.IterableLike$class.foreach(IterableLike.scala:72)\n",
       "scala.collection.AbstractIterable.foreach(Iterable.scala:54)\n",
       "scala.collection.TraversableLike$class.map(TraversableLike.scala:234)\n",
       "scala.collection.AbstractTraversable.map(Traversable.scala:104)\n",
       "notebook.front.widgets.Utils$class.toJson(Utils.scala:63)\n",
       "notebook.front.widgets.charts.Chart.toJson(Chart.scala:34)\n",
       "notebook.front.widgets.Utils$$anonfun$3.apply(Utils.scala:63)\n",
       "notebook.front.widgets.Utils$$anonfun$3.apply(Utils.scala:63)\n",
       "scala.collection.TraversableLike$$anonfun$map$1.apply(TraversableLike.scala:234)\n",
       "scala.collection.TraversableLike$$anonfun$map$1.apply(TraversableLike.scala:234)\n",
       "scala.collection.Iterator$class.foreach(Iterator.scala:893)\n",
       "scala.collection.AbstractIterator.foreach(Iterator.scala:1336)\n",
       "scala.collection.IterableLike$class.foreach(IterableLike.scala:72)\n",
       "scala.collection.AbstractIterable.foreach(Iterable.scala:54)\n",
       "scala.collection.TraversableLike$class.map(TraversableLike.scala:234)\n",
       "scala.collection.AbstractTraversable.map(Traversable.scala:104)\n",
       "notebook.front.widgets.Utils$class.toJson(Utils.scala:63)\n",
       "notebook.front.widgets.charts.Chart.toJson(Chart.scala:34)\n",
       "notebook.front.widgets.Utils$$anonfun$3.apply(Utils.scala:63)\n",
       "notebook.front.widgets.Utils$$anonfun$3.apply(Utils.scala:63)\n",
       "scala.collection.TraversableLike$$anonfun$map$1.apply(TraversableLike.scala:234)\n",
       "scala.collection.TraversableLike$$anonfun$map$1.apply(TraversableLike.scala:234)\n",
       "scala.collection.Iterator$class.foreach(Iterator.scala:893)\n",
       "scala.collection.AbstractIterator.foreach(Iterator.scala:1336)\n",
       "scala.collection.IterableLike$class.foreach(IterableLike.scala:72)\n",
       "scala.collection.AbstractIterable.foreach(Iterable.scala:54)\n",
       "scala.collection.TraversableLike$class.map(TraversableLike.scala:234)\n",
       "scala.collection.AbstractTraversable.map(Traversable.scala:104)\n",
       "notebook.front.widgets.Utils$class.toJson(Utils.scala:63)\n",
       "notebook.front.widgets.charts.Chart.toJson(Chart.scala:34)\n",
       "notebook.front.widgets.Utils$$anonfun$3.apply(Utils.scala:63)\n",
       "notebook.front.widgets.Utils$$anonfun$3.apply(Utils.scala:63)\n",
       "scala.collection.TraversableLike$$anonfun$map$1.apply(TraversableLike.scala:234)\n",
       "scala.collection.TraversableLike$$anonfun$map$1.apply(TraversableLike.scala:234)\n",
       "scala.collection.Iterator$class.foreach(Iterator.scala:893)\n",
       "scala.collection.AbstractIterator.foreach(Iterator.scala:1336)\n",
       "scala.collection.IterableLike$class.foreach(IterableLike.scala:72)\n",
       "scala.collection.AbstractIterable.foreach(Iterable.scala:54)\n",
       "scala.collection.TraversableLike$class.map(TraversableLike.scala:234)\n",
       "scala.collection.AbstractTraversable.map(Traversable.scala:104)\n",
       "notebook.front.widgets.Utils$class.toJson(Utils.scala:63)\n",
       "notebook.front.widgets.charts.Chart.toJson(Chart.scala:34)\n",
       "notebook.front.widgets.Utils$$anonfun$3.apply(Utils.scala:63)\n",
       "notebook.front.widgets.Utils$$anonfun$3.apply(Utils.scala:63)\n",
       "scala.collection.TraversableLike$$anonfun$map$1.apply(TraversableLike.scala:234)\n",
       "scala.collection.TraversableLike$$anonfun$map$1.apply(TraversableLike.scala:234)\n",
       "scala.collection.Iterator$class.foreach(Iterator.scala:893)\n",
       "scala.collection.AbstractIterator.foreach(Iterator.scala:1336)\n",
       "scala.collection.IterableLike$class.foreach(IterableLike.scala:72)\n",
       "scala.collection.AbstractIterable.foreach(Iterable.scala:54)\n",
       "scala.collection.TraversableLike$class.map(TraversableLike.scala:234)\n",
       "scala.collection.AbstractTraversable.map(Traversable.scala:104)\n",
       "notebook.front.widgets.Utils$class.toJson(Utils.scala:63)\n",
       "notebook.front.widgets.charts.Chart.toJson(Chart.scala:34)\n",
       "notebook.front.widgets.Utils$$anonfun$3.apply(Utils.scala:63)\n",
       "notebook.front.widgets.Utils$$anonfun$3.apply(Utils.scala:63)\n",
       "scala.collection.TraversableLike$$anonfun$map$1.apply(TraversableLike.scala:234)\n",
       "scala.collection.TraversableLike$$anonfun$map$1.apply(TraversableLike.scala:234)\n",
       "scala.collection.Iterator$class.foreach(Iterator.scala:893)\n",
       "scala.collection.AbstractIterator.foreach(Iterator.scala:1336)\n",
       "scala.collection.IterableLike$class.foreach(IterableLike.scala:72)\n",
       "scala.collection.AbstractIterable.foreach(Iterable.scala:54)\n",
       "scala.collection.TraversableLike$class.map(TraversableLike.scala:234)\n",
       "scala.collection.AbstractTraversable.map(Traversable.scala:104)\n",
       "notebook.front.widgets.Utils$class.toJson(Utils.scala:63)\n",
       "notebook.front.widgets.charts.Chart.toJson(Chart.scala:34)\n",
       "notebook.front.widgets.Utils$$anonfun$3.apply(Utils.scala:63)\n",
       "notebook.front.widgets.Utils$$anonfun$3.apply(Utils.scala:63)\n",
       "scala.collection.TraversableLike$$anonfun$map$1.apply(TraversableLike.scala:234)\n",
       "scala.collection.TraversableLike$$anonfun$map$1.apply(TraversableLike.scala:234)\n",
       "scala.collection.Iterator$class.foreach(Iterator.scala:893)\n",
       "scala.collection.AbstractIterator.foreach(Iterator.scala:1336)\n",
       "scala.collection.IterableLike$class.foreach(IterableLike.scala:72)\n",
       "scala.collection.AbstractIterable.foreach(Iterable.scala:54)\n",
       "scala.collection.TraversableLike$class.map(TraversableLike.scala:234)\n",
       "scala.collection.AbstractTraversable.map(Traversable.scala:104)\n",
       "notebook.front.widgets.Utils$class.toJson(Utils.scala:63)\n",
       "notebook.front.widgets.charts.Chart.toJson(Chart.scala:34)\n",
       "notebook.front.widgets.Utils$$anonfun$3.apply(Utils.scala:63)\n",
       "notebook.front.widgets.Utils$$anonfun$3.apply(Utils.scala:63)\n",
       "scala.collection.TraversableLike$$anonfun$map$1.apply(TraversableLike.scala:234)\n",
       "scala.collection.TraversableLike$$anonfun$map$1.apply(TraversableLike.scala:234)\n",
       "scala.collection.Iterator$class.foreach(Iterator.scala:893)\n",
       "scala.collection.AbstractIterator.foreach(Iterator.scala:1336)\n",
       "scala.collection.IterableLike$class.foreach(IterableLike.scala:72)\n",
       "scala.collection.AbstractIterable.foreach(Iterable.scala:54)\n",
       "scala.collection.TraversableLike$class.map(TraversableLike.scala:234)\n",
       "scala.collection.AbstractTraversable.map(Traversable.scala:104)\n",
       "notebook.front.widgets.Utils$class.toJson(Utils.scala:63)\n",
       "notebook.front.widgets.charts.Chart.toJson(Chart.scala:34)\n",
       "notebook.front.widgets.Utils$$anonfun$3.apply(Utils.scala:63)\n",
       "notebook.front.widgets.Utils$$anonfun$3.apply(Utils.scala:63)\n",
       "scala.collection.TraversableLike$$anonfun$map$1.apply(TraversableLike.scala:234)\n",
       "scala.collection.TraversableLike$$anonfun$map$1.apply(TraversableLike.scala:234)\n",
       "scala.collection.Iterator$class.foreach(Iterator.scala:893)\n",
       "scala.collection.AbstractIterator.foreach(Iterator.scala:1336)\n",
       "scala.collection.IterableLike$class.foreach(IterableLike.scala:72)\n",
       "scala.collection.AbstractIterable.foreach(Iterable.scala:54)\n",
       "scala.collection.TraversableLike$class.map(TraversableLike.scala:234)\n",
       "scala.collection.AbstractTraversable.map(Traversable.scala:104)\n",
       "notebook.front.widgets.Utils$class.toJson(Utils.scala:63)\n",
       "notebook.front.widgets.charts.Chart.toJson(Chart.scala:34)\n",
       "notebook.front.widgets.Utils$$anonfun$3.apply(Utils.scala:63)\n",
       "notebook.front.widgets.Utils$$anonfun$3.apply(Utils.scala:63)\n",
       "scala.collection.TraversableLike$$anonfun$map$1.apply(TraversableLike.scala:234)\n",
       "scala.collection.TraversableLike$$anonfun$map$1.apply(TraversableLike.scala:234)\n",
       "scala.collection.Iterator$class.foreach(Iterator.scala:893)\n",
       "scala.collection.AbstractIterator.foreach(Iterator.scala:1336)\n",
       "scala.collection.IterableLike$class.foreach(IterableLike.scala:72)\n",
       "scala.collection.AbstractIterable.foreach(Iterable.scala:54)\n",
       "scala.collection.TraversableLike$class.map(TraversableLike.scala:234)\n",
       "scala.collection.AbstractTraversable.map(Traversable.scala:104)\n",
       "notebook.front.widgets.Utils$class.toJson(Utils.scala:63)\n",
       "notebook.front.widgets.charts.Chart.toJson(Chart.scala:34)\n",
       "notebook.front.widgets.Utils$$anonfun$3.apply(Utils.scala:63)\n",
       "notebook.front.widgets.Utils$$anonfun$3.apply(Utils.scala:63)\n",
       "scala.collection.TraversableLike$$anonfun$map$1.apply(TraversableLike.scala:234)\n",
       "scala.collection.TraversableLike$$anonfun$map$1.apply(TraversableLike.scala:234)\n",
       "scala.collection.Iterator$class.foreach(Iterator.scala:893)\n",
       "scala.collection.AbstractIterator.foreach(Iterator.scala:1336)\n",
       "scala.collection.IterableLike$class.foreach(IterableLike.scala:72)\n",
       "scala.collection.AbstractIterable.foreach(Iterable.scala:54)\n",
       "scala.collection.TraversableLike$class.map(TraversableLike.scala:234)\n",
       "scala.collection.AbstractTraversable.map(Traversable.scala:104)\n",
       "notebook.front.widgets.Utils$class.toJson(Utils.scala:63)\n",
       "notebook.front.widgets.charts.Chart.toJson(Chart.scala:34)\n",
       "notebook.front.widgets.Utils$$anonfun$3.apply(Utils.scala:63)\n",
       "notebook.front.widgets.Utils$$anonfun$3.apply(Utils.scala:63)\n",
       "scala.collection.TraversableLike$$anonfun$map$1.apply(TraversableLike.scala:234)\n",
       "scala.collection.TraversableLike$$anonfun$map$1.apply(TraversableLike.scala:234)\n",
       "scala.collection.Iterator$class.foreach(Iterator.scala:893)\n",
       "scala.collection.AbstractIterator.foreach(Iterator.scala:1336)\n",
       "scala.collection.IterableLike$class.foreach(IterableLike.scala:72)\n",
       "scala.collection.AbstractIterable.foreach(Iterable.scala:54)\n",
       "scala.collection.TraversableLike$class.map(TraversableLike.scala:234)\n",
       "scala.collection.AbstractTraversable.map(Traversable.scala:104)\n",
       "notebook.front.widgets.Utils$class.toJson(Utils.scala:63)\n",
       "notebook.front.widgets.charts.Chart.toJson(Chart.scala:34)\n",
       "notebook.front.widgets.Utils$$anonfun$3.apply(Utils.scala:63)\n",
       "notebook.front.widgets.Utils$$anonfun$3.apply(Utils.scala:63)\n",
       "scala.collection.TraversableLike$$anonfun$map$1.apply(TraversableLike.scala:234)\n",
       "scala.collection.TraversableLike$$anonfun$map$1.apply(TraversableLike.scala:234)\n",
       "scala.collection.Iterator$class.foreach(Iterator.scala:893)\n",
       "scala.collection.AbstractIterator.foreach(Iterator.scala:1336)\n",
       "scala.collection.IterableLike$class.foreach(IterableLike.scala:72)\n",
       "scala.collection.AbstractIterable.foreach(Iterable.scala:54)\n",
       "scala.collection.TraversableLike$class.map(TraversableLike.scala:234)\n",
       "scala.collection.AbstractTraversable.map(Traversable.scala:104)\n",
       "notebook.front.widgets.Utils$class.toJson(Utils.scala:63)\n",
       "notebook.front.widgets.charts.Chart.toJson(Chart.scala:34)\n",
       "notebook.front.widgets.Utils$$anonfun$3.apply(Utils.scala:63)\n",
       "notebook.front.widgets.Utils$$anonfun$3.apply(Utils.scala:63)\n",
       "scala.collection.TraversableLike$$anonfun$map$1.apply(TraversableLike.scala:234)\n",
       "scala.collection.TraversableLike$$anonfun$map$1.apply(TraversableLike.scala:234)\n",
       "scala.collection.Iterator$class.foreach(Iterator.scala:893)\n",
       "scala.collection.AbstractIterator.foreach(Iterator.scala:1336)\n",
       "scala.collection.IterableLike$class.foreach(IterableLike.scala:72)\n",
       "scala.collection.AbstractIterable.foreach(Iterable.scala:54)\n",
       "scala.collection.TraversableLike$class.map(TraversableLike.scala:234)\n",
       "scala.collection.AbstractTraversable.map(Traversable.scala:104)\n",
       "notebook.front.widgets.Utils$class.toJson(Utils.scala:63)\n",
       "notebook.front.widgets.charts.Chart.toJson(Chart.scala:34)\n",
       "notebook.front.widgets.Utils$$anonfun$3.apply(Utils.scala:63)\n",
       "notebook.front.widgets.Utils$$anonfun$3.apply(Utils.scala:63)\n",
       "scala.collection.TraversableLike$$anonfun$map$1.apply(TraversableLike.scala:234)\n",
       "scala.collection.TraversableLike$$anonfun$map$1.apply(TraversableLike.scala:234)\n",
       "scala.collection.Iterator$class.foreach(Iterator.scala:893)\n",
       "scala.collection.AbstractIterator.foreach(Iterator.scala:1336)\n",
       "scala.collection.IterableLike$class.foreach(IterableLike.scala:72)\n",
       "scala.collection.AbstractIterable.foreach(Iterable.scala:54)\n",
       "scala.collection.TraversableLike$class.map(TraversableLike.scala:234)\n",
       "scala.collection.AbstractTraversable.map(Traversable.scala:104)\n",
       "notebook.front.widgets.Utils$class.toJson(Utils.scala:63)\n",
       "notebook.front.widgets.charts.Chart.toJson(Chart.scala:34)\n",
       "notebook.front.widgets.Utils$$anonfun$3.apply(Utils.scala:63)\n",
       "notebook.front.widgets.Utils$$anonfun$3.apply(Utils.scala:63)\n",
       "scala.collection.TraversableLike$$anonfun$map$1.apply(TraversableLike.scala:234)\n",
       "scala.collection.TraversableLike$$anonfun$map$1.apply(TraversableLike.scala:234)\n",
       "scala.collection.Iterator$class.foreach(Iterator.scala:893)\n",
       "scala.collection.AbstractIterator.foreach(Iterator.scala:1336)\n",
       "scala.collection.IterableLike$class.foreach(IterableLike.scala:72)\n",
       "scala.collection.AbstractIterable.foreach(Iterable.scala:54)\n",
       "scala.collection.TraversableLike$class.map(TraversableLike.scala:234)\n",
       "scala.collection.AbstractTraversable.map(Traversable.scala:104)\n",
       "notebook.front.widgets.Utils$class.toJson(Utils.scala:63)\n",
       "notebook.front.widgets.charts.Chart.toJson(Chart.scala:34)\n",
       "notebook.front.widgets.Utils$$anonfun$3.apply(Utils.scala:63)\n",
       "notebook.front.widgets.Utils$$anonfun$3.apply(Utils.scala:63)\n",
       "scala.collection.TraversableLike$$anonfun$map$1.apply(TraversableLike.scala:234)\n",
       "scala.collection.TraversableLike$$anonfun$map$1.apply(TraversableLike.scala:234)\n",
       "scala.collection.Iterator$class.foreach(Iterator.scala:893)\n",
       "scala.collection.AbstractIterator.foreach(Iterator.scala:1336)\n",
       "scala.collection.IterableLike$class.foreach(IterableLike.scala:72)\n",
       "scala.collection.AbstractIterable.foreach(Iterable.scala:54)\n",
       "scala.collection.TraversableLike$class.map(TraversableLike.scala:234)\n",
       "scala.collection.AbstractTraversable.map(Traversable.scala:104)\n",
       "notebook.front.widgets.Utils$class.toJson(Utils.scala:63)\n",
       "notebook.front.widgets.charts.Chart.toJson(Chart.scala:34)\n",
       "notebook.front.widgets.Utils$$anonfun$3.apply(Utils.scala:63)\n",
       "notebook.front.widgets.Utils$$anonfun$3.apply(Utils.scala:63)\n",
       "scala.collection.TraversableLike$$anonfun$map$1.apply(TraversableLike.scala:234)\n",
       "scala.collection.TraversableLike$$anonfun$map$1.apply(TraversableLike.scala:234)\n",
       "scala.collection.Iterator$class.foreach(Iterator.scala:893)\n",
       "scala.collection.AbstractIterator.foreach(Iterator.scala:1336)\n",
       "scala.collection.IterableLike$class.foreach(IterableLike.scala:72)\n",
       "scala.collection.AbstractIterable.foreach(Iterable.scala:54)\n",
       "scala.collection.TraversableLike$class.map(TraversableLike.scala:234)\n",
       "scala.collection.AbstractTraversable.map(Traversable.scala:104)\n",
       "notebook.front.widgets.Utils$class.toJson(Utils.scala:63)\n",
       "notebook.front.widgets.charts.Chart.toJson(Chart.scala:34)\n",
       "notebook.front.widgets.Utils$$anonfun$3.apply(Utils.scala:63)\n",
       "notebook.front.widgets.Utils$$anonfun$3.apply(Utils.scala:63)\n",
       "scala.collection.TraversableLike$$anonfun$map$1.apply(TraversableLike.scala:234)\n",
       "scala.collection.TraversableLike$$anonfun$map$1.apply(TraversableLike.scala:234)\n",
       "scala.collection.Iterator$class.foreach(Iterator.scala:893)\n",
       "scala.collection.AbstractIterator.foreach(Iterator.scala:1336)\n",
       "scala.collection.IterableLike$class.foreach(IterableLike.scala:72)\n",
       "scala.collection.AbstractIterable.foreach(Iterable.scala:54)\n",
       "scala.collection.TraversableLike$class.map(TraversableLike.scala:234)\n",
       "scala.collection.AbstractTraversable.map(Traversable.scala:104)\n",
       "notebook.front.widgets.Utils$class.toJson(Utils.scala:63)\n",
       "notebook.front.widgets.charts.Chart.toJson(Chart.scala:34)\n",
       "notebook.front.widgets.Utils$$anonfun$3.apply(Utils.scala:63)\n",
       "notebook.front.widgets.Utils$$anonfun$3.apply(Utils.scala:63)\n",
       "scala.collection.TraversableLike$$anonfun$map$1.apply(TraversableLike.scala:234)\n",
       "scala.collection.TraversableLike$$anonfun$map$1.apply(TraversableLike.scala:234)\n",
       "scala.collection.Iterator$class.foreach(Iterator.scala:893)\n",
       "scala.collection.AbstractIterator.foreach(Iterator.scala:1336)\n",
       "scala.collection.IterableLike$class.foreach(IterableLike.scala:72)\n",
       "scala.collection.AbstractIterable.foreach(Iterable.scala:54)\n",
       "scala.collection.TraversableLike$class.map(TraversableLike.scala:234)\n",
       "scala.collection.AbstractTraversable.map(Traversable.scala:104)\n",
       "notebook.front.widgets.Utils$class.toJson(Utils.scala:63)\n",
       "notebook.front.widgets.charts.Chart.toJson(Chart.scala:34)\n",
       "notebook.front.widgets.Utils$$anonfun$3.apply(Utils.scala:63)\n",
       "notebook.front.widgets.Utils$$anonfun$3.apply(Utils.scala:63)\n",
       "scala.collection.TraversableLike$$anonfun$map$1.apply(TraversableLike.scala:234)\n",
       "scala.collection.TraversableLike$$anonfun$map$1.apply(TraversableLike.scala:234)\n",
       "scala.collection.Iterator$class.foreach(Iterator.scala:893)\n",
       "scala.collection.AbstractIterator.foreach(Iterator.scala:1336)\n",
       "scala.collection.IterableLike$class.foreach(IterableLike.scala:72)\n",
       "scala.collection.AbstractIterable.foreach(Iterable.scala:54)\n",
       "scala.collection.TraversableLike$class.map(TraversableLike.scala:234)\n",
       "scala.collection.AbstractTraversable.map(Traversable.scala:104)\n",
       "notebook.front.widgets.Utils$class.toJson(Utils.scala:63)\n",
       "notebook.front.widgets.charts.Chart.toJson(Chart.scala:34)\n",
       "notebook.front.widgets.Utils$$anonfun$3.apply(Utils.scala:63)\n",
       "notebook.front.widgets.Utils$$anonfun$3.apply(Utils.scala:63)\n",
       "scala.collection.TraversableLike$$anonfun$map$1.apply(TraversableLike.scala:234)\n",
       "scala.collection.TraversableLike$$anonfun$map$1.apply(TraversableLike.scala:234)\n",
       "scala.collection.Iterator$class.foreach(Iterator.scala:893)\n",
       "scala.collection.AbstractIterator.foreach(Iterator.scala:1336)\n",
       "scala.collection.IterableLike$class.foreach(IterableLike.scala:72)\n",
       "scala.collection.AbstractIterable.foreach(Iterable.scala:54)\n",
       "scala.collection.TraversableLike$class.map(TraversableLike.scala:234)\n",
       "scala.collection.AbstractTraversable.map(Traversable.scala:104)\n",
       "notebook.front.widgets.Utils$class.toJson(Utils.scala:63)\n",
       "notebook.front.widgets.charts.Chart.toJson(Chart.scala:34)\n",
       "notebook.front.widgets.Utils$$anonfun$3.apply(Utils.scala:63)\n",
       "notebook.front.widgets.Utils$$anonfun$3.apply(Utils.scala:63)\n",
       "scala.collection.TraversableLike$$anonfun$map$1.apply(TraversableLike.scala:234)\n",
       "scala.collection.TraversableLike$$anonfun$map$1.apply(TraversableLike.scala:234)\n",
       "scala.collection.Iterator$class.foreach(Iterator.scala:893)\n",
       "scala.collection.AbstractIterator.foreach(Iterator.scala:1336)\n",
       "scala.collection.IterableLike$class.foreach(IterableLike.scala:72)\n",
       "scala.collection.AbstractIterable.foreach(Iterable.scala:54)\n",
       "scala.collection.TraversableLike$class.map(TraversableLike.scala:234)\n",
       "scala.collection.AbstractTraversable.map(Traversable.scala:104)\n",
       "notebook.front.widgets.Utils$class.toJson(Utils.scala:63)\n",
       "notebook.front.widgets.charts.Chart.toJson(Chart.scala:34)\n",
       "notebook.front.widgets.Utils$$anonfun$3.apply(Utils.scala:63)\n",
       "notebook.front.widgets.Utils$$anonfun$3.apply(Utils.scala:63)\n",
       "scala.collection.TraversableLike$$anonfun$map$1.apply(TraversableLike.scala:234)\n",
       "scala.collection.TraversableLike$$anonfun$map$1.apply(TraversableLike.scala:234)\n",
       "scala.collection.Iterator$class.foreach(Iterator.scala:893)\n",
       "scala.collection.AbstractIterator.foreach(Iterator.scala:1336)\n",
       "scala.collection.IterableLike$class.foreach(IterableLike.scala:72)\n",
       "scala.collection.AbstractIterable.foreach(Iterable.scala:54)\n",
       "scala.collection.TraversableLike$class.map(TraversableLike.scala:234)\n",
       "scala.collection.AbstractTraversable.map(Traversable.scala:104)\n",
       "notebook.front.widgets.Utils$class.toJson(Utils.scala:63)\n",
       "notebook.front.widgets.charts.Chart.toJson(Chart.scala:34)\n",
       "notebook.front.widgets.Utils$$anonfun$3.apply(Utils.scala:63)\n",
       "notebook.front.widgets.Utils$$anonfun$3.apply(Utils.scala:63)\n",
       "scala.collection.TraversableLike$$anonfun$map$1.apply(TraversableLike.scala:234)\n",
       "scala.collection.TraversableLike$$anonfun$map$1.apply(TraversableLike.scala:234)\n",
       "scala.collection.Iterator$class.foreach(Iterator.scala:893)\n",
       "scala.collection.AbstractIterator.foreach(Iterator.scala:1336)\n",
       "scala.collection.IterableLike$class.foreach(IterableLike.scala:72)\n",
       "scala.collection.AbstractIterable.foreach(Iterable.scala:54)\n",
       "scala.collection.TraversableLike$class.map(TraversableLike.scala:234)\n",
       "scala.collection.AbstractTraversable.map(Traversable.scala:104)\n",
       "notebook.front.widgets.Utils$class.toJson(Utils.scala:63)\n",
       "notebook.front.widgets.charts.Chart.toJson(Chart.scala:34)\n",
       "notebook.front.widgets.Utils$$anonfun$3.apply(Utils.scala:63)\n",
       "notebook.front.widgets.Utils$$anonfun$3.apply(Utils.scala:63)\n",
       "scala.collection.TraversableLike$$anonfun$map$1.apply(TraversableLike.scala:234)\n",
       "scala.collection.TraversableLike$$anonfun$map$1.apply(TraversableLike.scala:234)\n",
       "scala.collection.Iterator$class.foreach(Iterator.scala:893)\n",
       "scala.collection.AbstractIterator.foreach(Iterator.scala:1336)\n",
       "scala.collection.IterableLike$class.foreach(IterableLike.scala:72)\n",
       "scala.collection.AbstractIterable.foreach(Iterable.scala:54)\n",
       "scala.collection.TraversableLike$class.map(TraversableLike.scala:234)\n",
       "scala.collection.AbstractTraversable.map(Traversable.scala:104)\n",
       "notebook.front.widgets.Utils$class.toJson(Utils.scala:63)\n",
       "notebook.front.widgets.charts.Chart.toJson(Chart.scala:34)\n",
       "notebook.front.widgets.Utils$$anonfun$3.apply(Utils.scala:63)\n",
       "notebook.front.widgets.Utils$$anonfun$3.apply(Utils.scala:63)\n",
       "scala.collection.TraversableLike$$anonfun$map$1.apply(TraversableLike.scala:234)\n",
       "scala.collection.TraversableLike$$anonfun$map$1.apply(TraversableLike.scala:234)\n",
       "scala.collection.Iterator$class.foreach(Iterator.scala:893)\n",
       "scala.collection.AbstractIterator.foreach(Iterator.scala:1336)\n",
       "scala.collection.IterableLike$class.foreach(IterableLike.scala:72)\n",
       "scala.collection.AbstractIterable.foreach(Iterable.scala:54)\n",
       "scala.collection.TraversableLike$class.map(TraversableLike.scala:234)\n",
       "scala.collection.AbstractTraversable.map(Traversable.scala:104)\n",
       "notebook.front.widgets.Utils$class.toJson(Utils.scala:63)\n",
       "notebook.front.widgets.charts.Chart.toJson(Chart.scala:34)\n",
       "notebook.front.widgets.Utils$$anonfun$3.apply(Utils.scala:63)\n",
       "notebook.front.widgets.Utils$$anonfun$3.apply(Utils.scala:63)\n",
       "scala.collection.TraversableLike$$anonfun$map$1.apply(TraversableLike.scala:234)\n",
       "scala.collection.TraversableLike$$anonfun$map$1.apply(TraversableLike.scala:234)\n",
       "scala.collection.Iterator$class.foreach(Iterator.scala:893)\n",
       "scala.collection.AbstractIterator.foreach(Iterator.scala:1336)\n",
       "scala.collection.IterableLike$class.foreach(IterableLike.scala:72)\n",
       "scala.collection.AbstractIterable.foreach(Iterable.scala:54)\n",
       "scala.collection.TraversableLike$class.map(TraversableLike.scala:234)\n",
       "scala.collection.AbstractTraversable.map(Traversable.scala:104)\n",
       "notebook.front.widgets.Utils$class.toJson(Utils.scala:63)\n",
       "notebook.front.widgets.charts.Chart.toJson(Chart.scala:34)\n",
       "notebook.front.widgets.Utils$$anonfun$3.apply(Utils.scala:63)\n",
       "notebook.front.widgets.Utils$$anonfun$3.apply(Utils.scala:63)\n",
       "scala.collection.TraversableLike$$anonfun$map$1.apply(TraversableLike.scala:234)\n",
       "scala.collection.TraversableLike$$anonfun$map$1.apply(TraversableLike.scala:234)\n",
       "scala.collection.Iterator$class.foreach(Iterator.scala:893)\n",
       "scala.collection.AbstractIterator.foreach(Iterator.scala:1336)\n",
       "scala.collection.IterableLike$class.foreach(IterableLike.scala:72)\n",
       "scala.collection.AbstractIterable.foreach(Iterable.scala:54)\n",
       "scala.collection.TraversableLike$class.map(TraversableLike.scala:234)\n",
       "scala.collection.AbstractTraversable.map(Traversable.scala:104)\n",
       "notebook.front.widgets.Utils$class.toJson(Utils.scala:63)\n",
       "notebook.front.widgets.charts.Chart.toJson(Chart.scala:34)\n",
       "notebook.front.widgets.Utils$$anonfun$3.apply(Utils.scala:63)\n",
       "notebook.front.widgets.Utils$$anonfun$3.apply(Utils.scala:63)\n",
       "scala.collection.TraversableLike$$anonfun$map$1.apply(TraversableLike.scala:234)\n",
       "scala.collection.TraversableLike$$anonfun$map$1.apply(TraversableLike.scala:234)\n",
       "scala.collection.Iterator$class.foreach(Iterator.scala:893)\n",
       "scala.collection.AbstractIterator.foreach(Iterator.scala:1336)\n",
       "scala.collection.IterableLike$class.foreach(IterableLike.scala:72)\n",
       "scala.collection.AbstractIterable.foreach(Iterable.scala:54)\n",
       "scala.collection.TraversableLike$class.map(TraversableLike.scala:234)\n",
       "scala.collection.AbstractTraversable.map(Traversable.scala:104)\n",
       "notebook.front.widgets.Utils$class.toJson(Utils.scala:63)\n",
       "notebook.front.widgets.charts.Chart.toJson(Chart.scala:34)\n",
       "notebook.front.widgets.Utils$$anonfun$3.apply(Utils.scala:63)\n",
       "notebook.front.widgets.Utils$$anonfun$3.apply(Utils.scala:63)\n",
       "scala.collection.TraversableLike$$anonfun$map$1.apply(TraversableLike.scala:234)\n",
       "scala.collection.TraversableLike$$anonfun$map$1.apply(TraversableLike.scala:234)\n",
       "scala.collection.Iterator$class.foreach(Iterator.scala:893)\n",
       "scala.collection.AbstractIterator.foreach(Iterator.scala:1336)\n",
       "scala.collection.IterableLike$class.foreach(IterableLike.scala:72)\n",
       "scala.collection.AbstractIterable.foreach(Iterable.scala:54)\n",
       "scala.collection.TraversableLike$class.map(TraversableLike.scala:234)\n",
       "scala.collection.AbstractTraversable.map(Traversable.scala:104)\n",
       "notebook.front.widgets.Utils$class.toJson(Utils.scala:63)\n",
       "notebook.front.widgets.charts.Chart.toJson(Chart.scala:34)\n",
       "notebook.front.widgets.Utils$$anonfun$3.apply(Utils.scala:63)\n",
       "notebook.front.widgets.Utils$$anonfun$3.apply(Utils.scala:63)\n",
       "scala.collection.TraversableLike$$anonfun$map$1.apply(TraversableLike.scala:234)\n",
       "scala.collection.TraversableLike$$anonfun$map$1.apply(TraversableLike.scala:234)\n",
       "scala.collection.Iterator$class.foreach(Iterator.scala:893)\n",
       "scala.collection.AbstractIterator.foreach(Iterator.scala:1336)\n",
       "scala.collection.IterableLike$class.foreach(IterableLike.scala:72)\n",
       "scala.collection.AbstractIterable.foreach(Iterable.scala:54)\n",
       "scala.collection.TraversableLike$class.map(TraversableLike.scala:234)</pre></div>"
      ]
     },
     "execution_count": 174,
     "metadata": {},
     "output_type": "execute_result",
     "time": "Took: 1.241s, at 2019-03-08 15:53"
    }
   ],
   "source": [
    "\n",
    "import scala.xml.transform._\n",
    "val rule1 = new RewriteRule {\n",
    "  override def transform(n: Node) = n match {\n",
    "    case e @ <img>{_*}</img> if (e.attribute(\"alt\") == None) => e.asInstanceOf[Elem] % Attribute(null, \"alt\", \"TODO\", Null)\n",
    "    case _ => n\n",
    "  }\n",
    "}\n",
    "new RuleTransformer(rule1).transform(html)"
   ]
  },
  {
   "cell_type": "code",
   "execution_count": null,
   "metadata": {
    "collapsed": true,
    "id": "81A841A4014A4EF48D946119D0AE28C8",
    "input_collapsed": false
   },
   "outputs": [],
   "source": []
  }
 ],
 "metadata": {
  "auto_save_timestamp": "1970-01-01T08:00:00.000Z",
  "customArgs": null,
  "customDeps": null,
  "customImports": null,
  "customLocalRepo": null,
  "customRepos": null,
  "customSparkConf": null,
  "customVars": null,
  "id": "d9667836-4d0e-43a2-90cf-758f7ac554c2",
  "kernelspec": {
   "display_name": "Scala",
   "language": "scala",
   "name": "scala"
  },
  "language_info": {
   "codemirror_mode": "text/x-scala",
   "file_extension": ".scala",
   "mimetype": "",
   "name": "Scala",
   "nbconverter_exporter": "",
   "version": "2.11.12"
  },
  "name": "XML.snb.ipynb",
  "sparkNotebook": null,
  "trusted": true,
  "user_save_timestamp": "2019-03-07T16:24:26.048Z"
 },
 "nbformat": 4,
 "nbformat_minor": 2
}
