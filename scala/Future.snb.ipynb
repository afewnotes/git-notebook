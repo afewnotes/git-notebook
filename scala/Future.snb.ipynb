{
  "metadata" : {
    "id" : "872743ae-8a4e-499c-9b3b-87ad151d224a",
    "name" : "Future",
    "user_save_timestamp" : "1970-01-01T08:00:00.000Z",
    "auto_save_timestamp" : "1970-01-01T08:00:00.000Z",
    "language_info" : {
      "name" : "scala",
      "file_extension" : "scala",
      "codemirror_mode" : "text/x-scala"
    },
    "trusted" : true,
    "sparkNotebook" : null,
    "customLocalRepo" : null,
    "customRepos" : null,
    "customDeps" : null,
    "customImports" : null,
    "customArgs" : null,
    "customSparkConf" : null,
    "customVars" : null
  },
  "cells" : [ ]
}