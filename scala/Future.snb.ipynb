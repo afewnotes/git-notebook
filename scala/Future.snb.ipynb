{
  "metadata" : {
    "id" : "872743ae-8a4e-499c-9b3b-87ad151d224a",
    "name" : "Future",
    "user_save_timestamp" : "1970-01-01T08:00:00.000Z",
    "auto_save_timestamp" : "1970-01-01T08:00:00.000Z",
    "language_info" : {
      "name" : "scala",
      "file_extension" : "scala",
      "codemirror_mode" : "text/x-scala"
    },
    "trusted" : true,
    "sparkNotebook" : null,
    "customLocalRepo" : null,
    "customRepos" : null,
    "customDeps" : null,
    "customImports" : null,
    "customArgs" : null,
    "customSparkConf" : null,
    "customVars" : null
  },
  "cells" : [ {
    "metadata" : {
      "id" : "DF69EE3E831343CF90C64B35AC11D8A8"
    },
    "cell_type" : "markdown",
    "source" : "#### Running Tasks in the Future"
  }, {
    "metadata" : {
      "trusted" : true,
      "input_collapsed" : false,
      "collapsed" : false,
      "id" : "E1D386C3A8064AF189737D64780527E8"
    },
    "cell_type" : "code",
    "source" : [ "import java.time._\n", "import scala.concurrent._\n", "import ExecutionContext.Implicits.global // a global thread pool, just for demos\n", "\n", "Future {\n", "  Thread.sleep(10000)\n", "  println(s\"this is the future at ${LocalTime.now}\")  // will be printed in the server's log\n", "}\n", "\n", "println(s\"this is the present at ${LocalTime.now}\")" ],
    "outputs" : [ {
      "name" : "stdout",
      "output_type" : "stream",
      "text" : "this is the present at 17:17:39.829\nimport java.time._\nimport scala.concurrent._\nimport ExecutionContext.Implicits.global\n"
    }, {
      "metadata" : { },
      "data" : {
        "text/html" : ""
      },
      "output_type" : "execute_result",
      "execution_count" : 3,
      "time" : "Took: 1.549s, at 2019-03-08 17:17"
    } ]
  }, {
    "metadata" : {
      "id" : "6FD901D9B0EE4668AF24DA65B94EEF5C"
    },
    "cell_type" : "markdown",
    "source" : "> Scala uses `ExecutionContext` instead of Java's `Executor` "
  }, {
    "metadata" : {
      "trusted" : true,
      "input_collapsed" : false,
      "collapsed" : false,
      "id" : "CBABAEBBE3AF4C749323E3D39885B6EC"
    },
    "cell_type" : "code",
    "source" : [ "Future { for (i <- 1 to 10) { print(\"a\"); Thread.sleep(20) } }\n", "Future { for (i <- 1 to 10) { print(\"b\"); Thread.sleep(20) } } // ?" ],
    "outputs" : [ {
      "name" : "stdout",
      "output_type" : "stream",
      "text" : "res3: scala.concurrent.Future[Unit] = List()\n"
    }, {
      "metadata" : { },
      "data" : {
        "text/html" : "List()"
      },
      "output_type" : "execute_result",
      "execution_count" : 2,
      "time" : "Took: 1.172s, at 2019-03-08 17:17"
    } ]
  }, {
    "metadata" : {
      "trusted" : true,
      "input_collapsed" : false,
      "collapsed" : false,
      "id" : "0531B469B8714874872310A8E5C36016"
    },
    "cell_type" : "code",
    "source" : [ "val f = Future {\n", "  Thread.sleep(10000)\n", "  42\n", "}" ],
    "outputs" : [ {
      "name" : "stdout",
      "output_type" : "stream",
      "text" : "f: scala.concurrent.Future[Int] = List()\n"
    }, {
      "metadata" : { },
      "data" : {
        "text/html" : ""
      },
      "output_type" : "execute_result",
      "execution_count" : 4,
      "time" : "Took: 0.777s, at 2019-03-08 17:18"
    } ]
  }, {
    "metadata" : {
      "trusted" : true,
      "input_collapsed" : false,
      "collapsed" : false,
      "id" : "6D0BEC1FCA5C433A83650641055D29FB"
    },
    "cell_type" : "code",
    "source" : [ "f //different result " ],
    "outputs" : [ {
      "name" : "stdout",
      "output_type" : "stream",
      "text" : "res10: scala.concurrent.Future[Int] = Success(42)\n"
    }, {
      "metadata" : { },
      "data" : {
        "text/html" : "Success(42)"
      },
      "output_type" : "execute_result",
      "execution_count" : 6,
      "time" : "Took: 0.796s, at 2019-03-08 17:18"
    } ]
  }, {
    "metadata" : {
      "trusted" : true,
      "input_collapsed" : false,
      "collapsed" : false,
      "id" : "92042B9BB8EC4F73A168717B16863404"
    },
    "cell_type" : "code",
    "source" : [ "val f2 = Future {\n", "  if (LocalTime.now.getHour > 12)\n", "    throw new Exception(\"too late\")\n", "  42\n", "}" ],
    "outputs" : [ {
      "name" : "stdout",
      "output_type" : "stream",
      "text" : "f2: scala.concurrent.Future[Int] = List()\n"
    }, {
      "metadata" : { },
      "data" : {
        "text/html" : ""
      },
      "output_type" : "execute_result",
      "execution_count" : 7,
      "time" : "Took: 0.713s, at 2019-03-08 17:20"
    } ]
  }, {
    "metadata" : {
      "trusted" : true,
      "input_collapsed" : false,
      "collapsed" : false,
      "id" : "F80507E79E194DEBA4C98FAF0AD90916"
    },
    "cell_type" : "code",
    "source" : [ "f2 // evaluate" ],
    "outputs" : [ {
      "name" : "stdout",
      "output_type" : "stream",
      "text" : "res13: scala.concurrent.Future[Int] = Failure(java.lang.Exception: too late)\n"
    }, {
      "metadata" : { },
      "data" : {
        "text/html" : "Failure(java.lang.Exception: too late)"
      },
      "output_type" : "execute_result",
      "execution_count" : 8,
      "time" : "Took: 0.721s, at 2019-03-08 17:20"
    } ]
  }, {
    "metadata" : {
      "id" : "55C356B1F908464BB7BF75B14E62D5C4"
    },
    "cell_type" : "markdown",
    "source" : "#### Waiting for Results"
  }, {
    "metadata" : {
      "trusted" : true,
      "input_collapsed" : false,
      "collapsed" : false,
      "id" : "504E2227BED04E739B8F9A3CDCDBC668"
    },
    "cell_type" : "code",
    "source" : [ "import scala.concurrent.duration._\n", "\n", "val f = Future { Thread.sleep(10000); 42}\n", "val result = Await.result(f, 10.seconds) // blocking" ],
    "outputs" : [ {
      "name" : "stdout",
      "output_type" : "stream",
      "text" : "import scala.concurrent.duration._\nf: scala.concurrent.Future[Int] = Success(42)\nresult: Int = 42\n"
    }, {
      "metadata" : { },
      "data" : {
        "text/html" : ""
      },
      "output_type" : "execute_result",
      "execution_count" : 9,
      "time" : "Took: 10.824s, at 2019-03-08 17:29"
    } ]
  }, {
    "metadata" : {
      "trusted" : true,
      "input_collapsed" : false,
      "collapsed" : false,
      "id" : "0183D943D2754128B54189F995EA4C32"
    },
    "cell_type" : "code",
    "source" : [ "10.seconds // duration conversion method" ],
    "outputs" : [ {
      "name" : "stdout",
      "output_type" : "stream",
      "text" : "res18: scala.concurrent.duration.FiniteDuration = 10 seconds\n"
    }, {
      "metadata" : { },
      "data" : {
        "text/html" : "10 seconds"
      },
      "output_type" : "execute_result",
      "execution_count" : 11,
      "time" : "Took: 0.691s, at 2019-03-08 17:32"
    } ]
  }, {
    "metadata" : {
      "trusted" : true,
      "input_collapsed" : false,
      "collapsed" : false,
      "id" : "76F8A313B7234608B7FECF1417387E29"
    },
    "cell_type" : "code",
    "source" : [ "\n", "val f = Future { Thread.sleep(10000); 42}\n", "val result = Await.result(f, 1.seconds) // task not ready, exception thrown" ],
    "outputs" : [ {
      "name" : "stdout",
      "output_type" : "stream",
      "text" : "java.util.concurrent.TimeoutException: Futures timed out after [1 second]\n  at scala.concurrent.impl.Promise$DefaultPromise.ready(Promise.scala:219)\n  at scala.concurrent.impl.Promise$DefaultPromise.result(Promise.scala:223)\n  at scala.concurrent.Await$$anonfun$result$1.apply(package.scala:190)\n  at akka.dispatch.MonitorableThreadFactory$AkkaForkJoinWorkerThread$$anon$3.block(ThreadPoolBuilder.scala:167)\n  at scala.concurrent.forkjoin.ForkJoinPool.managedBlock(ForkJoinPool.java:3640)\n  at akka.dispatch.MonitorableThreadFactory$AkkaForkJoinWorkerThread.blockOn(ThreadPoolBuilder.scala:165)\n  at scala.concurrent.Await$.result(package.scala:190)\n  ... 73 elided\n"
    } ]
  }, {
    "metadata" : {
      "trusted" : true,
      "input_collapsed" : false,
      "collapsed" : false,
      "id" : "975929777C9A44FB8D77547128E92473"
    },
    "cell_type" : "code",
    "source" : [ "\n", "val f = Future { Thread.sleep(10000); 42}\n", "Await.ready(f, 10.seconds)  // wait \n", "f.value" ],
    "outputs" : [ ]
  } ],
  "nbformat" : 4
}