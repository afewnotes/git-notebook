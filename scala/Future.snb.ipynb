{
  "metadata" : {
    "id" : "872743ae-8a4e-499c-9b3b-87ad151d224a",
    "name" : "Future",
    "user_save_timestamp" : "1970-01-01T08:00:00.000Z",
    "auto_save_timestamp" : "1970-01-01T08:00:00.000Z",
    "language_info" : {
      "name" : "scala",
      "file_extension" : "scala",
      "codemirror_mode" : "text/x-scala"
    },
    "trusted" : true,
    "sparkNotebook" : null,
    "customLocalRepo" : null,
    "customRepos" : null,
    "customDeps" : null,
    "customImports" : null,
    "customArgs" : null,
    "customSparkConf" : null,
    "customVars" : null
  },
  "cells" : [ {
    "metadata" : {
      "id" : "DF69EE3E831343CF90C64B35AC11D8A8"
    },
    "cell_type" : "markdown",
    "source" : "#### Running Tasks in the Future"
  }, {
    "metadata" : {
      "trusted" : true,
      "input_collapsed" : false,
      "collapsed" : false,
      "id" : "E9E45FAA267E4B5294360192CED17031"
    },
    "cell_type" : "code",
    "source" : [ "import java.time._\n", "import scala.concurrent._\n", "import ExecutionContext.Implicits.global // a global thread pool, just for demos\n", "\n", "Future {\n", "  Thread.sleep(10000)\n", "  println(s\"this is the future at ${LocalTime.now}\")  // will be printed in the server's log\n", "}\n", "\n", "println(s\"this is the present at ${LocalTime.now}\")" ],
    "outputs" : [ {
      "name" : "stdout",
      "output_type" : "stream",
      "text" : "this is the present at 17:02:56.222\nimport java.time._\nimport scala.concurrent._\nimport ExecutionContext.Implicits.global\n"
    }, {
      "metadata" : { },
      "data" : {
        "text/html" : ""
      },
      "output_type" : "execute_result",
      "execution_count" : 11,
      "time" : "Took: 1.327s, at 2019-03-08 17:02"
    } ]
  }, {
    "metadata" : {
      "id" : "6FD901D9B0EE4668AF24DA65B94EEF5C"
    },
    "cell_type" : "markdown",
    "source" : "> Scala uses `ExecutionContext` instead of Java's `Executor` "
  }, {
    "metadata" : {
      "trusted" : true,
      "input_collapsed" : false,
      "collapsed" : false,
      "id" : "2075FB3C3A4D469F85C1ADA7D4A51A56"
    },
    "cell_type" : "code",
    "source" : [ "Future { for (i <- 1 to 100) { print(\"a\"); Thread.sleep(20) } }\n", "Future { for (i <- 1 to 100) { print(\"b\"); Thread.sleep(20) } }" ],
    "outputs" : [ {
      "name" : "stdout",
      "output_type" : "stream",
      "text" : "ares19: scala.concurrent.Future[Unit] = List()\n"
    }, {
      "metadata" : { },
      "data" : {
        "text/html" : "List()"
      },
      "output_type" : "execute_result",
      "execution_count" : 10,
      "time" : "Took: 0.784s, at 2019-03-08 17:02"
    } ]
  } ],
  "nbformat" : 4
}