{
 "cells": [
  {
   "cell_type": "markdown",
   "metadata": {},
   "source": [
    "### Topics"
   ]
  },
  {
   "cell_type": "code",
   "execution_count": 2,
   "metadata": {},
   "outputs": [
    {
     "data": {
      "text/plain": [
       "import scala.concurrent._\n",
       "import scala.concurrent.ExecutionContext.Implicits.global\n",
       "import scala.util._\n"
      ]
     },
     "execution_count": 2,
     "metadata": {},
     "output_type": "execute_result"
    }
   ],
   "source": [
    "import scala.concurrent._\n",
    "import scala.concurrent.ExecutionContext.Implicits.global\n",
    "import scala.util._"
   ]
  },
  {
   "cell_type": "markdown",
   "metadata": {
    "id": "DF69EE3E831343CF90C64B35AC11D8A8"
   },
   "source": [
    "#### Running Tasks in the Future"
   ]
  },
  {
   "cell_type": "code",
   "execution_count": 29,
   "metadata": {
    "collapsed": false,
    "id": "E1D386C3A8064AF189737D64780527E8",
    "input_collapsed": false
   },
   "outputs": [
    {
     "name": "stdout",
     "output_type": "stream",
     "text": [
      "this is the present at 07:57:33.945\n"
     ]
    },
    {
     "data": {
      "text/plain": [
       "scala.concurrent.ExecutionContext$Implicits$@6a4d0032"
      ]
     },
     "execution_count": 29,
     "metadata": {},
     "output_type": "execute_result"
    }
   ],
   "source": [
    "import java.time._\n",
    "\n",
    "Future {\n",
    "  Thread.sleep(10000)\n",
    "  println(s\"this is the future at ${LocalTime.now}\")  // will be printed in the server's log\n",
    "}\n",
    "\n",
    "println(s\"this is the present at ${LocalTime.now}\")"
   ]
  },
  {
   "cell_type": "markdown",
   "metadata": {
    "id": "6FD901D9B0EE4668AF24DA65B94EEF5C"
   },
   "source": [
    "> Scala uses `ExecutionContext` instead of Java's `Executor` "
   ]
  },
  {
   "cell_type": "code",
   "execution_count": 22,
   "metadata": {
    "collapsed": false,
    "id": "CBABAEBBE3AF4C749323E3D39885B6EC",
    "input_collapsed": false
   },
   "outputs": [
    {
     "name": "stdout",
     "output_type": "stream",
     "text": [
      "b"
     ]
    },
    {
     "data": {
      "text/plain": [
       "Future(<not completed>)"
      ]
     },
     "execution_count": 22,
     "metadata": {},
     "output_type": "execute_result"
    },
    {
     "name": "stdout",
     "output_type": "stream",
     "text": [
      "bbbbbbbbb"
     ]
    }
   ],
   "source": [
    "Future { for (i <- 1 to 10) { print(\"a\"); Thread.sleep(20) } }\n",
    "Future { for (i <- 1 to 10) { print(\"b\"); Thread.sleep(20) } } // ?"
   ]
  },
  {
   "cell_type": "code",
   "execution_count": 29,
   "metadata": {
    "collapsed": false,
    "id": "0531B469B8714874872310A8E5C36016",
    "input_collapsed": false
   },
   "outputs": [
    {
     "data": {
      "text/plain": [
       "Future(<not completed>)"
      ]
     },
     "execution_count": 29,
     "metadata": {},
     "output_type": "execute_result"
    }
   ],
   "source": [
    "val f = Future {\n",
    "  Thread.sleep(10000)\n",
    "  42\n",
    "}"
   ]
  },
  {
   "cell_type": "code",
   "execution_count": 31,
   "metadata": {
    "collapsed": false,
    "id": "6D0BEC1FCA5C433A83650641055D29FB",
    "input_collapsed": false
   },
   "outputs": [
    {
     "data": {
      "text/plain": [
       "Future(Success(42))"
      ]
     },
     "execution_count": 31,
     "metadata": {},
     "output_type": "execute_result"
    }
   ],
   "source": [
    "f //different result "
   ]
  },
  {
   "cell_type": "code",
   "execution_count": 34,
   "metadata": {
    "collapsed": false,
    "id": "92042B9BB8EC4F73A168717B16863404",
    "input_collapsed": false
   },
   "outputs": [
    {
     "data": {
      "text/plain": [
       "Future(Failure(java.lang.Exception: too late))"
      ]
     },
     "execution_count": 34,
     "metadata": {},
     "output_type": "execute_result"
    }
   ],
   "source": [
    "val f2 = Future {\n",
    "  if (LocalTime.now.getHour != 0)\n",
    "    throw new Exception(\"too late\")\n",
    "  42\n",
    "}"
   ]
  },
  {
   "cell_type": "code",
   "execution_count": 35,
   "metadata": {
    "collapsed": false,
    "id": "F80507E79E194DEBA4C98FAF0AD90916",
    "input_collapsed": false
   },
   "outputs": [
    {
     "data": {
      "text/plain": [
       "Future(Failure(java.lang.Exception: too late))"
      ]
     },
     "execution_count": 35,
     "metadata": {},
     "output_type": "execute_result"
    }
   ],
   "source": [
    "f2 // evaluate"
   ]
  },
  {
   "cell_type": "markdown",
   "metadata": {
    "id": "55C356B1F908464BB7BF75B14E62D5C4"
   },
   "source": [
    "#### Waiting for Results"
   ]
  },
  {
   "cell_type": "code",
   "execution_count": 11,
   "metadata": {
    "collapsed": false,
    "id": "504E2227BED04E739B8F9A3CDCDBC668",
    "input_collapsed": false
   },
   "outputs": [
    {
     "data": {
      "text/plain": [
       "42"
      ]
     },
     "execution_count": 11,
     "metadata": {},
     "output_type": "execute_result"
    }
   ],
   "source": [
    "import scala.concurrent.duration._\n",
    "\n",
    "val f = Future { Thread.sleep(10000); 42}\n",
    "val result = Await.result(f, 10.seconds) // blocking"
   ]
  },
  {
   "cell_type": "code",
   "execution_count": 12,
   "metadata": {
    "collapsed": false,
    "id": "0183D943D2754128B54189F995EA4C32",
    "input_collapsed": false
   },
   "outputs": [
    {
     "data": {
      "text/plain": [
       "10 seconds"
      ]
     },
     "execution_count": 12,
     "metadata": {},
     "output_type": "execute_result"
    }
   ],
   "source": [
    "10.seconds // duration conversion method"
   ]
  },
  {
   "cell_type": "code",
   "execution_count": 13,
   "metadata": {
    "collapsed": false,
    "id": "76F8A313B7234608B7FECF1417387E29",
    "input_collapsed": false
   },
   "outputs": [
    {
     "ename": "java.util.concurrent.TimeoutException",
     "evalue": " Futures timed out after [1 second]",
     "output_type": "error",
     "text": "java.util.concurrent.TimeoutException: Futures timed out after [1 second]\n  at scala.concurrent.impl.Promise$DefaultPromise.ready(Promise.scala:223)\n  at scala.concurrent.impl.Promise$DefaultPromise.result(Promise.scala:227)\n  at scala.concurrent.Await$$anonfun$result$1.apply(package.scala:190)\n  at scala.concurrent.BlockContext$DefaultBlockContext$.blockOn(BlockContext.scala:53)\n  at scala.concurrent.Await$.result(package.scala:190)\n  ... 50 elided\n",
     "traceback": [
      "\u001b[1;31mjava.util.concurrent.TimeoutException: Futures timed out after [1 second]\u001b[0;0m",
      "\u001b[1;31m  at scala.concurrent.impl.Promise$DefaultPromise.ready(Promise.scala:223)\u001b[0;0m",
      "\u001b[1;31m  at scala.concurrent.impl.Promise$DefaultPromise.result(Promise.scala:227)\u001b[0;0m",
      "\u001b[1;31m  at scala.concurrent.Await$$anonfun$result$1.apply(package.scala:190)\u001b[0;0m",
      "\u001b[1;31m  at scala.concurrent.BlockContext$DefaultBlockContext$.blockOn(BlockContext.scala:53)\u001b[0;0m",
      "\u001b[1;31m  at scala.concurrent.Await$.result(package.scala:190)\u001b[0;0m",
      "\u001b[1;31m  ... 50 elided\u001b[0;0m"
     ]
    }
   ],
   "source": [
    "val f = Future { Thread.sleep(10000); 42}\n",
    "val result = Await.result(f, 1.seconds) // task not ready, exception thrown"
   ]
  },
  {
   "cell_type": "code",
   "execution_count": 16,
   "metadata": {
    "collapsed": false,
    "id": "19CCFEA84D3D45C284F7A3B9AD485FCD",
    "input_collapsed": false
   },
   "outputs": [
    {
     "data": {
      "text/plain": [
       "Success(42)"
      ]
     },
     "execution_count": 16,
     "metadata": {},
     "output_type": "execute_result"
    }
   ],
   "source": [
    "val f = Future { Thread.sleep(10000); 42}\n",
    "Await.ready(f, 10.seconds)  // wait after ready, get value \n",
    "val Some(t) = f.value // value return Option[Try[T]], t is an object of Try (holds the result or exception)"
   ]
  },
  {
   "cell_type": "markdown",
   "metadata": {
    "id": "7F778D24742C4D13927E0112EB700B0B"
   },
   "source": [
    "> won't use `Await`(means blocking) much, use callback"
   ]
  },
  {
   "cell_type": "markdown",
   "metadata": {
    "id": "F915733F75E54BD997F4D7C2B89D56A5"
   },
   "source": [
    "#### Try"
   ]
  },
  {
   "cell_type": "markdown",
   "metadata": {
    "id": "D9D3182CD6084CE28526C3DB8C834AEC"
   },
   "source": [
    "Try[T]\n",
    "- `Success(v)` v: T\n",
    "- `Failure(ex)` ex: Throwable"
   ]
  },
  {
   "cell_type": "code",
   "execution_count": 17,
   "metadata": {
    "collapsed": false,
    "id": "E92C21CE76CD4F8A96D52B582B97A7F7",
    "input_collapsed": false
   },
   "outputs": [
    {
     "name": "stdout",
     "output_type": "stream",
     "text": [
      "answer is 123\n"
     ]
    },
    {
     "data": {
      "text/plain": [
       "null"
      ]
     },
     "execution_count": 17,
     "metadata": {},
     "output_type": "execute_result"
    }
   ],
   "source": [
    "import scala.util._\n",
    "Try(\"123\".toInt) match {\n",
    "  case Success(v) => println(s\"answer is $v\")\n",
    "  case Failure(ex) => println(ex.getMessage)\n",
    "}"
   ]
  },
  {
   "cell_type": "markdown",
   "metadata": {},
   "source": [
    "#### Callbacks"
   ]
  },
  {
   "cell_type": "markdown",
   "metadata": {},
   "source": [
    "> the future should report its result to a callback function"
   ]
  },
  {
   "cell_type": "code",
   "execution_count": 12,
   "metadata": {},
   "outputs": [
    {
     "data": {
      "text/plain": [
       "null"
      ]
     },
     "execution_count": 12,
     "metadata": {},
     "output_type": "execute_result"
    },
    {
     "name": "stdout",
     "output_type": "stream",
     "text": [
      "answer is 42\n"
     ]
    }
   ],
   "source": [
    "import scala.math._\n",
    "\n",
    "val f = Future {\n",
    "    Thread.sleep(10000)\n",
    "    if (random < 0.5) throw new Exception\n",
    "    42\n",
    "}\n",
    "f.onComplete {\n",
    "    case Success(v) => println(s\"answer is $v\")\n",
    "    case Failure(ex) => println(ex.getMessage)\n",
    "}"
   ]
  },
  {
   "cell_type": "markdown",
   "metadata": {},
   "source": [
    "> avoid blocking, but nested callbacks produce **callback hell**"
   ]
  },
  {
   "cell_type": "code",
   "execution_count": 13,
   "metadata": {},
   "outputs": [
    {
     "data": {
      "text/plain": [
       "null"
      ]
     },
     "execution_count": 13,
     "metadata": {},
     "output_type": "execute_result"
    },
    {
     "name": "stdout",
     "output_type": "stream",
     "text": [
      "result: 3\n"
     ]
    }
   ],
   "source": [
    "val f1 = Future { Thread.sleep(1000) ; 1}\n",
    "val f2 = Future { Thread.sleep(2000) ; 2}\n",
    "f1 onComplete {\n",
    "    case Success(v1) => {\n",
    "        f2 onComplete {\n",
    "            case Success(v2) => {\n",
    "                val v3 = v1 + v2;\n",
    "                println(s\"result: $v3\")\n",
    "            }\n",
    "            case Failure(ex) => println(ex.getMessage)\n",
    "        }\n",
    "    }\n",
    "    case Failure(ex) => println(ex.getMessage)\n",
    "}"
   ]
  },
  {
   "cell_type": "markdown",
   "metadata": {},
   "source": [
    "#### Composing Future Tasks"
   ]
  },
  {
   "cell_type": "markdown",
   "metadata": {},
   "source": [
    "> Think of a `Future` as a collection with one element."
   ]
  },
  {
   "cell_type": "code",
   "execution_count": 24,
   "metadata": {},
   "outputs": [
    {
     "data": {
      "text/plain": [
       "Future(<not completed>)"
      ]
     },
     "execution_count": 24,
     "metadata": {},
     "output_type": "execute_result"
    }
   ],
   "source": [
    "val f1 = Future { Thread.sleep(1000) ; 1}\n",
    "val f2 = Future { Thread.sleep(2000) ; 2}\n",
    "// val combined = f1.map(v1 => f2.map(v2 => v1 + v2)) // Future[Future[Int]]\n",
    "val combined = f1.flatMap(v1 => f2.map(v2 => v1 + v2))\n",
    "// use for expression\n",
    "val combined2 = for (v1 <- f1; v2 <- f2) yield v1 + v2\n",
    "// for expression with guards\n",
    "val combined3 = for (v1 <- f1; v2 <- f2 if v1 > 0) yield v1 + v2"
   ]
  },
  {
   "cell_type": "markdown",
   "metadata": {},
   "source": [
    "> `map`/`flatMap` implementions will take care of errors"
   ]
  },
  {
   "cell_type": "markdown",
   "metadata": {},
   "source": [
    "Ordered execution (delay the creation, use functions)"
   ]
  },
  {
   "cell_type": "code",
   "execution_count": 44,
   "metadata": {},
   "outputs": [
    {
     "data": {
      "text/plain": [
       "Future(<not completed>)"
      ]
     },
     "execution_count": 44,
     "metadata": {},
     "output_type": "execute_result"
    }
   ],
   "source": [
    "val f1 = Future { println(\"invoked f1\"); Thread.sleep(1000); 1}\n",
    "def f2 = Future { println(\"invoked f2\"); Thread.sleep(2000); 2} // def will be evaluated in for expression\n",
    "val combined = for (v1 <- f1; v2 <- f2) yield v1 + v2"
   ]
  },
  {
   "cell_type": "markdown",
   "metadata": {},
   "source": [
    "> [An asynchronous programming facility for Scala](https://github.com/scala/scala-async)\n",
    "\n",
    "```scala\n",
    "val combined = async { await(future1) + await(future2) }\n",
    "```"
   ]
  },
  {
   "cell_type": "markdown",
   "metadata": {},
   "source": [
    "#### Promises"
   ]
  },
  {
   "cell_type": "markdown",
   "metadata": {},
   "source": [
    "- `Future` object is read-only, value is set implicitly\n",
    "- `Promise` value can be set explicitly"
   ]
  },
  {
   "cell_type": "code",
   "execution_count": 31,
   "metadata": {},
   "outputs": [
    {
     "name": "stdout",
     "output_type": "stream",
     "text": [
      "Future(<not completed>)\n",
      "Future(<not completed>)\n"
     ]
    },
    {
     "data": {
      "text/plain": [
       "null"
      ]
     },
     "execution_count": 31,
     "metadata": {},
     "output_type": "execute_result"
    }
   ],
   "source": [
    "\n",
    "import scala.concurrent._\n",
    "import scala.concurrent.ExecutionContext.Implicits.global\n",
    "import scala.util._\n",
    "\n",
    "def compute(arg: String) = Future {\n",
    "    val n = arg.toInt\n",
    "//     Thread.sleep(1000)\n",
    "    n\n",
    "}\n",
    "\n",
    "// more flexiable producer (multi promise / multi tasks...)\n",
    "def compute2(arg: String) = {\n",
    "    val p = Promise[Int]()\n",
    "    Future {\n",
    "        val n = arg.toInt\n",
    "        p.success(n)  // set result , the associated Future is completed\n",
    "//         p.failure(ex) // set exception\n",
    "        Thread.sleep(1000)\n",
    "    }\n",
    "    p.future // yields the associated Future object\n",
    "}\n",
    "\n",
    "println(compute(\"123\"))\n",
    "println(compute2(\"123\"))"
   ]
  },
  {
   "cell_type": "markdown",
   "metadata": {},
   "source": [
    "---"
   ]
  },
  {
   "cell_type": "markdown",
   "metadata": {},
   "source": [
    "### Exercises"
   ]
  },
  {
   "cell_type": "code",
   "execution_count": 57,
   "metadata": {},
   "outputs": [
    {
     "data": {
      "text/plain": [
       "Future(Success(123.0))"
      ]
     },
     "execution_count": 57,
     "metadata": {},
     "output_type": "execute_result"
    }
   ],
   "source": [
    "/**\n",
    " Write a function doInOrder that, given two functions f: T => Future[U] and g: U\n",
    "=> Future[V], produces a function T => Future[U] that, for a given t, eventually\n",
    "yields g(f(t))\n",
    "*/\n",
    "\n",
    "def doInOrder[T, U, V](f: T => Future[U], g: U => Future[V]): T => Future[V] = {\n",
    "    t => f(t).flatMap(u => g(u))\n",
    "}\n",
    "\n",
    "def f = (t: String) => Future {t.toInt}\n",
    "def g = (u: Int) => Future {u.toDouble}\n",
    "\n",
    "doInOrder(f,g)(\"123\")"
   ]
  },
  {
   "cell_type": "code",
   "execution_count": 129,
   "metadata": {},
   "outputs": [
    {
     "data": {
      "text/plain": [
       "Future(Success(hello123))"
      ]
     },
     "execution_count": 129,
     "metadata": {},
     "output_type": "execute_result"
    }
   ],
   "source": [
    "/**\n",
    "Repeat the preceding exercise for any sequence of functions of type T => Future[T]\n",
    "*/\n",
    "\n",
    "def doInOrder[T](fs: Seq[T => Future[T]]): T => Future[T] = {\n",
    "    t => fs match {\n",
    "        case head :: Nil => head(t)\n",
    "        case head :: tail => head(t).flatMap(doInOrder(tail)(_))\n",
    "    }\n",
    "}\n",
    "\n",
    "def a = (t: String) => Future {t + \"1\"}\n",
    "def b = (t: String) => Future {t + \"2\"}\n",
    "def c = (t: String) => Future {t + \"3\"}\n",
    "doInOrder(Seq(a,b,c))(\"hello\")"
   ]
  },
  {
   "cell_type": "code",
   "execution_count": 26,
   "metadata": {},
   "outputs": [
    {
     "data": {
      "text/plain": [
       "Future(Success((10,10)))"
      ]
     },
     "execution_count": 26,
     "metadata": {},
     "output_type": "execute_result"
    }
   ],
   "source": [
    "/**\n",
    "Write a function doTogether that, given two functions f: T => Future[U] and g: U\n",
    "=> Future[V], produces a function T => Future[(U, V)], running the two\n",
    "computations in parallel and, for a given t, eventually yielding (f(t), g(t))\n",
    "*/\n",
    "def doTogether[T,U,V](f: T => Future[U], g: T => Future[V]): T => Future[(U, V)] = {\n",
    "    t => for (u <- f(t); v <- g(t)) yield (u,v)\n",
    "}\n",
    "\n",
    "def a = (t: String) => Future {t.toInt}\n",
    "def b = (t: String) => Future {t.toLong}\n",
    "doTogether(a, b)(\"10\")"
   ]
  },
  {
   "cell_type": "code",
   "execution_count": 128,
   "metadata": {},
   "outputs": [
    {
     "data": {
      "text/plain": [
       "Future(Success(List(hello1, hello2, hello3)))"
      ]
     },
     "execution_count": 128,
     "metadata": {},
     "output_type": "execute_result"
    }
   ],
   "source": [
    "/**\n",
    "Write a function that receives a sequence of futures and returns a future that eventually yields a\n",
    "sequence of all results.\n",
    "*/\n",
    "\n",
    "import scala.util._\n",
    "def doSeq[T, U](fs: Seq[T => Future[U]]): T => Future[Seq[U]] = {\n",
    "    // Future.sequence converts Seq[Future[T]] to Future[Seq[T]]\n",
    "    t => Future.sequence(for(f <- fs) yield f(t))\n",
    "}\n",
    "\n",
    "def a = (t: String) => Future {t + \"1\"}\n",
    "def b = (t: String) => Future {t + \"2\"}\n",
    "def c = (t: String) => Future {t + \"3\"}\n",
    "doSeq(Seq(a,b,c))(\"hello\")"
   ]
  },
  {
   "cell_type": "code",
   "execution_count": 4,
   "metadata": {},
   "outputs": [
    {
     "data": {
      "text/plain": [
       "null"
      ]
     },
     "execution_count": 4,
     "metadata": {},
     "output_type": "execute_result"
    },
    {
     "name": "stdout",
     "output_type": "stream",
     "text": [
      "result:secret\n"
     ]
    }
   ],
   "source": [
    "/**\n",
    "Write a method\n",
    "Future[T] repeat(action: => T, until: T => Boolean)\n",
    "that asynchronously repeats the action until it produces a value that is accepted by the until\n",
    "predicate, which should also run asynchronously. Test with a function that reads a password\n",
    "from the console, and a function that simulates a validity check by sleeping for a second and\n",
    "then checking that the password is \"secret\". Hint: Use recursion.\n",
    "*/\n",
    "def repeat[T](action: => T, util: T => Boolean): Future[T] = {\n",
    "    import scala.annotation.tailrec\n",
    "    @tailrec def calc: T = {\n",
    "        val result = action\n",
    "        if (util(result)) {\n",
    "            result\n",
    "        } else {\n",
    "            calc\n",
    "        }\n",
    "    }\n",
    "    \n",
    "    Future[T] {\n",
    "        calc\n",
    "    }\n",
    "}\n",
    "\n",
    "def action = {\n",
    "    Seq(\"1\", \"2\", \"secret\")(2)\n",
    "}\n",
    "\n",
    "def util = (f: String) => f == \"secret\"\n",
    "\n",
    "repeat(action,util) onComplete {\n",
    "    case Success(v) => println(s\"result:$v\")\n",
    "    case Failure(ex) => println(s\"ex:${ex.getMessage}\")\n",
    "}"
   ]
  },
  {
   "cell_type": "code",
   "execution_count": 26,
   "metadata": {},
   "outputs": [
    {
     "data": {
      "text/plain": [
       "null"
      ]
     },
     "execution_count": 26,
     "metadata": {},
     "output_type": "execute_result"
    }
   ],
   "source": [
    "/**\n",
    "Write a program that counts the prime numbers between 1 and n, as reported by\n",
    "BigInt.isProbablePrime. Divide the interval into p parts, where p is the number of\n",
    "available processors. Count the primes in each part in concurrent futures and combine the\n",
    "results\n",
    "*/\n",
    "\n",
    "def countPrime(n: Int): Future[Int] = {\n",
    "    Future {\n",
    "        val processors = Runtime.getRuntime.availableProcessors()\n",
    "        println(processors)\n",
    "        (for (i <- 1 to n  if (math.BigInt(i).isProbablePrime(10)) ) yield 1).sum\n",
    "    }\n",
    "}\n",
    "\n",
    "countPrime(100) onComplete {\n",
    "    case Success(v) => println(s\"result:$v\")\n",
    "    case Failure(ex) => println(s\"ex:${ex.getMessage}\")\n",
    "}"
   ]
  }
 ],
 "metadata": {
  "auto_save_timestamp": "1970-01-01T08:00:00.000Z",
  "customArgs": null,
  "customDeps": null,
  "customImports": null,
  "customLocalRepo": null,
  "customRepos": null,
  "customSparkConf": null,
  "customVars": null,
  "id": "872743ae-8a4e-499c-9b3b-87ad151d224a",
  "kernelspec": {
   "display_name": "Scala",
   "language": "scala",
   "name": "scala"
  },
  "language_info": {
   "codemirror_mode": "text/x-scala",
   "file_extension": ".scala",
   "mimetype": "",
   "name": "Scala",
   "nbconverter_exporter": "",
   "version": "2.11.12"
  },
  "name": "Future",
  "sparkNotebook": null,
  "trusted": true,
  "user_save_timestamp": "1970-01-01T08:00:00.000Z"
 },
 "nbformat": 4,
 "nbformat_minor": 2
}
