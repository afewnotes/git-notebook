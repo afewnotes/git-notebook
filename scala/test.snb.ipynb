{
  "metadata" : {
    "id" : "d9667836-4d0e-43a2-90cf-758f7ac554c2",
    "name" : "test",
    "user_save_timestamp" : "1970-01-01T08:00:00.000Z",
    "auto_save_timestamp" : "1970-01-01T08:00:00.000Z",
    "language_info" : {
      "name" : "scala",
      "file_extension" : "scala",
      "codemirror_mode" : "text/x-scala"
    },
    "trusted" : true,
    "sparkNotebook" : null,
    "customLocalRepo" : null,
    "customRepos" : null,
    "customDeps" : null,
    "customImports" : null,
    "customArgs" : null,
    "customSparkConf" : null,
    "customVars" : null
  },
  "cells" : [ {
    "metadata" : {
      "trusted" : true,
      "input_collapsed" : false,
      "collapsed" : true,
      "id" : "D58E2DBEE7BE4DF38ADB11413C79AC95"
    },
    "cell_type" : "code",
    "source" : [ "" ],
    "outputs" : [ ]
  } ],
  "nbformat" : 4
}