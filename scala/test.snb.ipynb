{
  "metadata" : {
    "id" : "d9667836-4d0e-43a2-90cf-758f7ac554c2",
    "name" : "test",
    "user_save_timestamp" : "1970-01-01T08:00:00.000Z",
    "auto_save_timestamp" : "1970-01-01T08:00:00.000Z",
    "language_info" : {
      "name" : "scala",
      "file_extension" : "scala",
      "codemirror_mode" : "text/x-scala"
    },
    "trusted" : true,
    "sparkNotebook" : null,
    "customLocalRepo" : null,
    "customRepos" : null,
    "customDeps" : null,
    "customImports" : null,
    "customArgs" : null,
    "customSparkConf" : null,
    "customVars" : null
  },
  "cells" : [ {
    "metadata" : {
      "trusted" : true,
      "input_collapsed" : false,
      "collapsed" : false,
      "id" : "AAE22EB015D94DDD8B11E9CE223728BC"
    },
    "cell_type" : "code",
    "source" : [ "val doc = <html><head><title>Fred's Memoirs</title></head><body>test xml </body></html>" ],
    "outputs" : [ {
      "name" : "stdout",
      "output_type" : "stream",
      "text" : "doc: scala.xml.Elem = <html><head><title>Fred's Memoirs</title></head><body>test xml </body></html>\n"
    }, {
      "metadata" : { },
      "data" : {
        "text/html" : ""
      },
      "output_type" : "execute_result",
      "execution_count" : 1,
      "time" : "Took: 1.105s, at 2019-03-07 14:14"
    } ]
  } ],
  "nbformat" : 4
}