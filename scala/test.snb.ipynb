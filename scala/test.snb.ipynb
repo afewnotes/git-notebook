{
  "metadata" : {
    "id" : "f1ac57b1-23d5-4598-aca6-48db47b11ad2",
    "name" : "test",
    "user_save_timestamp" : "1970-01-01T08:00:00.000Z",
    "auto_save_timestamp" : "1970-01-01T08:00:00.000Z",
    "language_info" : {
      "name" : "scala",
      "file_extension" : "scala",
      "codemirror_mode" : "text/x-scala"
    },
    "trusted" : true,
    "sparkNotebook" : null,
    "customLocalRepo" : null,
    "customRepos" : null,
    "customDeps" : null,
    "customImports" : null,
    "customArgs" : null,
    "customSparkConf" : null,
    "customVars" : null
  },
  "cells" : [ ]
}