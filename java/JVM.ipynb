{
 "cells": [
  {
   "cell_type": "markdown",
   "metadata": {},
   "source": [
    "https://time.geekbang.org/column/intro/108"
   ]
  },
  {
   "cell_type": "markdown",
   "metadata": {},
   "source": [
    "### 代码运行"
   ]
  },
  {
   "cell_type": "markdown",
   "metadata": {},
   "source": [
    "![](images/JVM.png)"
   ]
  },
  {
   "cell_type": "markdown",
   "metadata": {},
   "source": [
    "* 加载后的类放于方法区，实际运行时执行方法区的代码\n",
    "* 每进入一个方法，虚拟机都会在当前线程的方法栈生成一个栈帧（存放局部变量、字节码的操作数）\n",
    "    * 大小提前计算好\n",
    "    * 不要求内存空间连续分布\n",
    "    * 不论执行成功还是失败都会出栈\n",
    "    * 组成\n",
    "        * 局部变量区（数组）\n",
    "            * `boolean`, `byte`, `char`, `short` 和 `int` 以及引用类型在栈上占用空间一样（一个数组单元）\n",
    "            * `double` 和 `float` 占用两个数组单元\n",
    "        * 字节码操作数栈\n",
    "            * 算数计算几乎全部依赖操作数栈"
   ]
  },
  {
   "cell_type": "markdown",
   "metadata": {},
   "source": [
    "### 编译"
   ]
  },
  {
   "cell_type": "markdown",
   "metadata": {},
   "source": [
    "* 字节码 -> 机器码\n",
    "    * 解释执行，逐条字节码翻译执行；无需等待编译\n",
    "    * 即时执行 JIT，将方法包含的所有字节码编译成机器码后执行；执行速度更快；\n",
    "        * 即时编译完成的机器码会逐渐替换解释执行\n",
    "    * HotSpot 内置即时编译器 \n",
    "        * C1，Client 编译器，面向客户端 GUI 程序\n",
    "        * C2，Server 编译器，面向服务器\n",
    "        * Graal(Java 10 引入)\n",
    "        \n",
    "        \n",
    "> Java 7 开始 默认采用分层编译，热点方法C1编译，热点方法中的热点C2编译；\n",
    "> 即时编译放在额外线程执行，根据CPU数量设置，按1:2分配C1，C2;"
   ]
  },
  {
   "cell_type": "markdown",
   "metadata": {},
   "source": [
    "![](images/执行.png)"
   ]
  }
 ],
 "metadata": {
  "kernelspec": {
   "display_name": "Java",
   "language": "java",
   "name": "java"
  },
  "language_info": {
   "codemirror_mode": "text/x-java",
   "file_extension": ".java",
   "mimetype": "",
   "name": "Java",
   "nbconverter_exporter": "",
   "version": "11.0.1-internal"
  },
  "widgets": {
   "application/vnd.jupyter.widget-state+json": {
    "state": {},
    "version_major": 2,
    "version_minor": 0
   }
  }
 },
 "nbformat": 4,
 "nbformat_minor": 4
}
